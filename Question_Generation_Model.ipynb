{
  "nbformat": 4,
  "nbformat_minor": 0,
  "metadata": {
    "colab": {
      "name": "Question_Generation_Model.ipynb",
      "provenance": [],
      "collapsed_sections": []
    },
    "kernelspec": {
      "name": "python3",
      "display_name": "Python 3"
    }
  },
  "cells": [
    {
      "cell_type": "code",
      "metadata": {
        "id": "lXJWlUf_M6Xp"
      },
      "source": [
        "#import spacy.cli\n",
        "#spacy.cli.download(\"en_core_web_lg\")"
      ],
      "execution_count": null,
      "outputs": []
    },
    {
      "cell_type": "code",
      "metadata": {
        "id": "h805-L_NVk1k"
      },
      "source": [
        "#!gsutil -q -m cp gs://my-bucket-name/en_core_web_lg /content/drive/My\\ Drive/"
      ],
      "execution_count": null,
      "outputs": []
    },
    {
      "cell_type": "code",
      "metadata": {
        "id": "XCFwUqkCSrIr"
      },
      "source": [
        "#import en_core_web_lg\n",
        "#nlp = en_core_web_lg.load()"
      ],
      "execution_count": null,
      "outputs": []
    },
    {
      "cell_type": "code",
      "metadata": {
        "id": "I0YNuAy_MX2R"
      },
      "source": [
        "#!python -m spacy download en_core_web_sm"
      ],
      "execution_count": null,
      "outputs": []
    },
    {
      "cell_type": "code",
      "metadata": {
        "id": "rO6jUJpWMhqZ"
      },
      "source": [
        "#nlp = en_core_web_sm.load()"
      ],
      "execution_count": null,
      "outputs": []
    },
    {
      "cell_type": "code",
      "metadata": {
        "id": "Z1keTCvK6lfm"
      },
      "source": [
        "#!python -m spacy download en_core_web_lg"
      ],
      "execution_count": null,
      "outputs": []
    },
    {
      "cell_type": "code",
      "metadata": {
        "id": "DpQaBBJy6oEw"
      },
      "source": [
        "#!python -m spacy link en_core_web_lg en || true"
      ],
      "execution_count": null,
      "outputs": []
    },
    {
      "cell_type": "markdown",
      "metadata": {
        "id": "fWq0h-faI6_H"
      },
      "source": [
        ""
      ]
    },
    {
      "cell_type": "code",
      "metadata": {
        "id": "GEP6_Jk37eCW"
      },
      "source": [
        "#NER Packages\n",
        "import plac\n",
        "import random\n",
        "import time\n",
        "import spacy\n",
        "#import en_core_web_lg\n",
        "import en_core_web_sm\n",
        "import os\n",
        "import traceback\n",
        "from __future__ import unicode_literals, print_function\n",
        "from pathlib import Path\n",
        "from spacy.util import minibatch, compounding\n",
        "from spacy import displacy\n",
        "from google.colab import drive\n",
        "from datetime import datetime \n",
        "from google.colab import files "
      ],
      "execution_count": null,
      "outputs": []
    },
    {
      "cell_type": "code",
      "metadata": {
        "id": "o4stKMbUhUlL"
      },
      "source": [
        "#needed objects creation\n",
        "nlp = spacy.load(\"en_core_web_sm\")"
      ],
      "execution_count": null,
      "outputs": []
    },
    {
      "cell_type": "code",
      "metadata": {
        "id": "S7yR1Xuj8IuF"
      },
      "source": [
        "#Model_attributes\n",
        "LABEL=list()\n",
        "model_training_time=0\n",
        "#model=\"en_core_web_lg\"\n",
        "model=\"en_core_web_sm\"\n",
        "\n",
        "#new_model_name\n",
        "AI_model_name=\"Artificial_Intelligence_Model\"\n",
        "SW_model_name=\"Software_Engineering_Model\"\n",
        "PL1_model_name=\"Programming_Language_1_Model\"\n",
        "\n",
        "#output_dir=\"/content/gdrive/My Drive/Trained_NER_Models/Artificial_Intelligence_Trained_Model/\"\n",
        "output_dir_AI_version1=\"/content/gdrive/My Drive/Trained_NER_Models/Artificial_Intelligence_Trained_Model/version1\"\n",
        "output_dir_AI_version2=\"/content/gdrive/My Drive/Trained_NER_Models/Artificial_Intelligence_Trained_Model/version2\"\n",
        "output_dir_AI_version3=\"/content/gdrive/My Drive/Trained_NER_Models/Artificial_Intelligence_Trained_Model/version3\"\n",
        "output_dir_AI_version4=\"/content/gdrive/My Drive/Trained_NER_Models/Artificial_Intelligence_Trained_Model/version4\"\n",
        "\n",
        "\n",
        "output_dir_SW=\"/content/gdrive/My Drive/Trained_NER_Models/Software_Engineering_Trained_Model/\"\n",
        "\n",
        "output_dir_PL_version1=\"/content/gdrive/My Drive/Trained_NER_Models/Programming_Language_Trained_Model/version1\"\n",
        "output_dir_PL_version2=\"/content/gdrive/My Drive/Trained_NER_Models/Programming_Language_Trained_Model/version2\"\n",
        "output_dir_PL_version3=\"/content/gdrive/My Drive/Trained_NER_Models/Programming_Language_Trained_Model/version3\"\n",
        "\n",
        "\n",
        "output_dir_SW_V1=\"/content/gdrive/My Drive/Trained_NER_Models/Software_Engineering_Trained_Model/SW_V1\"\n",
        "\n",
        "output_dir_pre_trained_model=\"/content/gdrive/My Drive/Trained_NER_Models/Pre_Trained_Model/\"\n",
        "\n",
        "\n",
        "\n",
        "AI_dataset_and_labels_directory=\"/content/gdrive/My Drive/Datasets/NER Model Dataset/Artificial Intelligence Course Dataset\"\n",
        "AI_dataset_text_name=\"Artificial_Intelligence_Course_Dataset.txt\"\n",
        "AI_Labels_text_name=\"AI_Labels.txt\"\n",
        "\n",
        "\n",
        "SW_dataset_and_labels_directory=\"/content/gdrive/My Drive/Datasets/NER Model Dataset/Software Engineering Course Dataset\"\n",
        "SW_dataset_text_name=\"sw.txt\"\n",
        "SW_Labels_text_name=\"SW_Labels.txt\"\n",
        "\n",
        "PL1_dataset_and_labels_directory=\"/content/gdrive/My Drive/Datasets/NER Model Dataset/Programming Language Course Dataset\"\n",
        "#PL1_dataset_text_name=\"Programming_Language_Course_Dataset.txt\"\n",
        "PL1_dataset_text_name=\"Programming_Language_Course_Dataset1.txt\"\n",
        "PL1_Labels_text_name=\"PL1_Labels.txt\"\n",
        "\n",
        "\n",
        "\n",
        "\n",
        "StopWordsDir=\"/content/gdrive/My Drive/Datasets/StopWords\"\n",
        "SmartStopWordsTextName=\"SmartStoplist.txt\"\n",
        "\n",
        "\n",
        "n_iter=300 #training iteration"
      ],
      "execution_count": null,
      "outputs": []
    },
    {
      "cell_type": "code",
      "metadata": {
        "id": "V3MGeSiy8NzG"
      },
      "source": [
        "def download_pretrained_model():\n",
        "  try:\n",
        "    !python -m spacy download en_core_web_lg\n",
        "  except:\n",
        "    print(\"An exception occurred 1\")"
      ],
      "execution_count": null,
      "outputs": []
    },
    {
      "cell_type": "code",
      "metadata": {
        "id": "Hm__Gint83qu"
      },
      "source": [
        "def load_pretrained_model():\n",
        "  try:\n",
        "    nlp = en_core_web_lg.load()\n",
        "  except:\n",
        "    print(\"An exception occurred 2\")\n",
        "  "
      ],
      "execution_count": null,
      "outputs": []
    },
    {
      "cell_type": "code",
      "metadata": {
        "id": "Y8kxI2IK85qP"
      },
      "source": [
        "def load_pretrained_model(path):\n",
        "  try:\n",
        "    \n",
        "    print(\"done\")\n",
        "    return model.load_state_dict(torch.load(path))\n",
        "  except:\n",
        "    print(\"An exception occurred 3\")"
      ],
      "execution_count": null,
      "outputs": []
    },
    {
      "cell_type": "code",
      "metadata": {
        "id": "ilfKpAEc87Pz"
      },
      "source": [
        "def upload_corpus(dataset_and_labels_directory,dataset_text_name):\n",
        "    ask_for_access_to_google_drive()\n",
        "    corpus = os.path.join(dataset_and_labels_directory, dataset_text_name)\n",
        "    with open(corpus, 'r',encoding='cp1252') as i_file:\n",
        "      t_data = i_file.read()\n",
        "    TRAIN_DATA=eval(t_data)\n",
        "    return TRAIN_DATA\n"
      ],
      "execution_count": null,
      "outputs": []
    },
    {
      "cell_type": "code",
      "metadata": {
        "id": "Os98sjMs8-IM"
      },
      "source": [
        "def upload_Labels(dataset_and_labels_directory,labels_text_name):\n",
        "  \n",
        "    ask_for_access_to_google_drive()\n",
        "    corpus = os.path.join(dataset_and_labels_directory,labels_text_name)\n",
        "    with open(corpus, 'r',encoding='cp1252') as i_file:\n",
        "      t_data = i_file.read()\n",
        "    LABEL = t_data.split(\",\")\n",
        "    return LABEL\n",
        "  \n",
        "    "
      ],
      "execution_count": null,
      "outputs": []
    },
    {
      "cell_type": "code",
      "metadata": {
        "id": "u9wk5P8h8_eD"
      },
      "source": [
        "def Set_up_the_pipeline_and_entity_recognizer(model,LABEL):\n",
        "\n",
        "  \"\"\"Set up the pipeline and entity recognizer, and train the new entity.\"\"\"\n",
        "  random.seed(0)\n",
        "  \n",
        "  if model is not None:\n",
        "      nlp = spacy.load(model) # load existing spaCy model\n",
        "      print(\"Loaded model '%s'\" % model)\n",
        "  else:\n",
        "      nlp = spacy.blank(\"en\")  # create blank Language class\n",
        "      print(\"Created blank 'en' model\")\n",
        "\n",
        "    # Add entity recognizer to model if it's not in the pipeline\n",
        "    # nlp.create_pipe works for built-ins that are registered with spaCy\n",
        "\n",
        "  if \"ner\" not in nlp.pipe_names:\n",
        "      ner = nlp.create_pipe(\"ner\")\n",
        "      nlp.add_pipe(ner)\n",
        "    # otherwise, get it, so we can add labels to it\n",
        "  else:\n",
        "      ner = nlp.get_pipe(\"ner\")\n",
        "\n",
        "\n",
        "  for en in LABEL:\n",
        "    \n",
        "    ner.add_label(en) # add new entity label to entity recognizer\n",
        "\n",
        "    # Adding extraneous labels shouldn't mess anything up\n",
        "    #ner.add_label(\"VEGETABLE\")\n",
        "  if model is None:\n",
        "      optimizer = nlp.begin_training()\n",
        "  else:\n",
        "      optimizer = nlp.resume_training()\n",
        "  move_names = list(ner.move_names)\n",
        "    # get names of other pipes to disable them during training\n",
        "  pipe_exceptions = [\"ner\", \"trf_wordpiecer\", \"trf_tok2vec\"]\n",
        "  other_pipes = [pipe for pipe in nlp.pipe_names if pipe not in pipe_exceptions]\n",
        "  return(nlp, other_pipes,move_names,optimizer)\n",
        "  "
      ],
      "execution_count": null,
      "outputs": []
    },
    {
      "cell_type": "code",
      "metadata": {
        "id": "DizXxixh9BKJ"
      },
      "source": [
        "def train_model(TRAIN_DATA,nlp,other_pipes,optimizer):\n",
        "\n",
        "  start_time = datetime.now() \n",
        "  \n",
        "  training_losses=list()\n",
        "  with nlp.disable_pipes(*other_pipes):  # only train NER\n",
        "    sizes = compounding(1.0, 4.0, 1.001)\n",
        "      # batch up the examples using spaCy's minibatch\n",
        "    count = 0\n",
        "    for itn in range(n_iter):\n",
        "        small_list=list()\n",
        "        count = count+1\n",
        "        random.shuffle(TRAIN_DATA)\n",
        "        batches = minibatch(TRAIN_DATA, size=sizes)\n",
        "        losses = {}\n",
        "        for batch in batches:\n",
        "            texts, annotations = zip(*batch)\n",
        "            nlp.update(texts, annotations, sgd=optimizer, drop=0.35, losses=losses)\n",
        "        print(count,\" : \",\"Losses\", losses)\n",
        "        small_list.append(count)\n",
        "        small_list.append(losses)\n",
        "        training_losses.append(small_list)\n",
        " \n",
        "  model_training_time =format(datetime.now() - start_time)\n",
        "  print('Time elapsed (hh:mm:ss.ms) {}'.format(datetime.now() - start_time))\n",
        "  return nlp,training_losses,model_training_time\n",
        "  "
      ],
      "execution_count": null,
      "outputs": []
    },
    {
      "cell_type": "code",
      "metadata": {
        "id": "fqGaQJXk9Csn"
      },
      "source": [
        "def ask_for_access_to_google_drive():\n",
        "  try:\n",
        "    drive.mount('/content/gdrive')\n",
        "  except:\n",
        "    print(\"An exception occurred 8\")"
      ],
      "execution_count": null,
      "outputs": []
    },
    {
      "cell_type": "code",
      "metadata": {
        "id": "AKFr5yIl5pLA"
      },
      "source": [
        "def save_trained_model(new_model_name, nlp, output_dir):\n",
        "  try:\n",
        "    ask_for_access_to_google_drive()\n",
        "    # save model to output directory\n",
        "    if output_dir is not None:\n",
        "        output_dir = Path(output_dir)\n",
        "        if not output_dir.exists():\n",
        "            output_dir.mkdir()\n",
        "        #------------------------------------------------------------->askfor rename model\n",
        "        nlp.meta[\"name\"] = new_model_name  # rename model\n",
        "        nlp.to_disk(output_dir)\n",
        "        print(\"Saved model to\", output_dir)\n",
        "        return 1 #------------------------------------------------>change it\n",
        "  except:\n",
        "    print(\"An exception occurred 9\")"
      ],
      "execution_count": null,
      "outputs": []
    },
    {
      "cell_type": "code",
      "metadata": {
        "id": "jCr54jr_9FMX"
      },
      "source": [
        "def load_trained_model(output_dir):\n",
        "  try:\n",
        "    ask_for_access_to_google_drive()\n",
        "    output_dir = Path(output_dir)\n",
        "    print(\"Loading from\", output_dir)\n",
        "    nlp = spacy.load(output_dir)\n",
        "    return nlp #return loaded AI trained model\n",
        "  except:\n",
        "    print(\"An exception occurred 10\")"
      ],
      "execution_count": null,
      "outputs": []
    },
    {
      "cell_type": "code",
      "metadata": {
        "id": "BIE0Q1PM9GlI"
      },
      "source": [
        "def test_model_after_loading(sentence,nlp):\n",
        "    # test the saved model\n",
        "    # Check the classes have loaded back consistently\n",
        "    #assert nlp.get_pipe(\"ner\").move_names == move_names\n",
        "    doc = nlp(sentence)\n",
        "    return doc"
      ],
      "execution_count": null,
      "outputs": []
    },
    {
      "cell_type": "code",
      "metadata": {
        "id": "eMxd2FbmBEe2"
      },
      "source": [
        "def test_model_after_training(sentence,nlp):\n",
        "\n",
        "    doc = nlp(sentence)\n",
        "    return doc\n"
      ],
      "execution_count": null,
      "outputs": []
    },
    {
      "cell_type": "code",
      "metadata": {
        "id": "ygp57wlS9HsP"
      },
      "source": [
        "def print_entities(sentence):\n",
        "  try:\n",
        "    for ent in sentence.ents:\n",
        "      print(sentence)\n",
        "      print(\"Label: \",ent.label_,\" Keyword: \", ent.text)\n",
        "  except:\n",
        "    print(\"An exception occurred 13\")"
      ],
      "execution_count": null,
      "outputs": []
    },
    {
      "cell_type": "code",
      "metadata": {
        "id": "9iWkFbfd94Px"
      },
      "source": [
        "def print_entities1(doc):\n",
        "  try:\n",
        "    sentences = [x for x in doc.sents]\n",
        "    for sentence in sentences:\n",
        "      print(sentence)\n",
        "      for ent in sentence.ents:\n",
        "        print(\"Label: \",ent.label_,\" Keyword: \", ent.text)\n",
        "      print(\"\")\n",
        "  except:\n",
        "    print(\"An exception occurred 13\")"
      ],
      "execution_count": null,
      "outputs": []
    },
    {
      "cell_type": "code",
      "metadata": {
        "id": "1H4QEYAv9JH1"
      },
      "source": [
        "def print_entities_by_displacy(sentence):\n",
        "  try:\n",
        "    displacy.render(sentence, jupyter=True, style='ent')\n",
        "\n",
        "  except:\n",
        "    print(\"An exception occurred 14\")"
      ],
      "execution_count": null,
      "outputs": []
    },
    {
      "cell_type": "code",
      "metadata": {
        "id": "nn-XNydm4OV_"
      },
      "source": [
        "\n",
        "def print_entities_by_displacy1(doc):\n",
        "  try:\n",
        "    displacy.render(doc, jupyter=True, style='ent')\n",
        "  except:\n",
        "    print(\"An exception occurred 14\")"
      ],
      "execution_count": null,
      "outputs": []
    },
    {
      "cell_type": "code",
      "metadata": {
        "id": "EHycoLWv9KJv"
      },
      "source": [
        "def Set_a_name_to_the_new_model():\n",
        "  try:\n",
        "    new_model_name = input(\"Enter A name for the new model: \")\n",
        "  except:\n",
        "    print(\"An exception occurred 15\")"
      ],
      "execution_count": null,
      "outputs": []
    },
    {
      "cell_type": "markdown",
      "metadata": {
        "id": "UMRH9Iyl9RHs"
      },
      "source": [
        "## **Calling**"
      ]
    },
    {
      "cell_type": "code",
      "metadata": {
        "id": "n7NiJ5EvtSsD"
      },
      "source": [
        "#uploaded = files.upload() "
      ],
      "execution_count": null,
      "outputs": []
    },
    {
      "cell_type": "code",
      "metadata": {
        "id": "oHX71Rdmtg0f"
      },
      "source": [
        "#with open('Programming_Language_Course_Dataset.txt', 'r') as i_file:\n",
        "#    t_data = i_file.read()\n",
        "##print(t_data)    \n",
        "#TRAIN_DATA=eval(t_data)"
      ],
      "execution_count": null,
      "outputs": []
    },
    {
      "cell_type": "code",
      "metadata": {
        "id": "YEkD8bBcs3Kw"
      },
      "source": [
        "##with open(corpus, 'r',encoding='cp1252') as i_file:\n",
        "##  t_data = i_file.read()\n",
        "##TRAIN_DATA=eval(t_data)"
      ],
      "execution_count": null,
      "outputs": []
    },
    {
      "cell_type": "code",
      "metadata": {
        "id": "zJavfoQJpFUU"
      },
      "source": [
        "PL1_dataset_and_labels_directory=\"/content/gdrive/My Drive/Datasets/NER Model Dataset/Programming Language Course Dataset\"\n",
        "PL1_dataset_text_name=\"Programming_Language_Course_Dataset1.txt\"\n",
        "PL1_Labels_text_name=\"PL1_Labels.txt\""
      ],
      "execution_count": null,
      "outputs": []
    },
    {
      "cell_type": "code",
      "metadata": {
        "id": "J0p846xN9d_W",
        "colab": {
          "base_uri": "https://localhost:8080/",
          "height": 498
        },
        "outputId": "9a4cbd42-ed97-433b-b179-b5319a813ad9"
      },
      "source": [
        "#connect to drive once in session\n",
        "TRAIN_DATA=upload_corpus(PL1_dataset_and_labels_directory , PL1_dataset_text_name)"
      ],
      "execution_count": null,
      "outputs": [
        {
          "output_type": "stream",
          "text": [
            "Go to this URL in a browser: https://accounts.google.com/o/oauth2/auth?client_id=947318989803-6bn6qk8qdgf4n4g3pfee6491hc0brc4i.apps.googleusercontent.com&redirect_uri=urn%3aietf%3awg%3aoauth%3a2.0%3aoob&response_type=code&scope=email%20https%3a%2f%2fwww.googleapis.com%2fauth%2fdocs.test%20https%3a%2f%2fwww.googleapis.com%2fauth%2fdrive%20https%3a%2f%2fwww.googleapis.com%2fauth%2fdrive.photos.readonly%20https%3a%2f%2fwww.googleapis.com%2fauth%2fpeopleapi.readonly\n",
            "\n",
            "Enter your authorization code:\n",
            "··········\n",
            "An exception occurred 8\n"
          ],
          "name": "stdout"
        },
        {
          "output_type": "error",
          "ename": "FileNotFoundError",
          "evalue": "ignored",
          "traceback": [
            "\u001b[0;31m---------------------------------------------------------------------------\u001b[0m",
            "\u001b[0;31mFileNotFoundError\u001b[0m                         Traceback (most recent call last)",
            "\u001b[0;32m<ipython-input-34-bdd3d2cb7cbc>\u001b[0m in \u001b[0;36m<module>\u001b[0;34m()\u001b[0m\n\u001b[1;32m      1\u001b[0m \u001b[0;31m#connect to drive once in session\u001b[0m\u001b[0;34m\u001b[0m\u001b[0;34m\u001b[0m\u001b[0;34m\u001b[0m\u001b[0m\n\u001b[0;32m----> 2\u001b[0;31m \u001b[0mTRAIN_DATA\u001b[0m\u001b[0;34m=\u001b[0m\u001b[0mupload_corpus\u001b[0m\u001b[0;34m(\u001b[0m\u001b[0mPL1_dataset_and_labels_directory\u001b[0m \u001b[0;34m,\u001b[0m \u001b[0mPL1_dataset_text_name\u001b[0m\u001b[0;34m)\u001b[0m\u001b[0;34m\u001b[0m\u001b[0;34m\u001b[0m\u001b[0m\n\u001b[0m",
            "\u001b[0;32m<ipython-input-16-1e3bc105789e>\u001b[0m in \u001b[0;36mupload_corpus\u001b[0;34m(dataset_and_labels_directory, dataset_text_name)\u001b[0m\n\u001b[1;32m      2\u001b[0m     \u001b[0mask_for_access_to_google_drive\u001b[0m\u001b[0;34m(\u001b[0m\u001b[0;34m)\u001b[0m\u001b[0;34m\u001b[0m\u001b[0;34m\u001b[0m\u001b[0m\n\u001b[1;32m      3\u001b[0m     \u001b[0mcorpus\u001b[0m \u001b[0;34m=\u001b[0m \u001b[0mos\u001b[0m\u001b[0;34m.\u001b[0m\u001b[0mpath\u001b[0m\u001b[0;34m.\u001b[0m\u001b[0mjoin\u001b[0m\u001b[0;34m(\u001b[0m\u001b[0mdataset_and_labels_directory\u001b[0m\u001b[0;34m,\u001b[0m \u001b[0mdataset_text_name\u001b[0m\u001b[0;34m)\u001b[0m\u001b[0;34m\u001b[0m\u001b[0;34m\u001b[0m\u001b[0m\n\u001b[0;32m----> 4\u001b[0;31m     \u001b[0;32mwith\u001b[0m \u001b[0mopen\u001b[0m\u001b[0;34m(\u001b[0m\u001b[0mcorpus\u001b[0m\u001b[0;34m,\u001b[0m \u001b[0;34m'r'\u001b[0m\u001b[0;34m,\u001b[0m\u001b[0mencoding\u001b[0m\u001b[0;34m=\u001b[0m\u001b[0;34m'cp1252'\u001b[0m\u001b[0;34m)\u001b[0m \u001b[0;32mas\u001b[0m \u001b[0mi_file\u001b[0m\u001b[0;34m:\u001b[0m\u001b[0;34m\u001b[0m\u001b[0;34m\u001b[0m\u001b[0m\n\u001b[0m\u001b[1;32m      5\u001b[0m       \u001b[0mt_data\u001b[0m \u001b[0;34m=\u001b[0m \u001b[0mi_file\u001b[0m\u001b[0;34m.\u001b[0m\u001b[0mread\u001b[0m\u001b[0;34m(\u001b[0m\u001b[0;34m)\u001b[0m\u001b[0;34m\u001b[0m\u001b[0;34m\u001b[0m\u001b[0m\n\u001b[1;32m      6\u001b[0m     \u001b[0mTRAIN_DATA\u001b[0m\u001b[0;34m=\u001b[0m\u001b[0meval\u001b[0m\u001b[0;34m(\u001b[0m\u001b[0mt_data\u001b[0m\u001b[0;34m)\u001b[0m\u001b[0;34m\u001b[0m\u001b[0;34m\u001b[0m\u001b[0m\n",
            "\u001b[0;31mFileNotFoundError\u001b[0m: [Errno 2] No such file or directory: '/content/gdrive/My Drive/Datasets/NER Model Dataset/Programming Language Course Dataset/Programming_Language_Course_Dataset1.txt'"
          ]
        }
      ]
    },
    {
      "cell_type": "code",
      "metadata": {
        "id": "NpPPhDL49i0t"
      },
      "source": [
        "LABEL=upload_Labels(PL1_dataset_and_labels_directory , PL1_Labels_text_name)"
      ],
      "execution_count": null,
      "outputs": []
    },
    {
      "cell_type": "code",
      "metadata": {
        "id": "kNYC3sC3ivvO"
      },
      "source": [
        "#TRAIN_DATA"
      ],
      "execution_count": null,
      "outputs": []
    },
    {
      "cell_type": "code",
      "metadata": {
        "id": "xyL-H16PqZzV",
        "colab": {
          "base_uri": "https://localhost:8080/",
          "height": 35
        },
        "outputId": "7d97de85-f3fa-4b13-99a8-fc263c4c6e9b"
      },
      "source": [
        "print(LABEL)"
      ],
      "execution_count": null,
      "outputs": [
        {
          "output_type": "stream",
          "text": [
            "['PL1']\n"
          ],
          "name": "stdout"
        }
      ]
    },
    {
      "cell_type": "code",
      "metadata": {
        "id": "1FjqMvZD8be1"
      },
      "source": [
        "#test_text = \"all the skills needed for the Turing Test,imitation game. reem is a good person. meshmesh is a good cat. he eats alot of dry food. GDP in developing countries such as Vietnam will continue growing at a high rate. Here is how you can keep your car and other vehicles clean. Here is how you can keep your car or other vehicles clean. Eight people, including two children, were injured in the explosion. A healthy eating pattern includes fruits, especially whole fruits. mom answers the phone, and the table is broken by marwan. today will be a good day. the garden was watered by the man. how does k-means algorithm work? and what about talking about data science. all the skills needed for the Turing Test,imitation game. alaa was fantastic in microsoft.  the environment does not change with the passage of time,but the agent's performance score does. The introduction of spreadsheets enabled business users to create simple logic on data structured in rows and columns and create their own analyses of business problems. Database administrator training is not required to create spreadsheets: They can be set up to do many things quickly and independently of information technology (IT) groups. Spreadsheets are easy to share, and end users have control over the logic involved. However, their proliferation can result in “many versions of the truth.” In other words, it can be challenging to determine if a particular user has the most relevant version of a spreadsheet, with the most current data and logic in it. Moreover, if a laptop is lost or a file becomes corrupted, the data and logic within the spreadsheet could be lost. This is an ongoing challenge because spreadsheet programs such as Microsoft Excel still run on many computers worldwide. With the proliferation of data islands (or spreadmarts), the need to centralize the data is more pressing than ever. As data needs grew, so did more scalable data warehousing solutions. supervised learning is a type of machine learning. there is a lot of supervised learning algorithms like support vector machine algorithm , knn algorithm , logistic regression , and many more. \""
      ],
      "execution_count": null,
      "outputs": []
    },
    {
      "cell_type": "code",
      "metadata": {
        "id": "NhH_hY79AwVv"
      },
      "source": [
        "#test_text = \"how does k-means algorithm work? and what about talking about data science. all the skills needed for the Turing Test,imitation game. alaa was fantastic in microsoft.  the environment does not change with the passage of time,but the agent's performance score does. The introduction of spreadsheets enabled business users to create simple logic on data structured in rows and columns and create their own analyses of business problems. Database administrator training is not required to create spreadsheets: They can be set up to do many things quickly and independently of information technology (IT) groups. Spreadsheets are easy to share, and end users have control over the logic involved. However, their proliferation can result in “many versions of the truth.” In other words, it can be challenging to determine if a particular user has the most relevant version of a spreadsheet, with the most current data and logic in it. Moreover, if a laptop is lost or a file becomes corrupted, the data and logic within the spreadsheet could be lost. This is an ongoing challenge because spreadsheet programs such as Microsoft Excel still run on many computers worldwide. With the proliferation of data islands (or spreadmarts), the need to centralize the data is more pressing than ever. As data needs grew, so did more scalable data warehousing solutions. These technologies\"\n"
      ],
      "execution_count": null,
      "outputs": []
    },
    {
      "cell_type": "code",
      "metadata": {
        "id": "yAl2jVqvB-fv"
      },
      "source": [
        "\n",
        "test_text = \"Data Science is the science which uses computer science, statistics and machine learning, visualization and human computer interactions to collect , clean , integrate , analyse , visualize , interact with data to create data products. GDP in developing countries such as Vietnam will continue growing at a high rate. Here is how you can keep your car and other vehicles clean. Here is how you can keep your car or other vehicles clean. Eight people, including two children, were injured in the explosion. A healthy eating pattern includes fruits, especially whole fruits. We are going to watch a movie tonight. The novel was read by Mom in one day.\""
      ],
      "execution_count": null,
      "outputs": []
    },
    {
      "cell_type": "code",
      "metadata": {
        "id": "8xOHlc30Kc0t",
        "colab": {
          "base_uri": "https://localhost:8080/",
          "height": 35
        },
        "outputId": "00d3bcb0-5f51-4372-ddea-d40a57d8a65e"
      },
      "source": [
        "nlp,other_pipes,move_names,optimizer=Set_up_the_pipeline_and_entity_recognizer(model,LABEL) "
      ],
      "execution_count": null,
      "outputs": [
        {
          "output_type": "stream",
          "text": [
            "Loaded model 'en_core_web_sm'\n"
          ],
          "name": "stdout"
        }
      ]
    },
    {
      "cell_type": "code",
      "metadata": {
        "id": "xyNJdlo-lyZM"
      },
      "source": [
        ""
      ],
      "execution_count": null,
      "outputs": []
    },
    {
      "cell_type": "code",
      "metadata": {
        "id": "-mGcBpPvlyVu"
      },
      "source": [
        ""
      ],
      "execution_count": null,
      "outputs": []
    },
    {
      "cell_type": "code",
      "metadata": {
        "id": "eJsXbi_UlyTl"
      },
      "source": [
        ""
      ],
      "execution_count": null,
      "outputs": []
    },
    {
      "cell_type": "code",
      "metadata": {
        "id": "WGssgNgWkqJ2",
        "colab": {
          "base_uri": "https://localhost:8080/",
          "height": 124
        },
        "outputId": "10b5ce70-78fc-4d94-8357-00ade166d38b"
      },
      "source": [
        "PL1_dataset_and_labels_directory=\"/content/gdrive/My Drive/Datasets/NER Model Dataset/Programming Language Course Dataset\"\n",
        "PL1_dataset_text_name=\"pl_text.txt\"\n",
        "PL1_Labels_text_name=\"PL1_Labels.txt\"\n",
        "\n",
        "#connect to drive once in session\n",
        "TRAIN_DATA=upload_corpus(PL1_dataset_and_labels_directory , PL1_dataset_text_name)"
      ],
      "execution_count": null,
      "outputs": [
        {
          "output_type": "stream",
          "text": [
            "Go to this URL in a browser: https://accounts.google.com/o/oauth2/auth?client_id=947318989803-6bn6qk8qdgf4n4g3pfee6491hc0brc4i.apps.googleusercontent.com&redirect_uri=urn%3aietf%3awg%3aoauth%3a2.0%3aoob&response_type=code&scope=email%20https%3a%2f%2fwww.googleapis.com%2fauth%2fdocs.test%20https%3a%2f%2fwww.googleapis.com%2fauth%2fdrive%20https%3a%2f%2fwww.googleapis.com%2fauth%2fdrive.photos.readonly%20https%3a%2f%2fwww.googleapis.com%2fauth%2fpeopleapi.readonly\n",
            "\n",
            "Enter your authorization code:\n",
            "··········\n",
            "Mounted at /content/gdrive\n"
          ],
          "name": "stdout"
        }
      ]
    },
    {
      "cell_type": "code",
      "metadata": {
        "id": "Wy45yfIClDJh",
        "colab": {
          "base_uri": "https://localhost:8080/",
          "height": 1000
        },
        "outputId": "c051673d-23b6-4496-d8d5-30e5d3b57c99"
      },
      "source": [
        "TRAIN_DATA"
      ],
      "execution_count": null,
      "outputs": [
        {
          "output_type": "execute_result",
          "data": {
            "text/plain": [
              "[('why learn c programming?c helps you to understand the internal architecture of a computer, how computer stores and retrieves information.after learning c, it will be much easier to learn other programming languages like java, python, etc.opportunity to work on open source projects.',\n",
              "  {'entities': [(12, 23, 'PL1'),\n",
              "    (193, 214, 'PL1'),\n",
              "    (220, 224, 'PL1'),\n",
              "    (226, 232, 'PL1')]}),\n",
              " ('some of the largest open-source projects such as linux kernel, python interpreter, sqlite database, etc. are written in c programming.how to learn c',\n",
              "  {'entities': [(83, 98, 'PL1'), (122, 133, 'PL1')]}),\n",
              " ('visit official c programming documentation.write a lot of c programming code - the only way you can learn programming is by writing a lot of code.',\n",
              "  {'entities': [(60, 76, 'PL1'), (141, 145, 'PL1')]}),\n",
              " ('by design, c provides constructs that map efficiently to typical machine instructions and has found lasting use in applications previously coded in assembly language.',\n",
              "  {'entities': [(22, 32, 'PL1'), (148, 165, 'PL1')]}),\n",
              " ('for the book, see the c programming language.the first line of the program contains a preprocessing directive, indicated by #include.',\n",
              "  {'entities': [(24, 44, 'PL1'), (67, 74, 'PL1'), (124, 132, 'PL1')]}),\n",
              " ('this causes the compiler to replace that line with the entire text of the stdio.h standard header, which contains declarations for standard input and output functions such as printf and scanf.',\n",
              "  {'entities': [(74, 81, 'PL1'),\n",
              "    (114, 126, 'PL1'),\n",
              "    (175, 181, 'PL1'),\n",
              "    (186, 191, 'PL1')]}),\n",
              " ('the angle brackets surrounding stdio.h indicate that stdio.h is located using a search strategy that prefers headers provided with the compiler to other headers having the same name, as opposed to double quotes which typically include local or project-specific header',\n",
              "  {'entities': [(109, 116, 'PL1'),\n",
              "    (135, 143, 'PL1'),\n",
              "    (153, 160, 'PL1'),\n",
              "    (197, 210, 'PL1')]}),\n",
              " ('the angle brackets surrounding stdio.h indicate that stdio.h is located using a search strategy that prefers headers provided with the compiler to other headers having the same name, as opposed to double quotes which typically include local or project-specific header',\n",
              "  {'entities': [(4, 18, 'PL1'), (197, 210, 'PL1')]}),\n",
              " ('files.the next line indicates that a function named main is being defined.',\n",
              "  {'entities': [(52, 56, 'PL1'), (66, 73, 'PL1')]}),\n",
              " ('the main function serves a special purpose in c programs; the run-time environment calls the main function to begin program execution.',\n",
              "  {'entities': [(4, 17, 'PL1'),\n",
              "    (48, 56, 'PL1'),\n",
              "    (62, 82, 'PL1'),\n",
              "    (93, 106, 'PL1'),\n",
              "    (110, 133, 'PL1')]}),\n",
              " ('the main function serves a special purpose in c programs; the run-time environment calls the main function to begin program execution.',\n",
              "  {'entities': [(4, 17, 'PL1'),\n",
              "    (46, 56, 'PL1'),\n",
              "    (62, 88, 'PL1'),\n",
              "    (93, 106, 'PL1'),\n",
              "    (116, 133, 'PL1')]}),\n",
              " ('the type specifier int indicates that the value that is returned to the invoker (in this case the run-time environment) as a result of evaluating the main function, is an integer.',\n",
              "  {'entities': [(19, 22, 'PL1'),\n",
              "    (56, 64, 'PL1'),\n",
              "    (72, 79, 'PL1'),\n",
              "    (98, 118, 'PL1'),\n",
              "    (150, 163, 'PL1'),\n",
              "    (171, 178, 'PL1')]}),\n",
              " ('the type specifier int indicates that the value that is returned to the invoker (in this case the run-time environment) as a result of evaluating the main function, is an integer.',\n",
              "  {'entities': [(4, 22, 'PL1'), (98, 118, 'PL1'), (150, 163, 'PL1')]}),\n",
              " ('the keyword void as a parameter list',\n",
              "  {'entities': [(4, 16, 'PL1'), (22, 31, 'PL1')]}),\n",
              " ('indicates that this function takes no arguments.[b]the opening curly brace indicates the beginning of the definition of the main function.the next line calls (diverts execution to) a function named printf, which in this case is supplied from a system library.',\n",
              "  {'entities': [(38, 47, 'PL1'),\n",
              "    (55, 74, 'PL1'),\n",
              "    (106, 116, 'PL1'),\n",
              "    (124, 137, 'PL1'),\n",
              "    (244, 258, 'PL1')]}),\n",
              " ('indicates that this function takes no arguments.[b]the opening curly brace indicates the beginning of the definition of the main function.the next line calls (diverts execution to) a function named printf, which in this case is supplied from a system library.',\n",
              "  {'entities': [(124, 137, 'PL1'), (244, 258, 'PL1')]}),\n",
              " ('in this call, the printf function is passed (provided with) a single argument, the address of the first character in the string literal  hello, world\\n .',\n",
              "  {'entities': [(8, 12, 'PL1'),\n",
              "    (18, 24, 'PL1'),\n",
              "    (69, 77, 'PL1'),\n",
              "    (83, 90, 'PL1'),\n",
              "    (104, 113, 'PL1'),\n",
              "    (121, 127, 'PL1')]}),\n",
              " ('the string literal is an unnamed array with elements of type char, set up automatically by the compiler with a final 0-valued character to mark the end of the array',\n",
              "  {'entities': [(4, 10, 'PL1'),\n",
              "    (25, 38, 'PL1'),\n",
              "    (44, 52, 'PL1'),\n",
              "    (56, 65, 'PL1'),\n",
              "    (95, 103, 'PL1'),\n",
              "    (117, 125, 'PL1'),\n",
              "    (159, 164, 'PL1')]}),\n",
              " ('the string literal is an unnamed array with elements of type char, set up automatically by the compiler with a final 0-valued character to mark the end of the array',\n",
              "  {'entities': [(4, 10, 'PL1'), (56, 65, 'PL1')]}),\n",
              " ('the \\n is an escape sequence that c translates to a newline character, which on output signifies the end of the current line.',\n",
              "  {'entities': [(13, 28, 'PL1'), (52, 69, 'PL1'), (112, 124, 'PL1')]}),\n",
              " ('the \\n is an escape sequence that c translates to a newline character, which on output signifies the end of the current line.',\n",
              "  {'entities': [(52, 69, 'PL1'), (101, 104, 'PL1'), (112, 124, 'PL1')]}),\n",
              " ('the return value of the printf function is of type int, but it is silently discarded since it is not used.',\n",
              "  {'entities': [(4, 10, 'PL1'), (24, 30, 'PL1'), (51, 54, 'PL1')]}),\n",
              " ('the return value of the printf function is of type int, but it is silently discarded since it is not used.',\n",
              "  {'entities': [(4, 16, 'PL1'), (24, 30, 'PL1'), (51, 54, 'PL1')]}),\n",
              " ('(a more careful program might test the return value to determine whether or not the printf function succeeded.)',\n",
              "  {'entities': [(39, 45, 'PL1'), (84, 90, 'PL1')]}),\n",
              " ('(a more careful program might test the return value to determine whether or not the printf function succeeded.)',\n",
              "  {'entities': [(16, 23, 'PL1'), (39, 51, 'PL1'), (84, 99, 'PL1')]}),\n",
              " ('the semicolon ; terminates',\n",
              "  {'entities': [(4, 13, 'PL1'), (16, 26, 'PL1')]}),\n",
              " ('brace indicates the end of the code for the main function.',\n",
              "  {'entities': [(20, 23, 'PL1'), (31, 35, 'PL1'), (44, 57, 'PL1')]}),\n",
              " ('according to the c99 specification and newer, the main function, unlike any other function, will implicitly return a value of 0 upon reaching the } that terminates the function.',\n",
              "  {'entities': [(50, 63, 'PL1'),\n",
              "    (82, 90, 'PL1'),\n",
              "    (153, 163, 'PL1'),\n",
              "    (168, 176, 'PL1')]}),\n",
              " ('this is interpreted by the run-time system as an exit code indicating successful execution.[28]data typesmain article: c variable types and declarationsthis section needs additional citations for verification.',\n",
              "  {'entities': [(27, 42, 'PL1'), (49, 58, 'PL1'), (121, 135, 'PL1')]}),\n",
              " ('(learn how and when to remove this template message)the type system in c is static and weakly typed, which makes it similar to the type system of algol descendants such as pascal.[29] there are built-in types for integers of various sizes, both signed and unsigned, floating-point numbers, and enumerated types (enum).',\n",
              "  {'entities': [(56, 67, 'PL1'),\n",
              "    (76, 82, 'PL1'),\n",
              "    (87, 99, 'PL1'),\n",
              "    (131, 142, 'PL1'),\n",
              "    (194, 202, 'PL1'),\n",
              "    (203, 208, 'PL1'),\n",
              "    (213, 221, 'PL1'),\n",
              "    (233, 238, 'PL1'),\n",
              "    (245, 251, 'PL1'),\n",
              "    (256, 264, 'PL1'),\n",
              "    (266, 288, 'PL1'),\n",
              "    (294, 310, 'PL1')]}),\n",
              " ('(learn how and when to remove this template message)the type system in c is static and weakly typed, which makes it similar to the type system of algol descendants such as pascal.[29] there are built-in types for integers of various sizes, both signed and unsigned, floating-point numbers, and enumerated types (enum).',\n",
              "  {'entities': [(56, 67, 'PL1'),\n",
              "    (131, 142, 'PL1'),\n",
              "    (194, 208, 'PL1'),\n",
              "    (225, 238, 'PL1'),\n",
              "    (266, 288, 'PL1')]}),\n",
              " ('integer type char is often used for single-byte characters.',\n",
              "  {'entities': [(0, 7, 'PL1'), (36, 58, 'PL1')]}),\n",
              " ('integer type char is often used for single-byte characters.',\n",
              "  {'entities': [(13, 17, 'PL1'), (36, 58, 'PL1')]}),\n",
              " ('there are also derived types including arrays, pointers, records (struct), and unions',\n",
              "  {'entities': [(15, 28, 'PL1'),\n",
              "    (47, 55, 'PL1'),\n",
              "    (66, 72, 'PL1'),\n",
              "    (79, 85, 'PL1')]}),\n",
              " ('(union).c is often used in low-level systems programming where escapes from the type system may be necessary.',\n",
              "  {'entities': [(1, 6, 'PL1'), (27, 56, 'PL1'), (80, 91, 'PL1')]}),\n",
              " ('(union).c is often used in low-level systems programming where escapes from the type system may be necessary.',\n",
              "  {'entities': [(27, 44, 'PL1'), (80, 91, 'PL1')]}),\n",
              " ('the compiler attempts to ensure type correctness of most expressions, but the programmer can override the checks in various ways, either by using a type cast to explicitly convert a value from one type to another, or by using pointers or unions to reinterpret the underlying bits of a data object in some other way.some find c s declaration syntax unintuitive, particularly for function pointers.',\n",
              "  {'entities': [(4, 12, 'PL1'),\n",
              "    (32, 36, 'PL1'),\n",
              "    (78, 88, 'PL1'),\n",
              "    (93, 101, 'PL1'),\n",
              "    (106, 112, 'PL1'),\n",
              "    (148, 157, 'PL1'),\n",
              "    (197, 201, 'PL1'),\n",
              "    (226, 234, 'PL1'),\n",
              "    (238, 244, 'PL1'),\n",
              "    (248, 259, 'PL1'),\n",
              "    (285, 296, 'PL1'),\n",
              "    (341, 347, 'PL1'),\n",
              "    (378, 395, 'PL1')]}),\n",
              " ('the compiler attempts to ensure type correctness of most expressions, but the programmer can override the checks in various ways, either by using a type cast to explicitly convert a value from one type to another, or by using pointers or unions to reinterpret the underlying bits of a data object in some other way.some find c s declaration syntax unintuitive, particularly for function pointers.',\n",
              "  {'entities': [(4, 21, 'PL1'),\n",
              "    (32, 36, 'PL1'),\n",
              "    (148, 157, 'PL1'),\n",
              "    (197, 201, 'PL1'),\n",
              "    (285, 296, 'PL1'),\n",
              "    (329, 359, 'PL1'),\n",
              "    (378, 395, 'PL1')]}),\n",
              " ('(ritchie s idea was to declare identifiers in contexts resembling their use:  declaration reflects use .)[30]c s usual arithmetic conversions allow for efficient code to be generated, but can sometimes produce unexpected results.',\n",
              "  {'entities': [(31, 42, 'PL1'),\n",
              "    (55, 65, 'PL1'),\n",
              "    (78, 89, 'PL1'),\n",
              "    (119, 130, 'PL1'),\n",
              "    (162, 166, 'PL1')]}),\n",
              " ('(ritchie s idea was to declare identifiers in contexts resembling their use:  declaration reflects use .)[30]c s usual arithmetic conversions allow for efficient code to be generated, but can sometimes produce unexpected results.',\n",
              "  {'entities': [(78, 98, 'PL1'),\n",
              "    (119, 141, 'PL1'),\n",
              "    (162, 166, 'PL1'),\n",
              "    (210, 228, 'PL1')]}),\n",
              " ('for example, a comparison of signed and unsigned integers of equal width requires a conversion of the signed value to unsigned.',\n",
              "  {'entities': [(29, 35, 'PL1'),\n",
              "    (40, 57, 'PL1'),\n",
              "    (84, 94, 'PL1'),\n",
              "    (102, 108, 'PL1'),\n",
              "    (118, 126, 'PL1')]}),\n",
              " ('this can generate unexpected results if the signed value is negative.pointersc supports the use of pointers, a type of reference that records the address or location of an object or function in memory.',\n",
              "  {'entities': [(69, 77, 'PL1'),\n",
              "    (99, 107, 'PL1'),\n",
              "    (111, 115, 'PL1'),\n",
              "    (119, 128, 'PL1'),\n",
              "    (146, 153, 'PL1'),\n",
              "    (157, 165, 'PL1'),\n",
              "    (172, 178, 'PL1'),\n",
              "    (182, 190, 'PL1'),\n",
              "    (194, 200, 'PL1')]}),\n",
              " ('this can generate unexpected results if the signed value is negative.pointersc supports the use of pointers, a type of reference that records the address or location of an object or function in memory.',\n",
              "  {'entities': [(18, 36, 'PL1'), (69, 78, 'PL1')]}),\n",
              " ('pointers can be dereferenced to access data stored at the address pointed to, or to invoke a pointed-to function.',\n",
              "  {'entities': [(0, 8, 'PL1'),\n",
              "    (16, 28, 'PL1'),\n",
              "    (39, 50, 'PL1'),\n",
              "    (58, 73, 'PL1'),\n",
              "    (84, 90, 'PL1'),\n",
              "    (104, 112, 'PL1')]}),\n",
              " ('pointers can be dereferenced to access data stored at the address pointed to, or to invoke a pointed-to function.',\n",
              "  {'entities': [(32, 43, 'PL1'), (93, 103, 'PL1')]}),\n",
              " ('pointers can be manipulated using assignment or pointer arithmetic.',\n",
              "  {'entities': [(0, 8, 'PL1'), (48, 66, 'PL1')]}),\n",
              " ('pointers can be manipulated using assignment or pointer arithmetic.',\n",
              "  {'entities': [(34, 44, 'PL1'), (48, 66, 'PL1')]}),\n",
              " ('the run-time representation of a pointer value is typically a raw memory address (perhaps augmented by an offset-within-word field), but since a pointer s type includes the type of the thing pointed to,',\n",
              "  {'entities': [(4, 12, 'PL1'),\n",
              "    (33, 40, 'PL1'),\n",
              "    (62, 80, 'PL1'),\n",
              "    (145, 152, 'PL1'),\n",
              "    (155, 159, 'PL1'),\n",
              "    (173, 177, 'PL1'),\n",
              "    (181, 201, 'PL1')]}),\n",
              " ('the run-time representation of a pointer value is typically a raw memory address (perhaps augmented by an offset-within-word field), but since a pointer s type includes the type of the thing pointed to,',\n",
              "  {'entities': [(4, 27, 'PL1'),\n",
              "    (33, 46, 'PL1'),\n",
              "    (62, 80, 'PL1'),\n",
              "    (145, 152, 'PL1')]}),\n",
              " ('expressions including pointers can be type-checked at compile time.',\n",
              "  {'entities': [(22, 30, 'PL1'), (38, 50, 'PL1'), (54, 66, 'PL1')]}),\n",
              " ('pointer arithmetic is automatically scaled by the size of the pointed-to data type.',\n",
              "  {'entities': [(0, 18, 'PL1'), (50, 54, 'PL1'), (62, 82, 'PL1')]}),\n",
              " ('pointer arithmetic is automatically scaled by the size of the pointed-to data type.',\n",
              "  {'entities': [(0, 18, 'PL1'), (62, 82, 'PL1')]}),\n",
              " ('pointers are used for many purposes in c. text strings are commonly manipulated using pointers into arrays of characters.',\n",
              "  {'entities': [(0, 8, 'PL1'),\n",
              "    (42, 54, 'PL1'),\n",
              "    (86, 94, 'PL1'),\n",
              "    (100, 120, 'PL1')]}),\n",
              " ('dynamic memory allocation is performed using pointers.',\n",
              "  {'entities': [(0, 25, 'PL1'), (45, 53, 'PL1')]}),\n",
              " ('many data types, such as trees, are commonly implemented as dynamically allocated struct objects linked together using pointers.',\n",
              "  {'entities': [(5, 15, 'PL1'),\n",
              "    (25, 30, 'PL1'),\n",
              "    (82, 96, 'PL1'),\n",
              "    (119, 127, 'PL1')]}),\n",
              " ('many data types, such as trees, are commonly implemented as dynamically allocated struct objects linked together using pointers.',\n",
              "  {'entities': [(5, 15, 'PL1'), (82, 96, 'PL1')]}),\n",
              " ('pointers to functions are useful for passing functions as arguments to higher-order functions (such as qsort or bsearch) or as callbacks to be invoked by event',\n",
              "  {'entities': [(0, 8, 'PL1'),\n",
              "    (12, 21, 'PL1'),\n",
              "    (37, 54, 'PL1'),\n",
              "    (58, 67, 'PL1'),\n",
              "    (71, 83, 'PL1'),\n",
              "    (84, 93, 'PL1'),\n",
              "    (103, 108, 'PL1'),\n",
              "    (112, 119, 'PL1'),\n",
              "    (127, 136, 'PL1'),\n",
              "    (143, 150, 'PL1'),\n",
              "    (154, 159, 'PL1')]}),\n",
              " ('handlers.[28]a null pointer value explicitly points to no valid location.',\n",
              "  {'entities': [(0, 8, 'PL1'), (15, 27, 'PL1'), (55, 72, 'PL1')]}),\n",
              " ('handlers.[28]a null pointer value explicitly points to no valid location.',\n",
              "  {'entities': [(15, 33, 'PL1'), (58, 72, 'PL1')]}),\n",
              " ('handlers.[28]a null pointer value explicitly points to no valid location.',\n",
              "  {'entities': [(15, 33, 'PL1'), (55, 72, 'PL1')]}),\n",
              " ('dereferencing a null pointer value is undefined, often resulting in a segmentation fault.',\n",
              "  {'entities': [(0, 13, 'PL1'),\n",
              "    (16, 28, 'PL1'),\n",
              "    (38, 47, 'PL1'),\n",
              "    (70, 88, 'PL1')]}),\n",
              " ('dereferencing a null pointer value is undefined, often resulting in a segmentation fault.',\n",
              "  {'entities': [(16, 34, 'PL1'), (70, 88, 'PL1')]}),\n",
              " ('null pointer values are useful for indicating special cases such as no  next  pointer in the final node of a linked list, or as an error indication from functions returning pointers.',\n",
              "  {'entities': [(0, 19, 'PL1'),\n",
              "    (78, 85, 'PL1'),\n",
              "    (93, 103, 'PL1'),\n",
              "    (109, 115, 'PL1'),\n",
              "    (153, 181, 'PL1')]}),\n",
              " ('null pointer values are useful for indicating special cases such as no  next  pointer in the final node of a linked list, or as an error indication from functions returning pointers.',\n",
              "  {'entities': [(0, 19, 'PL1'), (93, 103, 'PL1'), (131, 147, 'PL1')]}),\n",
              " ('in appropriate contexts in source code, such as for assigning to a pointer variable, a null pointer constant can be written as 0, with or without explicit casting to a pointer type, or as the null macro defined by several standard headers.',\n",
              "  {'entities': [(15, 23, 'PL1'),\n",
              "    (27, 38, 'PL1'),\n",
              "    (52, 61, 'PL1'),\n",
              "    (67, 83, 'PL1'),\n",
              "    (87, 108, 'PL1'),\n",
              "    (146, 162, 'PL1'),\n",
              "    (168, 180, 'PL1'),\n",
              "    (192, 210, 'PL1'),\n",
              "    (222, 238, 'PL1')]}),\n",
              " ('in appropriate contexts in source code, such as for assigning to a pointer variable, a null pointer constant can be written as 0, with or without explicit casting to a pointer type, or as the null macro defined by several standard headers.',\n",
              "  {'entities': [(27, 38, 'PL1'),\n",
              "    (87, 99, 'PL1'),\n",
              "    (168, 180, 'PL1'),\n",
              "    (192, 202, 'PL1')]}),\n",
              " ('in conditional contexts, null pointer values evaluate to false, while all other pointer values evaluate to true.void pointers (void *) point to objects of unspecified type, and can therefore be used as  generic  data pointers.',\n",
              "  {'entities': [(25, 44, 'PL1'),\n",
              "    (80, 94, 'PL1'),\n",
              "    (112, 125, 'PL1'),\n",
              "    (127, 132, 'PL1'),\n",
              "    (135, 140, 'PL1'),\n",
              "    (144, 151, 'PL1'),\n",
              "    (155, 171, 'PL1'),\n",
              "    (212, 225, 'PL1')]}),\n",
              " ('in conditional contexts, null pointer values evaluate to false, while all other pointer values evaluate to true.void pointers (void *) point to objects of unspecified type, and can therefore be used as  generic  data pointers.',\n",
              "  {'entities': [(25, 44, 'PL1'),\n",
              "    (80, 94, 'PL1'),\n",
              "    (112, 117, 'PL1'),\n",
              "    (127, 132, 'PL1'),\n",
              "    (155, 171, 'PL1'),\n",
              "    (212, 225, 'PL1')]}),\n",
              " ('since the size and type of the pointed-to object is not known, void pointers cannot be dereferenced, nor is pointer arithmetic on them allowed, although they can easily be',\n",
              "  {'entities': [(10, 14, 'PL1'),\n",
              "    (19, 23, 'PL1'),\n",
              "    (31, 41, 'PL1'),\n",
              "    (42, 48, 'PL1'),\n",
              "    (63, 76, 'PL1'),\n",
              "    (87, 99, 'PL1'),\n",
              "    (108, 126, 'PL1')]}),\n",
              " ('since the size and type of the pointed-to object is not known, void pointers cannot be dereferenced, nor is pointer arithmetic on them allowed, although they can easily be',\n",
              "  {'entities': [(31, 48, 'PL1'), (63, 76, 'PL1'), (108, 126, 'PL1')]}),\n",
              " ('(and in many contexts implicitly are) converted to and from any other object pointer type.[28]careless use of pointers is potentially dangerous.',\n",
              "  {'entities': [(70, 89, 'PL1'), (110, 118, 'PL1')]}),\n",
              " ('because they are typically unchecked, a pointer variable can be made to point to any arbitrary location, which can cause undesirable effects.',\n",
              "  {'entities': [(40, 56, 'PL1'), (72, 77, 'PL1'), (85, 103, 'PL1')]}),\n",
              " ('because they are typically unchecked, a pointer variable can be made to point to any arbitrary location, which can cause undesirable effects.',\n",
              "  {'entities': [(85, 103, 'PL1'), (121, 140, 'PL1')]}),\n",
              " ('although properly used pointers point to safe places, they can be made to point to unsafe places by using invalid pointer arithmetic; the objects they point to may continue to be used after deallocation (dangling pointers); they may be used without having been initialized (wild pointers); or they may be directly assigned an unsafe value using a cast, union, or through another corrupt pointer.',\n",
              "  {'entities': [(23, 37, 'PL1'),\n",
              "    (74, 79, 'PL1'),\n",
              "    (106, 132, 'PL1'),\n",
              "    (138, 145, 'PL1'),\n",
              "    (151, 156, 'PL1'),\n",
              "    (190, 202, 'PL1'),\n",
              "    (204, 221, 'PL1'),\n",
              "    (261, 272, 'PL1'),\n",
              "    (274, 287, 'PL1'),\n",
              "    (305, 322, 'PL1'),\n",
              "    (353, 358, 'PL1'),\n",
              "    (379, 394, 'PL1')]}),\n",
              " ('although properly used pointers point to safe places, they can be made to point to unsafe places by using invalid pointer arithmetic; the objects they point to may continue to be used after deallocation (dangling pointers); they may be used without having been initialized (wild pointers); or they may be directly assigned an unsafe value using a cast, union, or through another corrupt pointer.',\n",
              "  {'entities': [(106, 132, 'PL1'),\n",
              "    (274, 287, 'PL1'),\n",
              "    (326, 338, 'PL1'),\n",
              "    (347, 351, 'PL1'),\n",
              "    (379, 394, 'PL1')]}),\n",
              " ('in general, c is permissive in allowing manipulation of and conversion between pointer types, although compilers typically provide options for various levels of checking.',\n",
              "  {'entities': [(79, 92, 'PL1'), (103, 112, 'PL1')]}),\n",
              " ('in general, c is permissive in allowing manipulation of and conversion between pointer types, although compilers typically provide options for various levels of checking.',\n",
              "  {'entities': [(79, 92, 'PL1'), (143, 157, 'PL1')]}),\n",
              " ('some other programming languages address these problems by using more restrictive reference types.arrayssee also: c stringarray types in c are traditionally of a fixed, static size specified at compile time.',\n",
              "  {'entities': [(11, 40, 'PL1'),\n",
              "    (70, 97, 'PL1'),\n",
              "    (116, 133, 'PL1'),\n",
              "    (162, 167, 'PL1'),\n",
              "    (169, 180, 'PL1'),\n",
              "    (194, 206, 'PL1')]}),\n",
              " ('some other programming languages address these problems by using more restrictive reference types.arrayssee also: c stringarray types in c are traditionally of a fixed, static size specified at compile time.',\n",
              "  {'entities': [(23, 40, 'PL1'),\n",
              "    (114, 133, 'PL1'),\n",
              "    (169, 180, 'PL1'),\n",
              "    (194, 206, 'PL1')]}),\n",
              " ('however, it is also possible to allocate a block of memory (of arbitrary size) at run-time, using the standard library s malloc function, and treat it as an array.',\n",
              "  {'entities': [(52, 58, 'PL1'),\n",
              "    (63, 77, 'PL1'),\n",
              "    (82, 90, 'PL1'),\n",
              "    (102, 118, 'PL1'),\n",
              "    (121, 136, 'PL1'),\n",
              "    (157, 162, 'PL1')]}),\n",
              " ('however, it is also possible to allocate a block of memory (of arbitrary size) at run-time, using the standard library s malloc function, and treat it as an array.',\n",
              "  {'entities': [(63, 77, 'PL1'), (102, 118, 'PL1')]}),\n",
              " ('however, it is also possible to allocate a block of memory (of arbitrary size) at run-time, using the standard library s malloc function, and treat it as an array.',\n",
              "  {'entities': [(63, 77, 'PL1'), (121, 136, 'PL1')]}),\n",
              " ('c s unification of arrays and pointers means that declared arrays and these dynamically allocated simulated arrays are virtually interchangeable.since arrays are always accessed (in effect) via pointers, array accesses are typically not checked against the underlying array size, although some compilers may provide bounds checking as an option.[31][32] array bounds violations are therefore possible and rather common in carelessly written code, and can lead to various repercussions, including illegal memory accesses, corruption of data, buffer overruns, and run-time exceptions.',\n",
              "  {'entities': [(19, 25, 'PL1'),\n",
              "    (30, 38, 'PL1'),\n",
              "    (50, 65, 'PL1'),\n",
              "    (98, 114, 'PL1'),\n",
              "    (151, 157, 'PL1'),\n",
              "    (169, 177, 'PL1'),\n",
              "    (194, 202, 'PL1'),\n",
              "    (204, 218, 'PL1'),\n",
              "    (268, 278, 'PL1'),\n",
              "    (294, 303, 'PL1'),\n",
              "    (354, 377, 'PL1'),\n",
              "    (496, 519, 'PL1'),\n",
              "    (521, 531, 'PL1'),\n",
              "    (541, 547, 'PL1'),\n",
              "    (562, 581, 'PL1')]}),\n",
              " ('c s unification of arrays and pointers means that declared arrays and these dynamically allocated simulated arrays are virtually interchangeable.since arrays are always accessed (in effect) via pointers, array accesses are typically not checked against the underlying array size, although some compilers may provide bounds checking as an option.[31][32] array bounds violations are therefore possible and rather common in carelessly written code, and can lead to various repercussions, including illegal memory accesses, corruption of data, buffer overruns, and run-time exceptions.',\n",
              "  {'entities': [(4, 15, 'PL1'),\n",
              "    (30, 38, 'PL1'),\n",
              "    (194, 202, 'PL1'),\n",
              "    (204, 218, 'PL1'),\n",
              "    (268, 278, 'PL1'),\n",
              "    (354, 377, 'PL1'),\n",
              "    (496, 519, 'PL1'),\n",
              "    (541, 556, 'PL1')]}),\n",
              " ('manually.c does not have a special provision for declaring multi-dimensional arrays, but rather relies on recursion within the type system to declare arrays of arrays, which effectively accomplishes the same thing.',\n",
              "  {'entities': [(59, 76, 'PL1'),\n",
              "    (77, 83, 'PL1'),\n",
              "    (106, 115, 'PL1'),\n",
              "    (127, 138, 'PL1'),\n",
              "    (142, 156, 'PL1'),\n",
              "    (160, 166, 'PL1')]}),\n",
              " ('manually.c does not have a special provision for declaring multi-dimensional arrays, but rather relies on recursion within the type system to declare arrays of arrays, which effectively accomplishes the same thing.',\n",
              "  {'entities': [(59, 83, 'PL1'), (127, 138, 'PL1')]}),\n",
              " ('the index values of the resulting  multi-dimensional array  can be thought of as increasing in row-major order.multi-dimensional arrays are commonly used in numerical algorithms (mainly from applied linear algebra) to store matrices.',\n",
              "  {'entities': [(4, 16, 'PL1'),\n",
              "    (35, 58, 'PL1'),\n",
              "    (95, 104, 'PL1'),\n",
              "    (111, 135, 'PL1'),\n",
              "    (157, 177, 'PL1'),\n",
              "    (199, 213, 'PL1'),\n",
              "    (224, 232, 'PL1')]}),\n",
              " ('the index values of the resulting  multi-dimensional array  can be thought of as increasing in row-major order.multi-dimensional arrays are commonly used in numerical algorithms (mainly from applied linear algebra) to store matrices.',\n",
              "  {'entities': [(4, 16, 'PL1'),\n",
              "    (35, 58, 'PL1'),\n",
              "    (95, 104, 'PL1'),\n",
              "    (111, 134, 'PL1'),\n",
              "    (157, 177, 'PL1'),\n",
              "    (199, 213, 'PL1')]}),\n",
              " ('the structure of the c array is well suited to this particular task.',\n",
              "  {'entities': [(4, 13, 'PL1'), (23, 28, 'PL1')]}),\n",
              " ('however, since arrays are passed merely as pointers, the bounds of the array must be known fixed values or else explicitly passed to any subroutine that requires them, and dynamically sized arrays of arrays cannot be accessed using double indexing.',\n",
              "  {'entities': [(15, 21, 'PL1'),\n",
              "    (43, 51, 'PL1'),\n",
              "    (57, 63, 'PL1'),\n",
              "    (71, 76, 'PL1'),\n",
              "    (91, 103, 'PL1'),\n",
              "    (172, 196, 'PL1'),\n",
              "    (200, 206, 'PL1'),\n",
              "    (232, 247, 'PL1')]}),\n",
              " ('(a workaround for this is to allocate the array with an additional  row vector  of pointers to the columns.)c99 introduced  variable-length arrays  which address some, but not all, of the issues with ordinary c arrays.arraypointer interchangeabilitythe',\n",
              "  {'entities': [(29, 37, 'PL1'),\n",
              "    (42, 47, 'PL1'),\n",
              "    (68, 78, 'PL1'),\n",
              "    (83, 91, 'PL1'),\n",
              "    (99, 106, 'PL1'),\n",
              "    (124, 146, 'PL1'),\n",
              "    (154, 161, 'PL1'),\n",
              "    (209, 217, 'PL1'),\n",
              "    (218, 230, 'PL1')]}),\n",
              " ('(a workaround for this is to allocate the array with an additional  row vector  of pointers to the columns.)c99 introduced  variable-length arrays  which address some, but not all, of the issues with ordinary c arrays.arraypointer interchangeabilitythe',\n",
              "  {'entities': [(68, 78, 'PL1'), (124, 146, 'PL1')]}),\n",
              " ('(where x designates a pointer) is syntactic sugar for *',\n",
              "  {'entities': [(9, 19, 'PL1'), (22, 29, 'PL1')]}),\n",
              " ('(x+i).[33] taking advantage of the compiler s knowledge of the pointer type, the address that x',\n",
              "  {'entities': [(35, 43, 'PL1'), (63, 75, 'PL1'), (81, 88, 'PL1')]}),\n",
              " ('+ i points to is not the base address (pointed to by x) incremented by i bytes, but rather is defined to be the base address incremented by i multiplied by the size of an element that x points to.',\n",
              "  {'entities': [(4, 10, 'PL1'),\n",
              "    (25, 37, 'PL1'),\n",
              "    (39, 46, 'PL1'),\n",
              "    (56, 67, 'PL1'),\n",
              "    (73, 78, 'PL1'),\n",
              "    (112, 136, 'PL1'),\n",
              "    (160, 164, 'PL1'),\n",
              "    (171, 178, 'PL1'),\n",
              "    (186, 192, 'PL1')]}),\n",
              " ('+ i points to is not the base address (pointed to by x) incremented by i bytes, but rather is defined to be the base address incremented by i multiplied by the size of an element that x points to.',\n",
              "  {'entities': [(4, 10, 'PL1'),\n",
              "    (25, 37, 'PL1'),\n",
              "    (73, 78, 'PL1'),\n",
              "    (112, 124, 'PL1'),\n",
              "    (186, 192, 'PL1')]}),\n",
              " ('thus, x[i] designates the i+1th element of the array.furthermore, in most expression contexts (a notable exception is as operand of sizeof), the name of an array is automatically converted to a pointer to the array s first element.',\n",
              "  {'entities': [(32, 39, 'PL1'),\n",
              "    (47, 52, 'PL1'),\n",
              "    (105, 114, 'PL1'),\n",
              "    (121, 128, 'PL1'),\n",
              "    (132, 138, 'PL1'),\n",
              "    (156, 161, 'PL1'),\n",
              "    (194, 201, 'PL1'),\n",
              "    (209, 214, 'PL1'),\n",
              "    (223, 230, 'PL1')]}),\n",
              " ('thus, x[i] designates the i+1th element of the array.furthermore, in most expression contexts (a notable exception is as operand of sizeof), the name of an array is automatically converted to a pointer to the array s first element.',\n",
              "  {'entities': [(11, 21, 'PL1'),\n",
              "    (32, 39, 'PL1'),\n",
              "    (47, 52, 'PL1'),\n",
              "    (156, 161, 'PL1'),\n",
              "    (209, 214, 'PL1'),\n",
              "    (223, 230, 'PL1')]}),\n",
              " ('this implies that an array is never copied as a whole when named as an argument to a function, but rather only the address of its first element is passed.',\n",
              "  {'entities': [(21, 26, 'PL1'),\n",
              "    (71, 79, 'PL1'),\n",
              "    (85, 93, 'PL1'),\n",
              "    (115, 122, 'PL1'),\n",
              "    (136, 143, 'PL1')]}),\n",
              " ('therefore, although function calls in c use pass-by-value semantics, arrays are in effect passed by reference.the size of an element can be determined by applying the operator sizeof to any dereferenced element of x, as in n =',\n",
              "  {'entities': [(20, 34, 'PL1'),\n",
              "    (44, 57, 'PL1'),\n",
              "    (58, 67, 'PL1'),\n",
              "    (69, 75, 'PL1'),\n",
              "    (90, 109, 'PL1'),\n",
              "    (114, 118, 'PL1'),\n",
              "    (125, 132, 'PL1'),\n",
              "    (167, 175, 'PL1'),\n",
              "    (176, 180, 'PL1'),\n",
              "    (190, 210, 'PL1')]}),\n",
              " ('therefore, although function calls in c use pass-by-value semantics, arrays are in effect passed by reference.the size of an element can be determined by applying the operator sizeof to any dereferenced element of x, as in n =',\n",
              "  {'entities': [(20, 34, 'PL1'),\n",
              "    (44, 57, 'PL1'),\n",
              "    (90, 109, 'PL1'),\n",
              "    (167, 175, 'PL1')]}),\n",
              " ('= sizeof x[0], and the number of elements in a declared array a can be determined as sizeof a / sizeof a[0].',\n",
              "  {'entities': [(33, 41, 'PL1'), (47, 61, 'PL1')]}),\n",
              " ('the latter only applies to array names: variables declared with subscripts (int a[20]).',\n",
              "  {'entities': [(27, 38, 'PL1'), (40, 58, 'PL1'), (76, 79, 'PL1')]}),\n",
              " ('due to the semantics of c, it is not possible to determine the entire size of arrays through pointers to arrays or those created by dynamic allocation (malloc); code such as sizeof',\n",
              "  {'entities': [(11, 20, 'PL1'),\n",
              "    (70, 74, 'PL1'),\n",
              "    (78, 84, 'PL1'),\n",
              "    (93, 101, 'PL1'),\n",
              "    (105, 111, 'PL1'),\n",
              "    (132, 150, 'PL1'),\n",
              "    (152, 158, 'PL1'),\n",
              "    (161, 165, 'PL1'),\n",
              "    (174, 180, 'PL1')]}),\n",
              " ('due to the semantics of c, it is not possible to determine the entire size of arrays through pointers to arrays or those created by dynamic allocation (malloc); code such as sizeof',\n",
              "  {'entities': [(63, 74, 'PL1'), (132, 150, 'PL1')]}),\n",
              " ('(where arr designates a pointer) will not work since the compiler assumes the size of the pointer itself is being requested.[34][35]',\n",
              "  {'entities': [(11, 21, 'PL1'),\n",
              "    (24, 31, 'PL1'),\n",
              "    (57, 65, 'PL1'),\n",
              "    (78, 82, 'PL1'),\n",
              "    (90, 97, 'PL1')]}),\n",
              " ('(where arr designates a pointer) will not work since the compiler assumes the size of the pointer itself is being requested.[34][35]',\n",
              "  {'entities': [(11, 21, 'PL1'), (57, 65, 'PL1')]}),\n",
              " ('since array name arguments to sizeof are not converted to pointers, they do not exhibit such ambiguity.',\n",
              "  {'entities': [(6, 11, 'PL1'),\n",
              "    (17, 26, 'PL1'),\n",
              "    (30, 36, 'PL1'),\n",
              "    (58, 66, 'PL1')]}),\n",
              " ('however, arrays created by dynamic allocation are accessed by pointers rather than true array variables, so they suffer from the same sizeof issues as array pointers.thus, despite this apparent equivalence between array and pointer variables, there is still a distinction to be made between them.',\n",
              "  {'entities': [(9, 14, 'PL1'),\n",
              "    (27, 45, 'PL1'),\n",
              "    (62, 70, 'PL1'),\n",
              "    (88, 93, 'PL1'),\n",
              "    (134, 140, 'PL1'),\n",
              "    (151, 165, 'PL1'),\n",
              "    (214, 219, 'PL1'),\n",
              "    (224, 241, 'PL1')]}),\n",
              " ('however, arrays created by dynamic allocation are accessed by pointers rather than true array variables, so they suffer from the same sizeof issues as array pointers.thus, despite this apparent equivalence between array and pointer variables, there is still a distinction to be made between them.',\n",
              "  {'entities': [(27, 45, 'PL1'),\n",
              "    (83, 103, 'PL1'),\n",
              "    (134, 140, 'PL1'),\n",
              "    (224, 241, 'PL1')]}),\n",
              " ('even though the name of an array is, in most expression contexts, converted into a pointer (to its first element), this pointer does not itself occupy any storage; the array name is not an l-value, and its address is a constant, unlike a pointer variable.',\n",
              "  {'entities': [(27, 32, 'PL1'),\n",
              "    (83, 90, 'PL1'),\n",
              "    (105, 112, 'PL1'),\n",
              "    (120, 127, 'PL1'),\n",
              "    (168, 173, 'PL1'),\n",
              "    (206, 213, 'PL1'),\n",
              "    (219, 227, 'PL1'),\n",
              "    (238, 254, 'PL1')]}),\n",
              " ('consequently, what an array  points to  cannot be changed, and it is impossible to assign a new address to an array name.',\n",
              "  {'entities': [(22, 27, 'PL1'),\n",
              "    (29, 35, 'PL1'),\n",
              "    (83, 89, 'PL1'),\n",
              "    (96, 103, 'PL1'),\n",
              "    (110, 115, 'PL1')]}),\n",
              " ('consequently, what an array  points to  cannot be changed, and it is impossible to assign a new address to an array name.',\n",
              "  {'entities': [(92, 103, 'PL1'), (110, 120, 'PL1')]}),\n",
              " ('array contents may be copied, however, by using the memcpy function, or by accessing the individual elements.',\n",
              "  {'entities': [(0, 5, 'PL1'), (52, 58, 'PL1')]}),\n",
              " ('array contents may be copied, however, by using the memcpy function, or by accessing the individual elements.',\n",
              "  {'entities': [(0, 5, 'PL1'), (52, 58, 'PL1')]}),\n",
              " ('its syntax is:break;the break statement is almost always used with if...else statement inside the loop.how break statement works?working of break statementexample 1: break statement// program to calculate the sum of a maximum of 10 numbers//',\n",
              "  {'entities': [(4, 10, 'PL1'),\n",
              "    (14, 19, 'PL1'),\n",
              "    (24, 39, 'PL1'),\n",
              "    (98, 102, 'PL1'),\n",
              "    (107, 122, 'PL1'),\n",
              "    (140, 155, 'PL1'),\n",
              "    (166, 181, 'PL1')]}),\n",
              " ('its syntax is:break;the break statement is almost always used with if...else statement inside the loop.how break statement works?working of break statementexample 1: break statement// program to calculate the sum of a maximum of 10 numbers//',\n",
              "  {'entities': [(24, 39, 'PL1'),\n",
              "    (107, 122, 'PL1'),\n",
              "    (140, 155, 'PL1'),\n",
              "    (166, 181, 'PL1')]}),\n",
              " ('if a negative number is entered, the loop terminates # include <stdio.h> int main() { int i ; double number, sum ',\n",
              "  {'entities': [(37, 52, 'PL1'), (53, 72, 'PL1'), (73, 81, 'PL1')]}),\n",
              " ('if a negative number is entered, the loop terminates # include <stdio.h> int main() { int i ; double number, sum ',\n",
              "  {'entities': [(5, 20, 'PL1'),\n",
              "    (37, 52, 'PL1'),\n",
              "    (63, 72, 'PL1'),\n",
              "    (94, 107, 'PL1')]}),\n",
              " ('if the user enters a negative number, the loop endsif(number < 0.0){break;}sum',\n",
              "  {'entities': [(21, 36, 'PL1'), (42, 46, 'PL1'), (68, 73, 'PL1')]}),\n",
              " ('if the user enters a negative number, the loop endsif(number < 0.0){break;}sum',\n",
              "  {'entities': [(21, 36, 'PL1'), (42, 46, 'PL1')]}),\n",
              " ('it s because if the user enters a negative number, the break statement is executed.',\n",
              "  {'entities': [(34, 49, 'PL1'), (55, 70, 'PL1')]}),\n",
              " ('it s because if the user enters a negative number, the break statement is executed.',\n",
              "  {'entities': [(34, 49, 'PL1'), (55, 70, 'PL1')]}),\n",
              " ('this will end the for loop, and the sum is displayed.in c, break is also used with the switch statement.',\n",
              "  {'entities': [(10, 13, 'PL1'),\n",
              "    (22, 26, 'PL1'),\n",
              "    (36, 39, 'PL1'),\n",
              "    (43, 52, 'PL1'),\n",
              "    (59, 64, 'PL1'),\n",
              "    (87, 103, 'PL1')]}),\n",
              " ('this will end the for loop, and the sum is displayed.in c, break is also used with the switch statement.',\n",
              "  {'entities': [(43, 52, 'PL1'), (87, 103, 'PL1')]}),\n",
              " ('the current iteration of the loop and continues with the next iteration.',\n",
              "  {'entities': [(4, 21, 'PL1'),\n",
              "    (29, 33, 'PL1'),\n",
              "    (38, 47, 'PL1'),\n",
              "    (62, 71, 'PL1')]}),\n",
              " ('its syntax is:continue;the continue statement is almost always used with the if...',\n",
              "  {'entities': [(4, 10, 'PL1'), (14, 22, 'PL1'), (27, 45, 'PL1')]}),\n",
              " ('else statement.how continue statement works?working of continue statement in c programmingexample 2: continue statement// program to calculate the sum of a maximum of 10 numbers// negative numbers are skipped from the calculation#',\n",
              "  {'entities': [(5, 14, 'PL1'),\n",
              "    (19, 37, 'PL1'),\n",
              "    (55, 73, 'PL1'),\n",
              "    (101, 119, 'PL1'),\n",
              "    (147, 150, 'PL1'),\n",
              "    (156, 163, 'PL1')]}),\n",
              " ('else statement.how continue statement works?working of continue statement in c programmingexample 2: continue statement// program to calculate the sum of a maximum of 10 numbers// negative numbers are skipped from the calculation#',\n",
              "  {'entities': [(0, 14, 'PL1'), (180, 196, 'PL1')]}),\n",
              " ('include <stdio.h> int main() { int i ; double number , sum ',\n",
              "  {'entities': [(8, 17, 'PL1'),\n",
              "    (18, 26, 'PL1'),\n",
              "    (31, 34, 'PL1'),\n",
              "    (39, 52, 'PL1')]}),\n",
              " ('include <stdio.h> int main() {int i ; double number , sum',\n",
              "  {'entities': [(8, 17, 'PL1'), (18, 26, 'PL1'), (38, 51, 'PL1')]}),\n",
              " (', when the user enters a positive number, the sum is calculated using sum += number; statement.when the user enters a negative number, the continue statement is executed and it skips the negative number from the calculation.',\n",
              "  {'entities': [(25, 40, 'PL1'), (118, 133, 'PL1'), (187, 202, 'PL1')]}),\n",
              " ('this tutorial, you will learn to create the switch statement in c programming with the help of an example.the switch statement allows us to execute one code block among many alternatives.you can do the same thing with the if...else..',\n",
              "  {'entities': [(44, 60, 'PL1'),\n",
              "    (66, 77, 'PL1'),\n",
              "    (110, 126, 'PL1'),\n",
              "    (140, 147, 'PL1'),\n",
              "    (152, 162, 'PL1')]}),\n",
              " ('this tutorial, you will learn to create the switch statement in c programming with the help of an example.the switch statement allows us to execute one code block among many alternatives.you can do the same thing with the if...else..',\n",
              "  {'entities': [(44, 60, 'PL1'),\n",
              "    (110, 126, 'PL1'),\n",
              "    (152, 162, 'PL1'),\n",
              "    (227, 231, 'PL1')]}),\n",
              " ('however, the syntax of the switch statement is much easier to read and write.syntax of switch...caseswitch (expression)?{case',\n",
              "  {'entities': [(13, 19, 'PL1'),\n",
              "    (27, 43, 'PL1'),\n",
              "    (62, 66, 'PL1'),\n",
              "    (71, 76, 'PL1'),\n",
              "    (77, 83, 'PL1'),\n",
              "    (87, 93, 'PL1'),\n",
              "    (96, 106, 'PL1'),\n",
              "    (108, 118, 'PL1')]}),\n",
              " ('default:// default statements}how does the switch statement',\n",
              "  {'entities': [(11, 29, 'PL1'), (43, 59, 'PL1')]}),\n",
              " ('work?the expression is evaluated once and compared with the values of each case label.if there is a match, the corresponding statements after the matching label are executed.',\n",
              "  {'entities': [(9, 19, 'PL1'),\n",
              "    (60, 66, 'PL1'),\n",
              "    (75, 79, 'PL1'),\n",
              "    (100, 105, 'PL1'),\n",
              "    (125, 135, 'PL1'),\n",
              "    (146, 160, 'PL1')]}),\n",
              " ('for example, if the value of the expression is equal to constant2, statements after case constant2: are executed until break is encountered.if there is no match, the default statements are executed. if we do not use break, all statements after the matching label are executed. by the way, the default clause inside the switch statement is optional. switch statement flowchartflowchart of switch statementexample: simple calculator// program to create a simple calculator #include <stdio.h> int main() { char operator ; double',\n",
              "  {'entities': [(33, 43, 'PL1'),\n",
              "    (47, 52, 'PL1'),\n",
              "    (67, 77, 'PL1'),\n",
              "    (119, 124, 'PL1'),\n",
              "    (155, 160, 'PL1'),\n",
              "    (166, 184, 'PL1'),\n",
              "    (216, 221, 'PL1'),\n",
              "    (227, 237, 'PL1'),\n",
              "    (248, 262, 'PL1'),\n",
              "    (293, 307, 'PL1'),\n",
              "    (319, 335, 'PL1'),\n",
              "    (339, 347, 'PL1'),\n",
              "    (349, 365, 'PL1'),\n",
              "    (370, 374, 'PL1'),\n",
              "    (379, 383, 'PL1'),\n",
              "    (388, 404, 'PL1'),\n",
              "    (471, 489, 'PL1'),\n",
              "    (490, 498, 'PL1'),\n",
              "    (503, 507, 'PL1'),\n",
              "    (508, 516, 'PL1'),\n",
              "    (519, 525, 'PL1')]}),\n",
              " ('for example, if the value of the expression is equal to constant2, statements after case constant2: are executed until break is encountered.if there is no match, the default statements are executed.if we do not use break, all statements after the matching label are executed.by the way, the default clause inside the switch statement is optional.switch statement flowchartflowchart of switch statementexample: simple calculator// program to create a simple calculator#include <stdio.h>int main() {char operator;double',\n",
              "  {'entities': [(166, 184, 'PL1'),\n",
              "    (291, 305, 'PL1'),\n",
              "    (317, 333, 'PL1'),\n",
              "    (346, 362, 'PL1'),\n",
              "    (385, 401, 'PL1'),\n",
              "    (502, 510, 'PL1')]}),\n",
              " ('32.512.432.5 - 12.4 = 20.1the - operator entered by the user is stored in the operator variable.',\n",
              "  {'entities': [(32, 40, 'PL1'), (78, 95, 'PL1')]}),\n",
              " ('and, two operands 32.5 and 12.4 are stored in variables n1 and n2 respectively.since',\n",
              "  {'entities': [(9, 17, 'PL1'), (46, 55, 'PL1')]}),\n",
              " (' , n1, n2, n1-n2);finally, the break statement terminates the switch statement.',\n",
              "  {'entities': [(31, 46, 'PL1'), (47, 57, 'PL1'), (62, 78, 'PL1')]}),\n",
              " (' , n1, n2, n1-n2);finally, the break statement terminates the switch statement.',\n",
              "  {'entities': [(31, 46, 'PL1'), (62, 78, 'PL1')]}),\n",
              " ('also, you will learn when to use a goto statement and when not to use it.the goto statement allows us to transfer control of the program to the specified label.syntax of goto statementgoto label;... ..',\n",
              "  {'entities': [(35, 49, 'PL1'),\n",
              "    (77, 91, 'PL1'),\n",
              "    (105, 121, 'PL1'),\n",
              "    (154, 159, 'PL1'),\n",
              "    (160, 166, 'PL1'),\n",
              "    (170, 184, 'PL1'),\n",
              "    (189, 194, 'PL1')]}),\n",
              " ('also, you will learn when to use a goto statement and when not to use it.the goto statement allows us to transfer control of the program to the specified label.syntax of goto statementgoto label;... ..',\n",
              "  {'entities': [(35, 49, 'PL1'), (77, 91, 'PL1'), (170, 194, 'PL1')]}),\n",
              " ('statement;the label is an identifier.',\n",
              "  {'entities': [(0, 9, 'PL1'), (14, 19, 'PL1'), (26, 36, 'PL1')]}),\n",
              " ('when the goto statement is encountered, the control of the program jumps to label: and starts executing the code.how goto statement works?example: goto statement// program to calculate the sum and average of positive numbers// if the user enters a negative number, the sum and average are displayed.',\n",
              "  {'entities': [(9, 23, 'PL1'),\n",
              "    (108, 112, 'PL1'),\n",
              "    (117, 137, 'PL1'),\n",
              "    (147, 161, 'PL1'),\n",
              "    (189, 192, 'PL1'),\n",
              "    (197, 204, 'PL1'),\n",
              "    (208, 224, 'PL1'),\n",
              "    (248, 263, 'PL1'),\n",
              "    (269, 272, 'PL1'),\n",
              "    (277, 284, 'PL1'),\n",
              "    (289, 298, 'PL1')]}),\n",
              " ('when the goto statement is encountered, the control of the program jumps to label: and starts executing the code.how goto statement works?example: goto statement// program to calculate the sum and average of positive numbers// if the user enters a negative number, the sum and average are displayed.',\n",
              "  {'entities': [(9, 23, 'PL1'),\n",
              "    (117, 131, 'PL1'),\n",
              "    (147, 161, 'PL1'),\n",
              "    (208, 224, 'PL1'),\n",
              "    (248, 263, 'PL1')]}),\n",
              " ('# include <stdio.h> int main() {const int maxinput',\n",
              "  {'entities': [(0, 19, 'PL1'), (20, 23, 'PL1'), (38, 41, 'PL1')]}),\n",
              " ('i;double number, average, sum=0.0;for(i=1; i<=maxinput;',\n",
              "  {'entities': [(2, 15, 'PL1'), (17, 24, 'PL1')]}),\n",
              " ('also, the goto statement allows you to do bad stuff such as jump out of the scope.that being said, goto can be useful sometimes.',\n",
              "  {'entities': [(10, 24, 'PL1'), (76, 81, 'PL1'), (99, 103, 'PL1')]}),\n",
              " ('for example: to break from nested loops.',\n",
              "  {'entities': [(16, 21, 'PL1'), (27, 39, 'PL1')]}),\n",
              " (', you will be introduced to functions (both user-defined and standard library functions) in c programming.',\n",
              "  {'entities': [(28, 37, 'PL1'),\n",
              "    (44, 56, 'PL1'),\n",
              "    (61, 77, 'PL1'),\n",
              "    (78, 87, 'PL1'),\n",
              "    (94, 105, 'PL1')]}),\n",
              " ('also, you will learn why functions are used in programming.a function is a block of code that performs a specific task.suppose, you need to create a program to create a circle and color it.',\n",
              "  {'entities': [(25, 34, 'PL1'),\n",
              "    (47, 58, 'PL1'),\n",
              "    (61, 69, 'PL1'),\n",
              "    (75, 80, 'PL1'),\n",
              "    (84, 88, 'PL1'),\n",
              "    (149, 156, 'PL1')]}),\n",
              " ('you can create two functions to solve this problem:create a circle functioncreate a color functiondividing a complex problem into smaller chunks',\n",
              "  {'entities': [(19, 28, 'PL1'), (130, 144, 'PL1')]}),\n",
              " ('makes our program easy to understand and reuse.types of functionthere are two types of function in c programming:standard library functionsuser-defined functionsstandard library functionsthe standard library functions are built-in functions in c programming.these functions are defined in header files.',\n",
              "  {'entities': [(47, 52, 'PL1'),\n",
              "    (56, 64, 'PL1'),\n",
              "    (78, 83, 'PL1'),\n",
              "    (87, 95, 'PL1'),\n",
              "    (101, 112, 'PL1'),\n",
              "    (130, 139, 'PL1'),\n",
              "    (144, 151, 'PL1'),\n",
              "    (152, 161, 'PL1'),\n",
              "    (178, 187, 'PL1'),\n",
              "    (208, 217, 'PL1'),\n",
              "    (222, 230, 'PL1'),\n",
              "    (231, 240, 'PL1'),\n",
              "    (246, 257, 'PL1'),\n",
              "    (264, 273, 'PL1'),\n",
              "    (278, 285, 'PL1'),\n",
              "    (289, 301, 'PL1')]}),\n",
              " ('makes our program easy to understand and reuse.types of functionthere are two types of function in c programming:standard library functionsuser-defined functionsstandard library functionsthe standard library functions are built-in functions in c programming.these functions are defined in header files.',\n",
              "  {'entities': [(99, 112, 'PL1'),\n",
              "    (113, 139, 'PL1'),\n",
              "    (161, 187, 'PL1'),\n",
              "    (191, 217, 'PL1'),\n",
              "    (222, 240, 'PL1'),\n",
              "    (244, 257, 'PL1')]}),\n",
              " ('for example,the printf() is a standard library function to send formatted output to the screen (display output on the screen).',\n",
              "  {'entities': [(16, 22, 'PL1'),\n",
              "    (30, 55, 'PL1'),\n",
              "    (88, 94, 'PL1'),\n",
              "    (96, 110, 'PL1'),\n",
              "    (118, 124, 'PL1')]}),\n",
              " ('for example,the printf() is a standard library function to send formatted output to the screen (display output on the screen).',\n",
              "  {'entities': [(30, 55, 'PL1'), (96, 110, 'PL1')]}),\n",
              " ('this function is defined in the stdio.h header file.hence, to use the printf()function, we need to include the stdio.h header file using #include <stdio.h>.the sqrt() function calculates the square root of a number.',\n",
              "  {'entities': [(5, 13, 'PL1'),\n",
              "    (40, 51, 'PL1'),\n",
              "    (70, 76, 'PL1'),\n",
              "    (78, 86, 'PL1'),\n",
              "    (119, 130, 'PL1'),\n",
              "    (137, 155, 'PL1'),\n",
              "    (160, 164, 'PL1'),\n",
              "    (167, 175, 'PL1'),\n",
              "    (191, 202, 'PL1'),\n",
              "    (208, 214, 'PL1')]}),\n",
              " ('this function is defined in the stdio.h header file.hence, to use the printf()function, we need to include the stdio.h header file using #include <stdio.h>.the sqrt() function calculates the square root of a number.',\n",
              "  {'entities': [(32, 51, 'PL1'),\n",
              "    (111, 130, 'PL1'),\n",
              "    (137, 155, 'PL1'),\n",
              "    (191, 202, 'PL1')]}),\n",
              " ('the function is defined in the math.h header file.visit standard library functions in c programming to learn more.user-defined functionyou can also create functions as per your need.',\n",
              "  {'entities': [(4, 12, 'PL1'),\n",
              "    (16, 23, 'PL1'),\n",
              "    (31, 35, 'PL1'),\n",
              "    (38, 49, 'PL1'),\n",
              "    (56, 72, 'PL1'),\n",
              "    (73, 81, 'PL1'),\n",
              "    (88, 99, 'PL1'),\n",
              "    (114, 126, 'PL1'),\n",
              "    (127, 135, 'PL1'),\n",
              "    (155, 163, 'PL1')]}),\n",
              " ('.. ...}the execution of a c program begins from the main() function.when the compiler encounters functionname();, control of the program jumps tovoid functionname()and, the compiler starts executing the codes inside functionname().the control of the program jumps back to the main() function',\n",
              "  {'entities': [(52, 56, 'PL1'),\n",
              "    (59, 67, 'PL1'),\n",
              "    (97, 105, 'PL1'),\n",
              "    (150, 158, 'PL1'),\n",
              "    (216, 224, 'PL1'),\n",
              "    (276, 280, 'PL1'),\n",
              "    (283, 291, 'PL1')]}),\n",
              " ('once code inside the function definition is executed.how function works in c programming?note,',\n",
              "  {'entities': [(21, 40, 'PL1'), (77, 88, 'PL1')]}),\n",
              " ('function names are identifiers and should be unique.this is just an overview of user-defined functions.',\n",
              "  {'entities': [(19, 30, 'PL1'), (80, 102, 'PL1')]}),\n",
              " ('visit these pages to learn more on:user-defined function in c programmingtypes of user-defined functionsadvantages of user-defined functionthe program will be easier to understand, maintain and debug.reusable codes that can be used in other programsa large program can be divided into smaller modules.',\n",
              "  {'entities': [(35, 56, 'PL1'),\n",
              "    (82, 103, 'PL1'),\n",
              "    (118, 139, 'PL1'),\n",
              "    (200, 214, 'PL1')]}),\n",
              " ('these functions are known as user-defined functions.',\n",
              "  {'entities': [(6, 15, 'PL1'), (29, 51, 'PL1')]}),\n",
              " ('a+b;return result; // return statement}function prototypea function prototype is simply the declaration of a function that specifies function s name, parameters and return type.',\n",
              "  {'entities': [(4, 17, 'PL1'),\n",
              "    (39, 47, 'PL1'),\n",
              "    (59, 67, 'PL1'),\n",
              "    (92, 103, 'PL1'),\n",
              "    (109, 117, 'PL1'),\n",
              "    (133, 141, 'PL1'),\n",
              "    (150, 160, 'PL1'),\n",
              "    (165, 176, 'PL1')]}),\n",
              " ('a+b;return result; // return statement}function prototypea function prototype is simply the declaration of a function that specifies function s name, parameters and return type.',\n",
              "  {'entities': [(4, 17, 'PL1'), (165, 176, 'PL1')]}),\n",
              " ('body.a function prototype gives information to the compiler that the function may later be used in the program.syntax of function prototypereturntype functionname(type1 argument1, type2 argument2, ...);in the above example, int addnumbers(int a, int b); is the function prototype which provides the following information to the compiler:',\n",
              "  {'entities': [(7, 15, 'PL1'),\n",
              "    (51, 59, 'PL1'),\n",
              "    (69, 77, 'PL1'),\n",
              "    (103, 110, 'PL1'),\n",
              "    (111, 117, 'PL1'),\n",
              "    (121, 129, 'PL1'),\n",
              "    (150, 158, 'PL1'),\n",
              "    (224, 227, 'PL1'),\n",
              "    (239, 242, 'PL1'),\n",
              "    (246, 249, 'PL1'),\n",
              "    (261, 269, 'PL1'),\n",
              "    (328, 336, 'PL1')]}),\n",
              " ('body.a function prototype gives information to the compiler that the function may later be used in the program.syntax of function prototypereturntype functionname(type1 argument1, type2 argument2, ...);in the above example, int addnumbers(int a, int b); is the function prototype which provides the following information to the compiler:',\n",
              "  {'entities': [(163, 178, 'PL1'),\n",
              "    (180, 195, 'PL1'),\n",
              "    (224, 227, 'PL1'),\n",
              "    (239, 242, 'PL1'),\n",
              "    (246, 249, 'PL1')]}),\n",
              " ('name of the function is addnumbers()return type of the function is',\n",
              "  {'entities': [(12, 20, 'PL1'), (36, 47, 'PL1'), (55, 63, 'PL1')]}),\n",
              " ('inttwo arguments of type int are passed to the functionthe function prototype is not needed if the user-defined function is defined before the main()',\n",
              "  {'entities': [(20, 28, 'PL1'),\n",
              "    (47, 77, 'PL1'),\n",
              "    (99, 120, 'PL1'),\n",
              "    (124, 131, 'PL1'),\n",
              "    (143, 147, 'PL1')]}),\n",
              " ('function.calling a functioncontrol of the program is transferred to the user-defined function by calling it.syntax of function',\n",
              "  {'entities': [(0, 8, 'PL1'),\n",
              "    (9, 16, 'PL1'),\n",
              "    (19, 27, 'PL1'),\n",
              "    (42, 49, 'PL1'),\n",
              "    (72, 93, 'PL1'),\n",
              "    (97, 104, 'PL1'),\n",
              "    (108, 114, 'PL1'),\n",
              "    (118, 126, 'PL1')]}),\n",
              " ('callfunctionname(argument1, argument2, ...);in the above example, the function call is made using addnumbers(n1, n2); statement inside the main() function.function definitionfunction definition contains the block of code to perform a specific task.',\n",
              "  {'entities': [(4, 12, 'PL1'),\n",
              "    (17, 26, 'PL1'),\n",
              "    (28, 37, 'PL1'),\n",
              "    (70, 83, 'PL1'),\n",
              "    (139, 143, 'PL1'),\n",
              "    (146, 154, 'PL1'),\n",
              "    (155, 163, 'PL1'),\n",
              "    (174, 182, 'PL1'),\n",
              "    (207, 212, 'PL1'),\n",
              "    (216, 220, 'PL1')]}),\n",
              " ('in our example, adding two numbers and returning it.syntax of function definitionreturntype functionname(type1 argument1, type2 argument2, ...)',\n",
              "  {'entities': [(52, 58, 'PL1'), (105, 120, 'PL1'), (122, 137, 'PL1')]}),\n",
              " ('in our example, adding two numbers and returning it.syntax of function definitionreturntype functionname(type1 argument1, type2 argument2, ...)',\n",
              "  {'entities': [(105, 120, 'PL1'), (122, 137, 'PL1')]}),\n",
              " ('a function is called, the control of the program is transferred to the function definition.',\n",
              "  {'entities': [(2, 10, 'PL1'), (41, 48, 'PL1'), (71, 90, 'PL1')]}),\n",
              " ('and, the compiler starts executing the codes inside the body of a function.passing arguments to a functionin programming',\n",
              "  {'entities': [(56, 60, 'PL1'),\n",
              "    (66, 74, 'PL1'),\n",
              "    (83, 92, 'PL1'),\n",
              "    (98, 106, 'PL1')]}),\n",
              " ('in the above example, two variables n1 and n2 are passed during the function call.the parameters a and b accepts the passed arguments in the function definition.',\n",
              "  {'entities': [(68, 81, 'PL1'),\n",
              "    (86, 96, 'PL1'),\n",
              "    (124, 133, 'PL1'),\n",
              "    (141, 160, 'PL1')]}),\n",
              " ('in the above example, two variables n1 and n2 are passed during the function call.the parameters a and b accepts the passed arguments in the function definition.',\n",
              "  {'entities': [(86, 96, 'PL1'), (141, 160, 'PL1')]}),\n",
              " ('these arguments are called formal parameters of the function.passing arguments to a functionthe type of arguments passed to a function and the formal parameters must match, otherwise, the compiler will throw an error.if n1 is of char type, a also should be of char type.',\n",
              "  {'entities': [(6, 15, 'PL1'),\n",
              "    (27, 44, 'PL1'),\n",
              "    (52, 60, 'PL1'),\n",
              "    (61, 78, 'PL1'),\n",
              "    (84, 92, 'PL1'),\n",
              "    (104, 113, 'PL1'),\n",
              "    (126, 134, 'PL1'),\n",
              "    (143, 160, 'PL1'),\n",
              "    (188, 196, 'PL1'),\n",
              "    (211, 216, 'PL1'),\n",
              "    (229, 238, 'PL1'),\n",
              "    (260, 269, 'PL1')]}),\n",
              " ('these arguments are called formal parameters of the function.passing arguments to a functionthe type of arguments passed to a function and the formal parameters must match, otherwise, the compiler will throw an error.if n1 is of char type, a also should be of char type.',\n",
              "  {'entities': [(27, 44, 'PL1'),\n",
              "    (143, 160, 'PL1'),\n",
              "    (229, 238, 'PL1'),\n",
              "    (260, 269, 'PL1')]}),\n",
              " ('if n2 is of float type, variable b also should be of float type.a function can also be called without passing an argument.return statementthe return statement terminates the execution of a function and returns a value to the calling function.',\n",
              "  {'entities': [(12, 22, 'PL1'),\n",
              "    (24, 32, 'PL1'),\n",
              "    (53, 63, 'PL1'),\n",
              "    (87, 93, 'PL1'),\n",
              "    (102, 109, 'PL1'),\n",
              "    (113, 121, 'PL1'),\n",
              "    (122, 138, 'PL1'),\n",
              "    (142, 158, 'PL1'),\n",
              "    (159, 169, 'PL1'),\n",
              "    (174, 183, 'PL1'),\n",
              "    (202, 209, 'PL1'),\n",
              "    (225, 241, 'PL1')]}),\n",
              " ('if n2 is of float type, variable b also should be of float type.a function can also be called without passing an argument.return statementthe return statement terminates the execution of a function and returns a value to the calling function.',\n",
              "  {'entities': [(12, 22, 'PL1'),\n",
              "    (24, 32, 'PL1'),\n",
              "    (53, 63, 'PL1'),\n",
              "    (159, 169, 'PL1')]}),\n",
              " ('the program control is transferred to the calling function after the return statement.in the above example, the value of the result variable is returned to the main function.',\n",
              "  {'entities': [(4, 19, 'PL1'),\n",
              "    (42, 58, 'PL1'),\n",
              "    (69, 85, 'PL1'),\n",
              "    (125, 140, 'PL1'),\n",
              "    (144, 152, 'PL1'),\n",
              "    (160, 173, 'PL1')]}),\n",
              " ('the program control is transferred to the calling function after the return statement.in the above example, the value of the result variable is returned to the main function.',\n",
              "  {'entities': [(4, 19, 'PL1'), (160, 173, 'PL1')]}),\n",
              " ('the sum variable in the main() function is assigned this value. return statement of a function syntax of return statement return',\n",
              "  {'entities': [(8, 16, 'PL1'),\n",
              "    (24, 28, 'PL1'),\n",
              "    (31, 39, 'PL1'),\n",
              "    (43, 51, 'PL1'),\n",
              "    (64, 80, 'PL1'),\n",
              "    (86, 94, 'PL1'),\n",
              "    (95, 101, 'PL1'),\n",
              "    (105, 121, 'PL1')]}),\n",
              " ('the sum variable in the main() function is assigned this value.return statement of a functionsyntax of return statementreturn',\n",
              "  {'entities': [(63, 79, 'PL1'), (103, 119, 'PL1')]}),\n",
              " ('(a+b);the type of value returned from the function and the return type specified in the function prototype and function definition must match.visit this page to learn more on passing arguments and returning value from a function.',\n",
              "  {'entities': [(10, 14, 'PL1'),\n",
              "    (24, 32, 'PL1'),\n",
              "    (42, 50, 'PL1'),\n",
              "    (59, 70, 'PL1'),\n",
              "    (88, 106, 'PL1'),\n",
              "    (111, 130, 'PL1'),\n",
              "    (136, 141, 'PL1'),\n",
              "    (175, 192, 'PL1'),\n",
              "    (197, 206, 'PL1'),\n",
              "    (220, 228, 'PL1')]}),\n",
              " ('(a+b);the type of value returned from the function and the return type specified in the function prototype and function definition must match.visit this page to learn more on passing arguments and returning value from a function.',\n",
              "  {'entities': [(59, 70, 'PL1'), (88, 106, 'PL1'), (111, 130, 'PL1')]}),\n",
              " ('types of user-defined functions in c programmingin this tutorial, you will learn about different approaches you can take to solve the same problem using functions.these 4 programs below',\n",
              "  {'entities': [(0, 5, 'PL1'), (9, 31, 'PL1'), (153, 162, 'PL1')]}),\n",
              " ('check whether the integer entered by the user is a prime number or not.the output of all these programs below',\n",
              "  {'entities': [(18, 25, 'PL1'),\n",
              "    (51, 63, 'PL1'),\n",
              "    (75, 81, 'PL1'),\n",
              "    (95, 103, 'PL1')]}),\n",
              " ('however, the approach we have taken in each example is different. example 1: no arguments passed and no return value #include <stdio.h> void checkprimenumber(); int main(){checkprimenumber',\n",
              "  {'entities': [(80, 96, 'PL1'),\n",
              "    (104, 110, 'PL1'),\n",
              "    (117, 135, 'PL1'),\n",
              "    (136, 140, 'PL1'),\n",
              "    (161, 169, 'PL1')]}),\n",
              " ('scanf( %d ,&n);for(i=2;',\n",
              "  {'entities': [(0, 5, 'PL1'), (7, 9, 'PL1'), (11, 13, 'PL1')]}),\n",
              " ('0){flag = 1;}}if (flag', {'entities': [(3, 7, 'PL1'), (18, 22, 'PL1')]}),\n",
              " ('0){flag = 1;}}if (flag', {'entities': [(3, 7, 'PL1'), (18, 22, 'PL1')]}),\n",
              " ('1)printf( %d is not a prime number. ',\n",
              "  {'entities': [(10, 12, 'PL1'), (22, 34, 'PL1')]}),\n",
              " ('1)printf( %d is not a prime number. ',\n",
              "  {'entities': [(10, 12, 'PL1'), (22, 34, 'PL1')]}),\n",
              " (', n);}the checkprimenumber() function takes input from the user, checks whether it is a prime number or not and displays it on the screen.the empty parentheses in checkprimenumber(); statement inside the main() function indicates that no argument is passed to the function.the return type of the function is void.',\n",
              "  {'entities': [(29, 37, 'PL1'),\n",
              "    (88, 100, 'PL1'),\n",
              "    (142, 159, 'PL1'),\n",
              "    (204, 208, 'PL1'),\n",
              "    (211, 219, 'PL1'),\n",
              "    (264, 272, 'PL1'),\n",
              "    (277, 288, 'PL1'),\n",
              "    (296, 304, 'PL1'),\n",
              "    (308, 312, 'PL1')]}),\n",
              " (', n);}the checkprimenumber() function takes input from the user, checks whether it is a prime number or not and displays it on the screen.the empty parentheses in checkprimenumber(); statement inside the main() function indicates that no argument is passed to the function.the return type of the function is void.',\n",
              "  {'entities': [(88, 100, 'PL1'), (142, 159, 'PL1'), (277, 288, 'PL1')]}),\n",
              " ('hence, no value is returned from the function.example 2: no arguments passed but a return value#include <stdio.h>',\n",
              "  {'entities': [(19, 27, 'PL1'),\n",
              "    (37, 45, 'PL1'),\n",
              "    (60, 76, 'PL1'),\n",
              "    (83, 89, 'PL1'),\n",
              "    (95, 113, 'PL1')]}),\n",
              " ('hence, no value is returned from the function.example 2: no arguments passed but a return value #include <stdio.h>',\n",
              "  {'entities': [(83, 95, 'PL1'), (96, 114, 'PL1')]}),\n",
              " (', n);return 0;}// returns integer entered by the userint getinteger(){int n;printf( enter a positive integer:  );scanf( %d ,&n);return',\n",
              "  {'entities': [(5, 13, 'PL1'),\n",
              "    (18, 24, 'PL1'),\n",
              "    (26, 29, 'PL1'),\n",
              "    (53, 56, 'PL1'),\n",
              "    (60, 63, 'PL1'),\n",
              "    (70, 73, 'PL1'),\n",
              "    (76, 82, 'PL1'),\n",
              "    (92, 108, 'PL1'),\n",
              "    (113, 118, 'PL1'),\n",
              "    (120, 122, 'PL1'),\n",
              "    (124, 126, 'PL1'),\n",
              "    (128, 134, 'PL1')]}),\n",
              " (', n);return 0;}// returns integer entered by the userint getinteger(){int n;printf( enter a positive integer:  );scanf( %d ,&n);return',\n",
              "  {'entities': [(18, 33, 'PL1'), (92, 108, 'PL1'), (120, 122, 'PL1')]}),\n",
              " ('n;}the empty parentheses in the n = getinteger(); statement indicates that no argument is passed to the function.',\n",
              "  {'entities': [(7, 24, 'PL1'),\n",
              "    (50, 59, 'PL1'),\n",
              "    (78, 86, 'PL1'),\n",
              "    (104, 112, 'PL1')]}),\n",
              " ('and, the value returned from the function',\n",
              "  {'entities': [(15, 23, 'PL1'), (33, 41, 'PL1')]}),\n",
              " ('the code to check whether a number is prime or not is inside the main() function.example 3: argument passed but no return value#include <stdio.h',\n",
              "  {'entities': [(4, 8, 'PL1'),\n",
              "    (65, 69, 'PL1'),\n",
              "    (92, 107, 'PL1'),\n",
              "    (115, 121, 'PL1')]}),\n",
              " (' , n);}the integer value entered by the user is passed to the checkprimeanddisplay() function.here, the checkprimeanddisplay() function checks whether the argument passed is a prime number or not and displays the appropriate message.example 4: argument passed and a return value#include <stdio.h',\n",
              "  {'entities': [(11, 18, 'PL1'),\n",
              "    (85, 93, 'PL1'),\n",
              "    (127, 135, 'PL1'),\n",
              "    (155, 170, 'PL1'),\n",
              "    (176, 188, 'PL1'),\n",
              "    (244, 259, 'PL1'),\n",
              "    (266, 272, 'PL1')]}),\n",
              " (' , n);}the integer value entered by the user is passed to the checkprimeanddisplay() function.here, the checkprimeanddisplay() function checks whether the argument passed is a prime number or not and displays the appropriate message.example 4: argument passed and a return value#include <stdio.h',\n",
              "  {'entities': [(11, 24, 'PL1'), (176, 188, 'PL1')]}),\n",
              " ('the returned value is assigned to the flag variableflag =',\n",
              "  {'entities': [(4, 12, 'PL1'),\n",
              "    (22, 30, 'PL1'),\n",
              "    (38, 42, 'PL1'),\n",
              "    (51, 55, 'PL1')]}),\n",
              " ('function.the checkprimenumber() function checks whether the passed argument is prime or not.if',\n",
              "  {'entities': [(0, 8, 'PL1'),\n",
              "    (18, 23, 'PL1'),\n",
              "    (32, 40, 'PL1'),\n",
              "    (60, 75, 'PL1'),\n",
              "    (79, 84, 'PL1')]}),\n",
              " ('the passed argument is a prime number, the function returns 0.',\n",
              "  {'entities': [(25, 37, 'PL1'), (43, 61, 'PL1')]}),\n",
              " ('if the passed argument is a non-prime number, the function returns 1.',\n",
              "  {'entities': [(28, 44, 'PL1'), (59, 68, 'PL1')]}),\n",
              " ('if the passed argument is a non-prime number, the function returns 1.',\n",
              "  {'entities': [(28, 44, 'PL1'), (59, 68, 'PL1')]}),\n",
              " ('the return value is assigned to the flag variable.depending on whether flag is 0 or 1, an appropriate message is printed from the main()',\n",
              "  {'entities': [(4, 10, 'PL1'),\n",
              "    (20, 28, 'PL1'),\n",
              "    (36, 49, 'PL1'),\n",
              "    (71, 75, 'PL1'),\n",
              "    (130, 134, 'PL1')]}),\n",
              " ('in this case, passing argument and returning a value from the function (example 4) is better.a function should perform a specific task.',\n",
              "  {'entities': [(14, 30, 'PL1'),\n",
              "    (35, 44, 'PL1'),\n",
              "    (62, 70, 'PL1'),\n",
              "    (95, 103, 'PL1')]}),\n",
              " ('c recursionin this tutorial, you will learn to write recursive functions in c programming with the help of an example.a function that calls itself is known as a recursive function.',\n",
              "  {'entities': [(2, 11, 'PL1'),\n",
              "    (53, 72, 'PL1'),\n",
              "    (78, 89, 'PL1'),\n",
              "    (120, 128, 'PL1'),\n",
              "    (134, 139, 'PL1'),\n",
              "    (161, 179, 'PL1')]}),\n",
              " ('c recursionin this tutorial, you will learn to write recursive functions in c programming with the help of an example.a function that calls itself is known as a recursive function.',\n",
              "  {'entities': [(53, 72, 'PL1'), (161, 179, 'PL1')]}),\n",
              " ('and, this technique is known as recursion.how recursion works?void recurse(){... ..',\n",
              "  {'entities': [(32, 41, 'PL1'), (46, 55, 'PL1'), (62, 74, 'PL1')]}),\n",
              " ('and, this technique is known as recursion.how recursion works?void recurse(){... ..',\n",
              "  {'entities': [(32, 41, 'PL1'), (46, 55, 'PL1'), (62, 74, 'PL1')]}),\n",
              " ('programming?the recursion continues until some condition is met to prevent it.to prevent infinite recursion, if...else statement (or similar approach) can be used where one branch makes the recursive call, and other doesn t.example: sum of natural numbers using recursion#include <',\n",
              "  {'entities': [(0, 11, 'PL1'),\n",
              "    (16, 25, 'PL1'),\n",
              "    (47, 56, 'PL1'),\n",
              "    (89, 107, 'PL1'),\n",
              "    (119, 128, 'PL1'),\n",
              "    (190, 204, 'PL1'),\n",
              "    (240, 255, 'PL1'),\n",
              "    (262, 271, 'PL1')]}),\n",
              " ('programming?the recursion continues until some condition is met to prevent it.to prevent infinite recursion, if...else statement (or similar approach) can be used where one branch makes the recursive call, and other doesn t.example: sum of natural numbers using recursion#include <',\n",
              "  {'entities': [(16, 25, 'PL1'),\n",
              "    (89, 107, 'PL1'),\n",
              "    (240, 255, 'PL1'),\n",
              "    (262, 271, 'PL1')]}),\n",
              " ('6initially, the sum() is called from the main() function with number passed as an argument.suppose, the value of n inside sum() is 3 initially.',\n",
              "  {'entities': [(16, 19, 'PL1'),\n",
              "    (25, 31, 'PL1'),\n",
              "    (41, 45, 'PL1'),\n",
              "    (48, 56, 'PL1'),\n",
              "    (82, 90, 'PL1'),\n",
              "    (122, 125, 'PL1')]}),\n",
              " ('during the next function call, 2 is passed to the sum() function.',\n",
              "  {'entities': [(16, 29, 'PL1'), (50, 53, 'PL1'), (56, 64, 'PL1')]}),\n",
              " ('is equal to 0, the if condition fails and the else part is executed returning the sum of integers ultimately to the main() function.calculation of sum of natural number using recursionadvantages and disadvantages of recursionrecursion makes program elegant.',\n",
              "  {'entities': [(3, 8, 'PL1'),\n",
              "    (22, 37, 'PL1'),\n",
              "    (59, 67, 'PL1'),\n",
              "    (89, 97, 'PL1'),\n",
              "    (116, 120, 'PL1'),\n",
              "    (123, 131, 'PL1'),\n",
              "    (132, 143, 'PL1'),\n",
              "    (154, 168, 'PL1')]}),\n",
              " ('however, if performance is vital, use loops instead as recursion is usually much slower.that being said, recursion is an important concept.',\n",
              "  {'entities': [(38, 43, 'PL1'),\n",
              "    (55, 64, 'PL1'),\n",
              "    (81, 87, 'PL1'),\n",
              "    (105, 114, 'PL1')]}),\n",
              " ('it is frequently used in data structure and algorithms.',\n",
              "  {'entities': [(25, 39, 'PL1'), (44, 54, 'PL1')]}),\n",
              " ('for example, it is common to use recursion in problems such as tree traversal.',\n",
              "  {'entities': [(33, 42, 'PL1'), (63, 77, 'PL1')]}),\n",
              " ('this tutorial, you will learn about scope and lifetime of local and global variables.',\n",
              "  {'entities': [(36, 41, 'PL1'),\n",
              "    (46, 54, 'PL1'),\n",
              "    (58, 63, 'PL1'),\n",
              "    (68, 84, 'PL1')]}),\n",
              " ('also, you will learn about static and register variables.every variable in c programming has two properties: type and storage class.type refers to the data type of a variable.',\n",
              "  {'entities': [(27, 33, 'PL1'),\n",
              "    (38, 56, 'PL1'),\n",
              "    (63, 71, 'PL1'),\n",
              "    (77, 88, 'PL1'),\n",
              "    (109, 113, 'PL1'),\n",
              "    (118, 131, 'PL1'),\n",
              "    (132, 136, 'PL1'),\n",
              "    (151, 160, 'PL1'),\n",
              "    (166, 174, 'PL1')]}),\n",
              " ('and, storage class determines the scope, visibility and lifetime of a variable.there are 4 types of storage class:',\n",
              "  {'entities': [(5, 18, 'PL1'),\n",
              "    (34, 39, 'PL1'),\n",
              "    (56, 64, 'PL1'),\n",
              "    (70, 78, 'PL1'),\n",
              "    (100, 113, 'PL1')]}),\n",
              " ('and, storage class determines the scope, visibility and lifetime of a variable.there are 4 types of storage class:',\n",
              "  {'entities': [(5, 18, 'PL1'), (100, 113, 'PL1')]}),\n",
              " ('automaticexternalstaticregisterlocal variablethe variables declared inside a block are automatic or local variables.',\n",
              "  {'entities': [(0, 9, 'PL1'),\n",
              "    (59, 67, 'PL1'),\n",
              "    (77, 82, 'PL1'),\n",
              "    (87, 96, 'PL1'),\n",
              "    (100, 115, 'PL1')]}),\n",
              " ('automaticexternalstaticregisterlocal variablethe variables declared inside a block are automatic or local variables.',\n",
              "  {'entities': [(49, 58, 'PL1'), (100, 115, 'PL1')]}),\n",
              " ('the local variables exist only inside the block in which it is declared.let s take an example. #include <stdio.h> int main(void) {for (int i = 0; i < 5; ++i) {',\n",
              "  {'entities': [(4, 19, 'PL1'),\n",
              "    (42, 47, 'PL1'),\n",
              "    (63, 71, 'PL1'),\n",
              "    (95, 113, 'PL1'),\n",
              "    (114, 117, 'PL1'),\n",
              "    (123, 127, 'PL1'),\n",
              "    (135, 138, 'PL1')]}),\n",
              " ('the local variables exist only inside the block in which it is declared.let s take an example. #include <stdio.h> int main(void) {for (int i = 0; i < 5; ++i) {',\n",
              "  {'entities': [(4, 19, 'PL1'),\n",
              "    (63, 71, 'PL1'),\n",
              "    (95, 113, 'PL1'),\n",
              "    (114, 117, 'PL1'),\n",
              "    (135, 138, 'PL1')]}),\n",
              " ('printf( c programming );}// error:',\n",
              "  {'entities': [(0, 6, 'PL1'), (10, 21, 'PL1'), (28, 33, 'PL1')]}),\n",
              " ('i is not declared at this pointprintf( %d ,',\n",
              "  {'entities': [(9, 17, 'PL1'), (39, 41, 'PL1')]}),\n",
              " ('you run the above program, you will get an error',\n",
              "  {'entities': [(4, 7, 'PL1'), (18, 25, 'PL1'), (43, 48, 'PL1')]}),\n",
              " ('it s because i is declared inside the for loop block.',\n",
              "  {'entities': [(18, 26, 'PL1'), (42, 52, 'PL1')]}),\n",
              " ('outside of the block, it s undeclared.let s take another example.int main() {int n1; //',\n",
              "  {'entities': [(15, 20, 'PL1'), (27, 37, 'PL1'), (65, 73, 'PL1')]}),\n",
              " ('n1 is a local variable to main()}void func() {int n2; // n2 is a local variable to func()}in the above example, n1 is local to main() and n2 is local to func().this',\n",
              "  {'entities': [(8, 22, 'PL1'),\n",
              "    (26, 30, 'PL1'),\n",
              "    (33, 37, 'PL1'),\n",
              "    (46, 49, 'PL1'),\n",
              "    (65, 79, 'PL1'),\n",
              "    (118, 123, 'PL1'),\n",
              "    (127, 131, 'PL1'),\n",
              "    (144, 149, 'PL1')]}),\n",
              " ('n1 is a local variable to main()}void func() {int n2; // n2 is a local variable to func()}in the above example, n1 is local to main() and n2 is local to func().this',\n",
              "  {'entities': [(33, 37, 'PL1'), (46, 49, 'PL1')]}),\n",
              " ('means you cannot access the n1 variable inside func() as it only exists inside main().',\n",
              "  {'entities': [(31, 39, 'PL1'), (79, 83, 'PL1')]}),\n",
              " ('similarly, you cannot access the n2 variable inside main() as it only exists inside func(). global variable variables that are declared outside of all functions are known as external or global variables.',\n",
              "  {'entities': [(22, 28, 'PL1'),\n",
              "    (36, 44, 'PL1'),\n",
              "    (52, 56, 'PL1'),\n",
              "    (99, 107, 'PL1'),\n",
              "    (108, 116, 'PL1'),\n",
              "    (127, 135, 'PL1'),\n",
              "    (151, 160, 'PL1'),\n",
              "    (174, 182, 'PL1'),\n",
              "    (186, 202, 'PL1')]}),\n",
              " ('they are accessible from any function inside the program.example 1:',\n",
              "  {'entities': [(9, 19, 'PL1'), (49, 56, 'PL1')]}),\n",
              " ('= 7suppose, a global variable is declared in file1.',\n",
              "  {'entities': [(14, 29, 'PL1'), (33, 41, 'PL1')]}),\n",
              " ('if you try to use that variable in a different file file2, the compiler will complain.',\n",
              "  {'entities': [(23, 31, 'PL1'),\n",
              "    (47, 51, 'PL1'),\n",
              "    (52, 56, 'PL1'),\n",
              "    (63, 71, 'PL1')]}),\n",
              " ('to solve this problem, keyword extern is used in file2 to indicate that the external variable is declared in another file.register variablethe register keyword is used to declare register variables.',\n",
              "  {'entities': [(49, 53, 'PL1'),\n",
              "    (76, 93, 'PL1'),\n",
              "    (97, 105, 'PL1'),\n",
              "    (117, 121, 'PL1'),\n",
              "    (171, 197, 'PL1')]}),\n",
              " ('local variables.however, modern compilers are very good at code optimization, and there is a rare chance that using register variables will make your program faster.unless you are working on embedded systems where you know how to optimize code for the given application, there is no use of register variables.static variablea static variable is declared by using the static keyword.',\n",
              "  {'entities': [(0, 15, 'PL1'),\n",
              "    (59, 76, 'PL1'),\n",
              "    (116, 134, 'PL1'),\n",
              "    (158, 164, 'PL1'),\n",
              "    (191, 207, 'PL1'),\n",
              "    (230, 243, 'PL1'),\n",
              "    (290, 308, 'PL1'),\n",
              "    (309, 324, 'PL1'),\n",
              "    (326, 341, 'PL1'),\n",
              "    (345, 353, 'PL1'),\n",
              "    (367, 381, 'PL1')]}),\n",
              " ('local variables.however, modern compilers are very good at code optimization, and there is a rare chance that using register variables will make your program faster.unless you are working on embedded systems where you know how to optimize code for the given application, there is no use of register variables.static variablea static variable is declared by using the static keyword.',\n",
              "  {'entities': [(59, 76, 'PL1'),\n",
              "    (116, 134, 'PL1'),\n",
              "    (230, 243, 'PL1'),\n",
              "    (258, 269, 'PL1'),\n",
              "    (290, 308, 'PL1'),\n",
              "    (309, 315, 'PL1'),\n",
              "    (326, 332, 'PL1'),\n",
              "    (367, 381, 'PL1')]}),\n",
              " ('for example;static int i;the value of a static variable persists until the end of the program.example 2:',\n",
              "  {'entities': [(12, 22, 'PL1'),\n",
              "    (40, 55, 'PL1'),\n",
              "    (75, 78, 'PL1'),\n",
              "    (86, 93, 'PL1')]}),\n",
              " ('= 5;printf( %d  ,c);}output6 11during the first function call, the value of c is initialized to 1.',\n",
              "  {'entities': [(4, 10, 'PL1'), (48, 61, 'PL1'), (81, 92, 'PL1')]}),\n",
              " ('now, the value of c is 6, which is printed on the screen.during the second function call, c is not initialized to 1 again.',\n",
              "  {'entities': [(35, 42, 'PL1'),\n",
              "    (50, 56, 'PL1'),\n",
              "    (75, 88, 'PL1'),\n",
              "    (99, 110, 'PL1')]}),\n",
              " ('now, its value will be 11, which is printed on the screen.',\n",
              "  {'entities': [(36, 43, 'PL1'), (51, 57, 'PL1')]}),\n",
              " (', you will find a list of c programs to sharpen your knowledge of functions and recursion.a function is a block of code that performs a specific task.you will find examples related to functions in this article.',\n",
              "  {'entities': [(66, 75, 'PL1'),\n",
              "    (80, 89, 'PL1'),\n",
              "    (92, 100, 'PL1'),\n",
              "    (106, 111, 'PL1'),\n",
              "    (115, 119, 'PL1'),\n",
              "    (184, 193, 'PL1')]}),\n",
              " (', you will find a list of c programs to sharpen your knowledge of functions and recursion.a function is a block of code that performs a specific task.you will find examples related to functions in this article.',\n",
              "  {'entities': [(26, 36, 'PL1'), (80, 89, 'PL1')]}),\n",
              " ('to understand examples in this page, you should have the knowledge of the following topics:user-defined functiontypes of user-defined functionsscope of a local variablerecursionc function examplesdisplay',\n",
              "  {'entities': [(91, 103, 'PL1'), (121, 133, 'PL1')]}),\n",
              " ('all prime numbers between two intervalscheck prime and armstrong number by making functionscheck whether a number can be expressed as the sum of two prime numbersfind the sum of natural numbers using recursioncalculate the factorial of a number using recursionfind g.c.d using recursionreverse a sentence using recursioncalculate the power of a number using recursionconvert a binary number to decimal and vice-versaconvert an octal number to decimal and vice-versaconvert a binary number to octal and vice-versa',\n",
              "  {'entities': [(4, 17, 'PL1'),\n",
              "    (45, 50, 'PL1'),\n",
              "    (65, 71, 'PL1'),\n",
              "    (107, 113, 'PL1'),\n",
              "    (138, 141, 'PL1'),\n",
              "    (149, 162, 'PL1'),\n",
              "    (171, 174, 'PL1'),\n",
              "    (178, 193, 'PL1'),\n",
              "    (200, 209, 'PL1'),\n",
              "    (223, 232, 'PL1'),\n",
              "    (238, 244, 'PL1'),\n",
              "    (251, 260, 'PL1'),\n",
              "    (277, 286, 'PL1'),\n",
              "    (311, 320, 'PL1'),\n",
              "    (334, 339, 'PL1'),\n",
              "    (345, 351, 'PL1'),\n",
              "    (358, 367, 'PL1'),\n",
              "    (377, 390, 'PL1'),\n",
              "    (394, 401, 'PL1'),\n",
              "    (427, 439, 'PL1'),\n",
              "    (443, 450, 'PL1'),\n",
              "    (475, 488, 'PL1'),\n",
              "    (492, 497, 'PL1')]}),\n",
              " ('all prime numbers between two intervalscheck prime and armstrong number by making functionscheck whether a number can be expressed as the sum of two prime numbersfind the sum of natural numbers using recursioncalculate the factorial of a number using recursionfind g.c.d using recursionreverse a sentence using recursioncalculate the power of a number using recursionconvert a binary number to decimal and vice-versaconvert an octal number to decimal and vice-versaconvert a binary number to octal and vice-versa',\n",
              "  {'entities': [(4, 17, 'PL1'),\n",
              "    (55, 71, 'PL1'),\n",
              "    (149, 162, 'PL1'),\n",
              "    (178, 193, 'PL1'),\n",
              "    (377, 390, 'PL1'),\n",
              "    (427, 439, 'PL1'),\n",
              "    (475, 488, 'PL1')]}),\n",
              " ('you will learn to declare, initialize and access elements of an array with the help of examples.c arraysan array is a variable that can store multiple values.',\n",
              "  {'entities': [(18, 25, 'PL1'),\n",
              "    (27, 37, 'PL1'),\n",
              "    (42, 57, 'PL1'),\n",
              "    (64, 69, 'PL1'),\n",
              "    (98, 103, 'PL1'),\n",
              "    (107, 112, 'PL1'),\n",
              "    (118, 126, 'PL1'),\n",
              "    (136, 157, 'PL1')]}),\n",
              " ('you will learn to declare, initialize and access elements of an array with the help of examples.c arraysan array is a variable that can store multiple values.',\n",
              "  {'entities': [(42, 57, 'PL1'),\n",
              "    (64, 69, 'PL1'),\n",
              "    (98, 103, 'PL1'),\n",
              "    (107, 112, 'PL1'),\n",
              "    (142, 157, 'PL1')]}),\n",
              " ('for example, if you want to store 100 integers, you can create an array for it.int data[100];how to declare an array?datatype arrayname[arraysize];for example,float mark[5];here, we declared an array, mark, of floating-point type.',\n",
              "  {'entities': [(38, 46, 'PL1'),\n",
              "    (66, 71, 'PL1'),\n",
              "    (79, 82, 'PL1'),\n",
              "    (100, 107, 'PL1'),\n",
              "    (111, 116, 'PL1'),\n",
              "    (117, 125, 'PL1'),\n",
              "    (126, 131, 'PL1'),\n",
              "    (136, 145, 'PL1'),\n",
              "    (159, 164, 'PL1'),\n",
              "    (182, 190, 'PL1'),\n",
              "    (194, 199, 'PL1'),\n",
              "    (210, 224, 'PL1')]}),\n",
              " ('for example, if you want to store 100 integers, you can create an array for it.int data[100];how to declare an array?datatype arrayname[arraysize];for example,float mark[5];here, we declared an array, mark, of floating-point type.',\n",
              "  {'entities': [(136, 145, 'PL1'), (159, 164, 'PL1'), (210, 224, 'PL1')]}),\n",
              " ('meaning, it can hold 5 floating-point values.it s important to note that the size and type of an array cannot be changed once it is declared.access array elementsyou can access elements of an array by indices.suppose',\n",
              "  {'entities': [(23, 37, 'PL1'),\n",
              "    (38, 44, 'PL1'),\n",
              "    (77, 81, 'PL1'),\n",
              "    (86, 90, 'PL1'),\n",
              "    (97, 102, 'PL1'),\n",
              "    (132, 140, 'PL1'),\n",
              "    (148, 162, 'PL1'),\n",
              "    (170, 185, 'PL1'),\n",
              "    (192, 197, 'PL1'),\n",
              "    (201, 208, 'PL1')]}),\n",
              " ('meaning, it can hold 5 floating-point values.it s important to note that the size and type of an array cannot be changed once it is declared.access array elementsyou can access elements of an array by indices.suppose',\n",
              "  {'entities': [(23, 37, 'PL1'), (148, 162, 'PL1'), (170, 185, 'PL1')]}),\n",
              " ('you declared an array mark as above.',\n",
              "  {'entities': [(4, 12, 'PL1'), (16, 21, 'PL1')]}),\n",
              " ('the first element is mark[0], the second element is mark[1] and so on.c array declarationfew keynotes',\n",
              "  {'entities': [(4, 17, 'PL1'), (34, 48, 'PL1'), (72, 89, 'PL1')]}),\n",
              " ('the first element is mark[0], the second element is mark[1] and so on.c array declarationfew keynotes',\n",
              "  {'entities': [(4, 17, 'PL1'), (34, 48, 'PL1'), (72, 89, 'PL1')]}),\n",
              " ('in this example, mark[0] is the first element.if the size of an array is n, to access the last element, the n-1 index is used.',\n",
              "  {'entities': [(32, 45, 'PL1'),\n",
              "    (53, 57, 'PL1'),\n",
              "    (64, 69, 'PL1'),\n",
              "    (90, 102, 'PL1'),\n",
              "    (108, 117, 'PL1')]}),\n",
              " ('similarly, the address of mark[2] will be 2128d and so on.this is because the size of a float is 4 bytes.how to initialize an array?it',\n",
              "  {'entities': [(15, 22, 'PL1'),\n",
              "    (78, 82, 'PL1'),\n",
              "    (88, 93, 'PL1'),\n",
              "    (99, 104, 'PL1'),\n",
              "    (112, 122, 'PL1'),\n",
              "    (126, 131, 'PL1')]})]"
            ]
          },
          "metadata": {
            "tags": []
          },
          "execution_count": 36
        }
      ]
    },
    {
      "cell_type": "code",
      "metadata": {
        "id": "fT4yzQbeMCSX",
        "colab": {
          "base_uri": "https://localhost:8080/",
          "height": 1000
        },
        "outputId": "5b96884f-1a9d-411b-ea93-104cd163c6d7"
      },
      "source": [
        "LABEL=upload_Labels(PL1_dataset_and_labels_directory , PL1_Labels_text_name)\n",
        "\n",
        "nlp,other_pipes,move_names,optimizer=Set_up_the_pipeline_and_entity_recognizer(model,LABEL) \n",
        " \n",
        "nlp,training_losses,model_training_time=train_model(TRAIN_DATA,nlp,other_pipes,optimizer)"
      ],
      "execution_count": null,
      "outputs": [
        {
          "output_type": "stream",
          "text": [
            "Drive already mounted at /content/gdrive; to attempt to forcibly remount, call drive.mount(\"/content/gdrive\", force_remount=True).\n",
            "Loaded model 'en_core_web_sm'\n",
            "1  :  Losses {'ner': 5153.29266984877}\n",
            "2  :  Losses {'ner': 5079.291827362578}\n",
            "3  :  Losses {'ner': 4963.170859398142}\n",
            "4  :  Losses {'ner': 4910.843218260445}\n",
            "5  :  Losses {'ner': 4845.955585864838}\n",
            "6  :  Losses {'ner': 4923.382914362475}\n",
            "7  :  Losses {'ner': 4824.30200445652}\n",
            "8  :  Losses {'ner': 4750.37809048593}\n",
            "9  :  Losses {'ner': 4813.342358569193}\n",
            "10  :  Losses {'ner': 4811.607479065657}\n",
            "11  :  Losses {'ner': 4687.225244492292}\n",
            "12  :  Losses {'ner': 4577.768663004041}\n",
            "13  :  Losses {'ner': 4703.433012437075}\n",
            "14  :  Losses {'ner': 4625.067056834698}\n",
            "15  :  Losses {'ner': 4660.668163612485}\n",
            "16  :  Losses {'ner': 4686.297447562218}\n",
            "17  :  Losses {'ner': 4604.0366446226835}\n",
            "18  :  Losses {'ner': 4661.50434319675}\n",
            "19  :  Losses {'ner': 4543.238852113485}\n",
            "20  :  Losses {'ner': 4550.964843824506}\n",
            "21  :  Losses {'ner': 4599.64135915041}\n",
            "22  :  Losses {'ner': 4600.398681737483}\n",
            "23  :  Losses {'ner': 4616.745005138218}\n",
            "24  :  Losses {'ner': 4587.904370099306}\n",
            "25  :  Losses {'ner': 4665.9697710722685}\n",
            "26  :  Losses {'ner': 4502.820712909102}\n",
            "27  :  Losses {'ner': 4512.54463871941}\n",
            "28  :  Losses {'ner': 4646.924597784877}\n",
            "29  :  Losses {'ner': 4560.276917681098}\n",
            "30  :  Losses {'ner': 4590.0283171236515}\n",
            "31  :  Losses {'ner': 4664.096647650003}\n",
            "32  :  Losses {'ner': 4552.8446462750435}\n",
            "33  :  Losses {'ner': 4540.868165910244}\n",
            "34  :  Losses {'ner': 4525.278596431017}\n",
            "35  :  Losses {'ner': 4548.969808936119}\n",
            "36  :  Losses {'ner': 4529.292277596891}\n",
            "37  :  Losses {'ner': 4523.20673879981}\n",
            "38  :  Losses {'ner': 4525.0955957733095}\n",
            "39  :  Losses {'ner': 4589.381838679314}\n",
            "40  :  Losses {'ner': 4490.083768774755}\n",
            "41  :  Losses {'ner': 4526.241769529879}\n",
            "42  :  Losses {'ner': 4543.344430446625}\n",
            "43  :  Losses {'ner': 4540.730678290129}\n",
            "44  :  Losses {'ner': 4636.043134093285}\n",
            "45  :  Losses {'ner': 4455.803268417716}\n",
            "46  :  Losses {'ner': 4469.240528978407}\n",
            "47  :  Losses {'ner': 4524.881466627121}\n",
            "48  :  Losses {'ner': 4505.939619392157}\n",
            "49  :  Losses {'ner': 4652.795253157616}\n",
            "50  :  Losses {'ner': 4548.365612596273}\n",
            "51  :  Losses {'ner': 4456.919277817011}\n",
            "52  :  Losses {'ner': 4558.24946898222}\n",
            "53  :  Losses {'ner': 4512.31901602447}\n",
            "54  :  Losses {'ner': 4663.080297857523}\n",
            "55  :  Losses {'ner': 4522.681355848908}\n",
            "56  :  Losses {'ner': 4528.036473333836}\n",
            "57  :  Losses {'ner': 4511.815096542239}\n",
            "58  :  Losses {'ner': 4529.797346137464}\n",
            "59  :  Losses {'ner': 4414.506166189909}\n",
            "60  :  Losses {'ner': 4470.8135054297745}\n",
            "61  :  Losses {'ner': 4584.716817010194}\n",
            "62  :  Losses {'ner': 4549.011211715639}\n",
            "63  :  Losses {'ner': 4537.675374984741}\n",
            "64  :  Losses {'ner': 4457.943318605423}\n",
            "65  :  Losses {'ner': 4476.286962151527}\n",
            "66  :  Losses {'ner': 4504.677684515715}\n",
            "67  :  Losses {'ner': 4607.76276139915}\n",
            "68  :  Losses {'ner': 4510.550566524267}\n",
            "69  :  Losses {'ner': 4530.410893857479}\n",
            "70  :  Losses {'ner': 4491.168217353523}\n",
            "71  :  Losses {'ner': 4441.776748597622}\n",
            "72  :  Losses {'ner': 4590.24991106987}\n",
            "73  :  Losses {'ner': 4480.674035310745}\n",
            "74  :  Losses {'ner': 4430.256174705923}\n",
            "75  :  Losses {'ner': 4504.687729597092}\n",
            "76  :  Losses {'ner': 4621.715997137129}\n",
            "77  :  Losses {'ner': 4538.127422630787}\n",
            "78  :  Losses {'ner': 4574.008906334639}\n",
            "79  :  Losses {'ner': 4433.176369965076}\n",
            "80  :  Losses {'ner': 4397.089282929897}\n",
            "81  :  Losses {'ner': 4472.543520152569}\n",
            "82  :  Losses {'ner': 4566.6116889715195}\n",
            "83  :  Losses {'ner': 4457.620632812381}\n",
            "84  :  Losses {'ner': 4477.431823581457}\n",
            "85  :  Losses {'ner': 4485.0258258879185}\n",
            "86  :  Losses {'ner': 4499.820393919945}\n",
            "87  :  Losses {'ner': 4423.898205429316}\n",
            "88  :  Losses {'ner': 4526.598398432136}\n",
            "89  :  Losses {'ner': 4412.957615315914}\n",
            "90  :  Losses {'ner': 4579.4440033733845}\n",
            "91  :  Losses {'ner': 4447.894718781114}\n",
            "92  :  Losses {'ner': 4519.284300766885}\n",
            "93  :  Losses {'ner': 4387.424269542098}\n",
            "94  :  Losses {'ner': 4507.473948173225}\n",
            "95  :  Losses {'ner': 4583.682622209191}\n",
            "96  :  Losses {'ner': 4469.197563022375}\n",
            "97  :  Losses {'ner': 4456.9481527507305}\n",
            "98  :  Losses {'ner': 4440.202374115586}\n",
            "99  :  Losses {'ner': 4472.961035262502}\n",
            "100  :  Losses {'ner': 4477.8190101236105}\n",
            "101  :  Losses {'ner': 4424.950021266937}\n",
            "102  :  Losses {'ner': 4440.323079437017}\n",
            "103  :  Losses {'ner': 4414.791856594384}\n",
            "104  :  Losses {'ner': 4516.301869571209}\n",
            "105  :  Losses {'ner': 4410.623158186674}\n",
            "106  :  Losses {'ner': 4480.401126042008}\n",
            "107  :  Losses {'ner': 4435.7852857331745}\n",
            "108  :  Losses {'ner': 4427.823872447014}\n",
            "109  :  Losses {'ner': 4431.007737249136}\n",
            "110  :  Losses {'ner': 4521.921407081187}\n",
            "111  :  Losses {'ner': 4562.756885483861}\n",
            "112  :  Losses {'ner': 4508.082147680223}\n",
            "113  :  Losses {'ner': 4470.188879549503}\n",
            "114  :  Losses {'ner': 4452.363410007209}\n",
            "115  :  Losses {'ner': 4424.387306660414}\n",
            "116  :  Losses {'ner': 4377.283388091251}\n",
            "117  :  Losses {'ner': 4469.899499520659}\n",
            "118  :  Losses {'ner': 4500.279267389327}\n",
            "119  :  Losses {'ner': 4475.6128034852445}\n",
            "120  :  Losses {'ner': 4494.6171789467335}\n",
            "121  :  Losses {'ner': 4447.699919335544}\n",
            "122  :  Losses {'ner': 4435.883877694607}\n",
            "123  :  Losses {'ner': 4376.162757922895}\n",
            "124  :  Losses {'ner': 4400.468999337405}\n",
            "125  :  Losses {'ner': 4452.7288333028555}\n",
            "126  :  Losses {'ner': 4396.986994398758}\n",
            "127  :  Losses {'ner': 4480.306863933802}\n",
            "128  :  Losses {'ner': 4296.544662162662}\n",
            "129  :  Losses {'ner': 4513.779623553157}\n",
            "130  :  Losses {'ner': 4370.855742398649}\n",
            "131  :  Losses {'ner': 4411.1622230480425}\n",
            "132  :  Losses {'ner': 4341.944879248738}\n",
            "133  :  Losses {'ner': 4486.813158303499}\n",
            "134  :  Losses {'ner': 4502.078921183944}\n",
            "135  :  Losses {'ner': 4517.101528823376}\n",
            "136  :  Losses {'ner': 4486.475021548569}\n",
            "137  :  Losses {'ner': 4517.125590361655}\n",
            "138  :  Losses {'ner': 4454.631067726761}\n",
            "139  :  Losses {'ner': 4465.357124060392}\n",
            "140  :  Losses {'ner': 4505.213510334492}\n",
            "141  :  Losses {'ner': 4440.10617018491}\n",
            "142  :  Losses {'ner': 4419.9184110835195}\n",
            "143  :  Losses {'ner': 4292.624408863485}\n",
            "144  :  Losses {'ner': 4440.449033781886}\n",
            "145  :  Losses {'ner': 4448.789739668369}\n",
            "146  :  Losses {'ner': 4479.695097561926}\n",
            "147  :  Losses {'ner': 4405.565075439401}\n",
            "148  :  Losses {'ner': 4345.377794433385}\n",
            "149  :  Losses {'ner': 4480.809365421534}\n",
            "150  :  Losses {'ner': 4434.959312990308}\n",
            "151  :  Losses {'ner': 4372.164697274566}\n",
            "152  :  Losses {'ner': 4388.833799421787}\n",
            "153  :  Losses {'ner': 4396.567103885114}\n",
            "154  :  Losses {'ner': 4382.210076898336}\n",
            "155  :  Losses {'ner': 4453.006955638528}\n",
            "156  :  Losses {'ner': 4410.7363899722695}\n",
            "157  :  Losses {'ner': 4361.973238634877}\n",
            "158  :  Losses {'ner': 4355.09437687695}\n",
            "159  :  Losses {'ner': 4506.533784799743}\n",
            "160  :  Losses {'ner': 4376.528342608362}\n",
            "161  :  Losses {'ner': 4471.362230926752}\n",
            "162  :  Losses {'ner': 4454.262808484957}\n",
            "163  :  Losses {'ner': 4472.119573652744}\n",
            "164  :  Losses {'ner': 4408.642928183079}\n",
            "165  :  Losses {'ner': 4410.047282665968}\n",
            "166  :  Losses {'ner': 4390.886501044035}\n",
            "167  :  Losses {'ner': 4418.9809208307415}\n",
            "168  :  Losses {'ner': 4353.989203885198}\n",
            "169  :  Losses {'ner': 4453.818811034318}\n",
            "170  :  Losses {'ner': 4452.279006391764}\n",
            "171  :  Losses {'ner': 4479.744522746652}\n",
            "172  :  Losses {'ner': 4350.710318401456}\n",
            "173  :  Losses {'ner': 4451.597580358386}\n",
            "174  :  Losses {'ner': 4381.633331902325}\n",
            "175  :  Losses {'ner': 4395.7310860008}\n",
            "176  :  Losses {'ner': 4434.787593040615}\n",
            "177  :  Losses {'ner': 4429.281644873321}\n",
            "178  :  Losses {'ner': 4537.523867994547}\n",
            "179  :  Losses {'ner': 4425.037330856081}\n",
            "180  :  Losses {'ner': 4391.331029489636}\n",
            "181  :  Losses {'ner': 4361.889980480075}\n",
            "182  :  Losses {'ner': 4485.076538473368}\n",
            "183  :  Losses {'ner': 4479.913375556469}\n",
            "184  :  Losses {'ner': 4427.792518263683}\n",
            "185  :  Losses {'ner': 4496.960915714502}\n",
            "186  :  Losses {'ner': 4496.983059152961}\n",
            "187  :  Losses {'ner': 4459.46274112165}\n",
            "188  :  Losses {'ner': 4437.854452222586}\n",
            "189  :  Losses {'ner': 4378.750086605549}\n",
            "190  :  Losses {'ner': 4450.389369428158}\n",
            "191  :  Losses {'ner': 4395.561795860529}\n",
            "192  :  Losses {'ner': 4423.710011601448}\n",
            "193  :  Losses {'ner': 4443.429153695703}\n",
            "194  :  Losses {'ner': 4410.792420066893}\n",
            "195  :  Losses {'ner': 4445.971532806754}\n",
            "196  :  Losses {'ner': 4350.376342765987}\n",
            "197  :  Losses {'ner': 4471.386940665543}\n",
            "198  :  Losses {'ner': 4385.278690461069}\n",
            "199  :  Losses {'ner': 4331.4769091159105}\n",
            "200  :  Losses {'ner': 4368.515690475702}\n",
            "201  :  Losses {'ner': 4497.143831785535}\n",
            "202  :  Losses {'ner': 4512.612464800477}\n",
            "203  :  Losses {'ner': 4568.782571822405}\n",
            "204  :  Losses {'ner': 4386.27951002121}\n",
            "205  :  Losses {'ner': 4404.31146735698}\n",
            "206  :  Losses {'ner': 4347.010758397169}\n",
            "207  :  Losses {'ner': 4402.15005183965}\n",
            "208  :  Losses {'ner': 4375.470580771565}\n",
            "209  :  Losses {'ner': 4462.831166420132}\n",
            "210  :  Losses {'ner': 4422.155638612807}\n",
            "211  :  Losses {'ner': 4394.745327331126}\n",
            "212  :  Losses {'ner': 4306.415564795025}\n",
            "213  :  Losses {'ner': 4423.363678067923}\n",
            "214  :  Losses {'ner': 4353.367033094168}\n",
            "215  :  Losses {'ner': 4353.457401312888}\n",
            "216  :  Losses {'ner': 4423.927068602294}\n",
            "217  :  Losses {'ner': 4273.291115460917}\n",
            "218  :  Losses {'ner': 4343.102073229849}\n",
            "219  :  Losses {'ner': 4468.156992703676}\n",
            "220  :  Losses {'ner': 4409.863499857485}\n",
            "221  :  Losses {'ner': 4542.558003842831}\n",
            "222  :  Losses {'ner': 4398.4952660650015}\n",
            "223  :  Losses {'ner': 4411.987926378846}\n",
            "224  :  Losses {'ner': 4375.3435165807605}\n",
            "225  :  Losses {'ner': 4383.072004526854}\n",
            "226  :  Losses {'ner': 4455.601286798716}\n",
            "227  :  Losses {'ner': 4329.608696311712}\n",
            "228  :  Losses {'ner': 4388.574636014178}\n",
            "229  :  Losses {'ner': 4457.019034743309}\n",
            "230  :  Losses {'ner': 4352.229935601354}\n",
            "231  :  Losses {'ner': 4307.159668296576}\n",
            "232  :  Losses {'ner': 4401.938388988376}\n",
            "233  :  Losses {'ner': 4471.986427921802}\n",
            "234  :  Losses {'ner': 4399.020212054253}\n",
            "235  :  Losses {'ner': 4474.529327362776}\n",
            "236  :  Losses {'ner': 4386.754068493843}\n",
            "237  :  Losses {'ner': 4491.003813639283}\n",
            "238  :  Losses {'ner': 4476.513671666384}\n",
            "239  :  Losses {'ner': 4416.344278897857}\n",
            "240  :  Losses {'ner': 4443.1066778078675}\n",
            "241  :  Losses {'ner': 4470.326697587967}\n",
            "242  :  Losses {'ner': 4403.908654466271}\n",
            "243  :  Losses {'ner': 4455.6941675543785}\n",
            "244  :  Losses {'ner': 4361.116154199466}\n",
            "245  :  Losses {'ner': 4468.292666092515}\n",
            "246  :  Losses {'ner': 4482.280397854745}\n",
            "247  :  Losses {'ner': 4429.631623864174}\n",
            "248  :  Losses {'ner': 4418.682365484536}\n",
            "249  :  Losses {'ner': 4472.497316971421}\n",
            "250  :  Losses {'ner': 4387.770270982757}\n",
            "251  :  Losses {'ner': 4310.852859325707}\n",
            "252  :  Losses {'ner': 4402.505618304014}\n",
            "253  :  Losses {'ner': 4455.480555012822}\n",
            "254  :  Losses {'ner': 4420.457379348576}\n",
            "255  :  Losses {'ner': 4442.919104136527}\n",
            "256  :  Losses {'ner': 4492.340469777584}\n",
            "257  :  Losses {'ner': 4464.572380796075}\n",
            "258  :  Losses {'ner': 4548.841297321022}\n",
            "259  :  Losses {'ner': 4358.80741584301}\n",
            "260  :  Losses {'ner': 4364.048403784633}\n",
            "261  :  Losses {'ner': 4359.699698748067}\n",
            "262  :  Losses {'ner': 4448.199295271188}\n",
            "263  :  Losses {'ner': 4396.852209664881}\n",
            "264  :  Losses {'ner': 4309.0042733848095}\n",
            "265  :  Losses {'ner': 4324.649381455034}\n",
            "266  :  Losses {'ner': 4416.38611394912}\n",
            "267  :  Losses {'ner': 4359.645352739841}\n",
            "268  :  Losses {'ner': 4393.823403082788}\n",
            "269  :  Losses {'ner': 4413.876809429377}\n",
            "270  :  Losses {'ner': 4360.57330868952}\n",
            "271  :  Losses {'ner': 4423.44705966115}\n",
            "272  :  Losses {'ner': 4290.372652411461}\n",
            "273  :  Losses {'ner': 4388.083375811577}\n",
            "274  :  Losses {'ner': 4465.665530502796}\n",
            "275  :  Losses {'ner': 4336.401588588953}\n",
            "276  :  Losses {'ner': 4350.200207538903}\n",
            "277  :  Losses {'ner': 4287.742137649562}\n",
            "278  :  Losses {'ner': 4429.355087004602}\n",
            "279  :  Losses {'ner': 4415.589261867106}\n",
            "280  :  Losses {'ner': 4387.838656723499}\n",
            "281  :  Losses {'ner': 4364.95596209541}\n",
            "282  :  Losses {'ner': 4325.159210862592}\n",
            "283  :  Losses {'ner': 4421.001022748649}\n",
            "284  :  Losses {'ner': 4302.015446007252}\n",
            "285  :  Losses {'ner': 4397.897255674005}\n",
            "286  :  Losses {'ner': 4386.982718754094}\n",
            "287  :  Losses {'ner': 4364.508249975741}\n",
            "288  :  Losses {'ner': 4424.374401953071}\n",
            "289  :  Losses {'ner': 4445.171103298664}\n",
            "290  :  Losses {'ner': 4370.861576959491}\n",
            "291  :  Losses {'ner': 4406.986955344677}\n",
            "292  :  Losses {'ner': 4420.543104760349}\n",
            "293  :  Losses {'ner': 4312.01939445734}\n",
            "294  :  Losses {'ner': 4365.012588456273}\n",
            "295  :  Losses {'ner': 4361.505562648177}\n",
            "296  :  Losses {'ner': 4397.962928980589}\n",
            "297  :  Losses {'ner': 4455.001419372857}\n",
            "298  :  Losses {'ner': 4468.026891756803}\n",
            "299  :  Losses {'ner': 4459.585290715098}\n",
            "300  :  Losses {'ner': 4360.842794016004}\n",
            "Time elapsed (hh:mm:ss.ms) 0:24:31.189481\n"
          ],
          "name": "stdout"
        }
      ]
    },
    {
      "cell_type": "code",
      "metadata": {
        "id": "t_EN9FFWDBjV"
      },
      "source": [
        "PL1_model_name=\"Programming_Language_1_Model\""
      ],
      "execution_count": null,
      "outputs": []
    },
    {
      "cell_type": "code",
      "metadata": {
        "id": "CcYDCEU-iik-",
        "colab": {
          "base_uri": "https://localhost:8080/",
          "height": 72
        },
        "outputId": "66a32c30-71c5-41c9-da62-6f86979b091d"
      },
      "source": [
        "s=save_trained_model(PL1_model_name,nlp,output_dir_PL_version3)\n"
      ],
      "execution_count": null,
      "outputs": [
        {
          "output_type": "stream",
          "text": [
            "Drive already mounted at /content/gdrive; to attempt to forcibly remount, call drive.mount(\"/content/gdrive\", force_remount=True).\n",
            "Saved model to /content/gdrive/My Drive/Trained_NER_Models/Programming_Language_Trained_Model/version3\n"
          ],
          "name": "stdout"
        }
      ]
    },
    {
      "cell_type": "code",
      "metadata": {
        "id": "Ry4QNSVjxG3v",
        "colab": {
          "base_uri": "https://localhost:8080/",
          "height": 72
        },
        "outputId": "a163de0e-247d-4acd-a4a7-dcedaa3ecdce"
      },
      "source": [
        "nlp=load_trained_model(output_dir_SW_V1)"
      ],
      "execution_count": null,
      "outputs": [
        {
          "output_type": "stream",
          "text": [
            "Drive already mounted at /content/gdrive; to attempt to forcibly remount, call drive.mount(\"/content/gdrive\", force_remount=True).\n",
            "Loading from /content/gdrive/My Drive/Trained_NER_Models/Software_Engineering_Trained_Model/SW_V1\n"
          ],
          "name": "stdout"
        }
      ]
    },
    {
      "cell_type": "code",
      "metadata": {
        "id": "G8HIiOl9PJ3r"
      },
      "source": [
        "def break_document_into_sentences(doc):\n",
        "  try:\n",
        "    sentences = [x for x in doc.sents]\n",
        "    return sentences\n",
        "  except:\n",
        "    print(\"An exception occurred 20\")"
      ],
      "execution_count": null,
      "outputs": []
    },
    {
      "cell_type": "code",
      "metadata": {
        "id": "00_EEh_SP1LM"
      },
      "source": [
        "def return_sentences_with_entities(doc):\n",
        "  try:\n",
        "    list_of_sentences_with_entities=list()\n",
        "    sentences = break_document_into_sentences(doc)\n",
        "    for sentence in sentences:\n",
        "      if (sentence.ents != []):\n",
        "        list_of_sentences_with_entities.append(sentence)   \n",
        "    return list_of_sentences_with_entities\n",
        "  except:\n",
        "    print(\"An exception occurred 21\")"
      ],
      "execution_count": null,
      "outputs": []
    },
    {
      "cell_type": "code",
      "metadata": {
        "id": "lZ1EkRwTIN7s"
      },
      "source": [
        "def is_sentence_has_entities(sentence):\n",
        "  try:\n",
        "    if (sentence.ents != []):\n",
        "      return 1\n",
        "    else:\n",
        "      return 0\n",
        "  except:\n",
        "    print(\"An exception occurred 21\")"
      ],
      "execution_count": null,
      "outputs": []
    },
    {
      "cell_type": "code",
      "metadata": {
        "id": "VNgqZUvuEYn1"
      },
      "source": [
        "def return_sentence_and_its_entities(sentence):\n",
        "  try:\n",
        "    list_sentence_entity_label=list()\n",
        "    list_of_entities_and_its_label=list()\n",
        "    list_sentence_entity_label.append(sentence)\n",
        "    for ent in sentence.ents:\n",
        "      small_list=list()\n",
        "      small_list.append(ent.text)\n",
        "      small_list.append(ent.label_)\n",
        "      list_of_entities_and_its_label.append(small_list)\n",
        "    list_sentence_entity_label.append(list_of_entities_and_its_label)\n",
        "    return list_sentence_entity_label\n",
        "  except:\n",
        "    print(\"An exception occurred 13\")"
      ],
      "execution_count": null,
      "outputs": []
    },
    {
      "cell_type": "code",
      "metadata": {
        "id": "n2AAXlSg6esz"
      },
      "source": [
        "def return_sentence_and_its_entities1(sentence):\n",
        "  try:\n",
        "    \n",
        "    keyword='NER' #it holds the extracted keyword\n",
        "    label=''\n",
        "    Name='NER'#it holds the name of model\n",
        "\n",
        "    dic[sentence]={'Keyword':Name, 'Label':Name}\n",
        "\n",
        "\n",
        "    #list_sentence_entity_label=list()\n",
        "    list_of_entities_and_its_label=list()\n",
        "    #list_sentence_entity_label.append(sentence)\n",
        "    for ent in sentence.ents:\n",
        "      small_list=list()\n",
        "      small_list.append(ent.text)\n",
        "      small_list.append(ent.label_)\n",
        "      list_of_entities_and_its_label.append(small_list)\n",
        "    #list_sentence_entity_label.append(list_of_entities_and_its_label)\n",
        "    return #list_sentence_entity_label\n",
        "  except:\n",
        "    print(\"An exception occurred 13\")"
      ],
      "execution_count": null,
      "outputs": []
    },
    {
      "cell_type": "code",
      "metadata": {
        "id": "4vxhM2s2gjnr"
      },
      "source": [
        "def return_sentence_and_its_entities1(sentence):\n",
        "  try:\n",
        "    list_sentence_entity_label=list()\n",
        "    list_of_entities_and_its_label=list()\n",
        "    list_sentence_entity_label.append(sentence)\n",
        "    for ent in sentence.ents:\n",
        "      small_list=list()\n",
        "      small_list.append(ent.text)\n",
        "      small_list.append(ent.label_)\n",
        "      list_of_entities_and_its_label.append(small_list)\n",
        "    list_sentence_entity_label.append(list_of_entities_and_its_label)\n",
        "    return list_sentence_entity_label\n",
        "  except:\n",
        "    print(\"An exception occurred 13\")"
      ],
      "execution_count": null,
      "outputs": []
    },
    {
      "cell_type": "code",
      "metadata": {
        "id": "ObWeNmG1XUeL"
      },
      "source": [
        "doc=test_model_after_training(test_text,nlp)"
      ],
      "execution_count": null,
      "outputs": []
    },
    {
      "cell_type": "code",
      "metadata": {
        "id": "PUKoR3H3cocD"
      },
      "source": [
        "sentences_with_entities = return_sentences_with_entities(doc)"
      ],
      "execution_count": null,
      "outputs": []
    },
    {
      "cell_type": "code",
      "metadata": {
        "id": "0Ag-VNuOn-Ol"
      },
      "source": [
        "for sentence in sentences_with_entities:\n",
        "  print_entities_by_displacy(sentence)"
      ],
      "execution_count": null,
      "outputs": []
    },
    {
      "cell_type": "code",
      "metadata": {
        "id": "5qDYrou5VU-5",
        "colab": {
          "base_uri": "https://localhost:8080/",
          "height": 35
        },
        "outputId": "56270995-f8c1-47ea-f3f9-b3ea9fb84e44"
      },
      "source": [
        "sentences_with_entities"
      ],
      "execution_count": null,
      "outputs": [
        {
          "output_type": "execute_result",
          "data": {
            "text/plain": [
              "[]"
            ]
          },
          "metadata": {
            "tags": []
          },
          "execution_count": 38
        }
      ]
    },
    {
      "cell_type": "code",
      "metadata": {
        "id": "66sExC2IsZXh"
      },
      "source": [
        "def test_NER_Model(test_text,nlp):\n",
        "  doc= test_model_after_loading(test_text,nlp)\n",
        "  sentences_with_entities = return_sentences_with_entities(doc)\n",
        "  large_list=list()\n",
        "  for sentence in sentences_with_entities:\n",
        "    large_list.append(return_sentence_and_its_entities(sentence))\n",
        "  return large_list"
      ],
      "execution_count": null,
      "outputs": []
    },
    {
      "cell_type": "code",
      "metadata": {
        "id": "n052PasjOzz8"
      },
      "source": [
        "def test_NER_Model1(sentence,nlp):\n",
        "  boolean_var = is_sentence_has_entities(sentence)\n",
        "  if (boolean_var==1):\n",
        "    result_list = return_sentence_and_its_entities(sentence)\n",
        "    return result_list\n",
        "  else:\n",
        "    return 0"
      ],
      "execution_count": null,
      "outputs": []
    },
    {
      "cell_type": "code",
      "metadata": {
        "id": "_4s52uAbI0ko"
      },
      "source": [
        "large_list=list()\n",
        "for sentence in sentences_with_entities:\n",
        "  large_list.append(return_sentence_and_its_entities(sentence))"
      ],
      "execution_count": null,
      "outputs": []
    },
    {
      "cell_type": "code",
      "metadata": {
        "id": "wOLEN86RdtN-"
      },
      "source": [
        "for e in large_list:\n",
        " print(e)\n",
        " print(\"\")\n",
        " print(\"\")"
      ],
      "execution_count": null,
      "outputs": []
    },
    {
      "cell_type": "code",
      "metadata": {
        "id": "MkXHXrWHno9x",
        "colab": {
          "base_uri": "https://localhost:8080/",
          "height": 166
        },
        "outputId": "2eb7e411-9e03-4c9a-9701-2c6970a7181f"
      },
      "source": [
        "result=test(test_text,nlp)"
      ],
      "execution_count": null,
      "outputs": [
        {
          "output_type": "error",
          "ename": "NameError",
          "evalue": "ignored",
          "traceback": [
            "\u001b[0;31m---------------------------------------------------------------------------\u001b[0m",
            "\u001b[0;31mNameError\u001b[0m                                 Traceback (most recent call last)",
            "\u001b[0;32m<ipython-input-43-d33fe96b118d>\u001b[0m in \u001b[0;36m<module>\u001b[0;34m()\u001b[0m\n\u001b[0;32m----> 1\u001b[0;31m \u001b[0mresult\u001b[0m\u001b[0;34m=\u001b[0m\u001b[0mtest\u001b[0m\u001b[0;34m(\u001b[0m\u001b[0mtest_text\u001b[0m\u001b[0;34m,\u001b[0m\u001b[0mnlp\u001b[0m\u001b[0;34m)\u001b[0m\u001b[0;34m\u001b[0m\u001b[0;34m\u001b[0m\u001b[0m\n\u001b[0m",
            "\u001b[0;31mNameError\u001b[0m: name 'test' is not defined"
          ]
        }
      ]
    },
    {
      "cell_type": "markdown",
      "metadata": {
        "id": "0GGl6Tf52L8o"
      },
      "source": [
        "# **-------------------------------------------------------------------------------------------------**"
      ]
    },
    {
      "cell_type": "markdown",
      "metadata": {
        "id": "5FhHHGrX2clE"
      },
      "source": [
        "# pattern"
      ]
    },
    {
      "cell_type": "markdown",
      "metadata": {
        "id": "Zje_nWCU3yNt"
      },
      "source": [
        "**spaCy’s Rule-Based Matching**"
      ]
    },
    {
      "cell_type": "markdown",
      "metadata": {
        "id": "hQIKncR_KfOO"
      },
      "source": [
        "Rule-Based Matching\n",
        "Unlike regular expression’s fixed pattern matching, this helps us match token, phrases and entities of words and sentences according to some pre-set patterns along with the features such as parts-of-speech, entity types, dependency parsing, lemmatization and many more. Not only these, but this also supports regular expression patterns which makes the rule-based matching approach of spaCy has an upper hand among other NLP software libraries available today."
      ]
    },
    {
      "cell_type": "markdown",
      "metadata": {
        "id": "0dotb6FZDTdM"
      },
      "source": [
        "\n",
        "\n",
        "We can infer that “Gelidium” is a type of “red algae” just by looking at the structure of the sentence.\n",
        "\n",
        "In linguistics terms, we will call “red algae” as Hypernym and “Gelidium” as its Hyponym."
      ]
    },
    {
      "cell_type": "code",
      "metadata": {
        "id": "q2sQcgGK4Etf"
      },
      "source": [
        "#patterns Packages\n",
        "import re \n",
        "import string \n",
        "import nltk \n",
        "#import spacy \n",
        "import pandas as pd \n",
        "import numpy as np \n",
        "import math \n",
        "from tqdm import tqdm \n",
        "\n",
        "from spacy.matcher import Matcher \n",
        "from spacy.tokens import Span \n",
        "#from spacy import displacy \n",
        "\n",
        "pd.set_option('display.max_colwidth', 200)"
      ],
      "execution_count": null,
      "outputs": []
    },
    {
      "cell_type": "code",
      "metadata": {
        "id": "4nLmpefHgZI7"
      },
      "source": [
        "\n",
        "#define the pattern\n",
        "pattern1 = [{'DEP':'amod', 'OP':\"?\"}, # adjectival modifier\n",
        "           {'POS':'NOUN'},\n",
        "           {'LOWER': 'such'},\n",
        "           {'LOWER': 'as'},\n",
        "           {'POS': 'PROPN'}]\n",
        "\n",
        "\n",
        "\n",
        "#define the pattern \n",
        "pattern2 = [{'DEP':'amod', 'OP':\"?\"}, \n",
        "           {'POS':'NOUN'}, \n",
        "           {'LOWER': 'and', 'OP':\"?\"}, \n",
        "           {'LOWER': 'or', 'OP':\"?\"}, \n",
        "           {'LOWER': 'other'}, \n",
        "           {'POS': 'NOUN'}] \n",
        "      \n",
        "#define the pattern \n",
        "pattern3 = [{'DEP':'nummod','OP':\"?\"}, # numeric modifier \n",
        "           {'DEP':'amod','OP':\"?\"}, # adjectival modifier \n",
        "           {'POS':'NOUN'}, \n",
        "           {'IS_PUNCT': True}, \n",
        "           {'LOWER': 'including'}, \n",
        "           {'DEP':'nummod','OP':\"?\"}, \n",
        "           {'DEP':'amod','OP':\"?\"}, \n",
        "           {'POS':'NOUN'}] \n",
        "\n",
        "#define the pattern \n",
        "pattern4 = [{'DEP':'nummod','OP':\"?\"}, \n",
        "           {'DEP':'amod','OP':\"?\"}, \n",
        "           {'POS':'NOUN'}, \n",
        "           {'IS_PUNCT':True}, \n",
        "           {'LOWER': 'especially'}, \n",
        "           {'DEP':'nummod','OP':\"?\"}, \n",
        "           {'DEP':'amod','OP':\"?\"}, \n",
        "           {'POS':'NOUN'}] "
      ],
      "execution_count": null,
      "outputs": []
    },
    {
      "cell_type": "code",
      "metadata": {
        "id": "vwmgHMopiqeq"
      },
      "source": [
        "# sample text \n",
        "text = \"reem is a good person. meshmesh is a good cat. he eats alot of dry food. GDP in developing countries such as Vietnam will continue growing at a high rate. Here is how you can keep your car and other vehicles clean. Here is how you can keep your car or other vehicles clean. Eight people, including two children, were injured in the explosion. A healthy eating pattern includes fruits, especially whole fruits.  \" \n",
        "#tessst=\"hello cutie\"\n",
        "# create a spaCy object \n",
        "#doc = nlp(text)"
      ],
      "execution_count": null,
      "outputs": []
    },
    {
      "cell_type": "code",
      "metadata": {
        "id": "BbZlRGPe4Nj3"
      },
      "source": [
        "# load spaCy model\n",
        "#nlp = spacy.load(\"en_core_web_sm\")"
      ],
      "execution_count": null,
      "outputs": []
    },
    {
      "cell_type": "code",
      "metadata": {
        "id": "7OsmN2DSgcAC"
      },
      "source": [
        "# Matcher class object \n",
        "matcher = Matcher(nlp.vocab) "
      ],
      "execution_count": null,
      "outputs": []
    },
    {
      "cell_type": "code",
      "metadata": {
        "id": "_fyT2sXughE9"
      },
      "source": [
        "# Add match ID \"matching_1\" with no callback and one pattern\n",
        "\n",
        "matcher.add(\"pattern_1\", None, pattern1) #Pattern: X such as Y , ‘countries such as Vietnam’\n",
        "matcher.add(\"pattern_2\", None, pattern2)\n",
        "matcher.add(\"pattern_3\", None, pattern3)\n",
        "matcher.add(\"pattern_4\", None, pattern4)"
      ],
      "execution_count": null,
      "outputs": []
    },
    {
      "cell_type": "code",
      "metadata": {
        "id": "fSonxt1rfmbQ"
      },
      "source": [
        "def testPatterns(test_text,nlp, matcher):\n",
        "    #doc = nlp(test_text)\n",
        "    sentences_with_patterns = return_sentences_with_patterns(test_text,matcher)  #wchich found in it an aintites\n",
        "    #print(sentences_with_patterns)\n",
        "    large_list=list()\n",
        "    for sentence in sentences_with_patterns:\n",
        "        large_list.append(return_sentence_and_its_patterns(sentence,nlp,matcher))\n",
        "    return large_list"
      ],
      "execution_count": null,
      "outputs": []
    },
    {
      "cell_type": "code",
      "metadata": {
        "id": "dopcdc_dKZrH"
      },
      "source": [
        "def testPatterns1(sentence,nlp, matcher):\n",
        "    boolean_var = is_sentence_has_patterns_matched(sentence,nlp, matcher)  #wchich found in it an aintites\n",
        "    if (boolean_var == 1): #it has \n",
        "      result_list = return_sentence_and_its_patterns(sentence, nlp, matcher)\n",
        "      return result_list\n",
        "    else:\n",
        "      return 0"
      ],
      "execution_count": null,
      "outputs": []
    },
    {
      "cell_type": "code",
      "metadata": {
        "id": "x1OWIKvWflC2"
      },
      "source": [
        "def return_sentences_with_patterns(doc,matcher):\n",
        "    list_of_sentences_with_patterns=list()\n",
        "    doc=nlp(doc)\n",
        "    sentences = break_document_into_sentences(doc)\n",
        "    #print(sentences)\n",
        "    for sentence in sentences:\n",
        "        doc=nlp(str(sentence))\n",
        "        matches=matcher(doc)\n",
        "        if (matches != []):\n",
        "            list_of_sentences_with_patterns.append(sentence[0:-1])   \n",
        "    return list_of_sentences_with_patterns"
      ],
      "execution_count": null,
      "outputs": []
    },
    {
      "cell_type": "code",
      "metadata": {
        "id": "WitpnMXvHFtU"
      },
      "source": [
        "def is_sentence_has_patterns_matched(sentence,nlp,matcher):\n",
        "  doc=nlp(str(sentence))\n",
        "  matches=matcher(doc)\n",
        "  if (matches != []):  \n",
        "    return 1"
      ],
      "execution_count": null,
      "outputs": []
    },
    {
      "cell_type": "code",
      "metadata": {
        "id": "V0ncAyxNfr9w"
      },
      "source": [
        "def return_sentence_and_its_patterns(sentence,nlp,matcher):\n",
        "        doc=nlp(str(sentence))\n",
        "        matches = matcher(doc)\n",
        "        list_sentence_and_pattern_config=list()\n",
        "        list_of_matchesID_patternID_span_start_end=list()\n",
        "        list_sentence_and_pattern_config.append(str(sentence))\n",
        "        for match_id, start, end in matches:\n",
        "            small_list=list()\n",
        "            string_id = nlp.vocab.strings[match_id]  # Get string representation\n",
        "            span = doc[start:end]  # The matched span\n",
        "            small_list.append(match_id)\n",
        "            small_list.append(string_id)\n",
        "            small_list.append(start)\n",
        "            small_list.append(end)\n",
        "            small_list.append(span.text)\n",
        "\n",
        "            list_of_matchesID_patternID_span_start_end.append(small_list)\n",
        "        list_sentence_and_pattern_config.append(list_of_matchesID_patternID_span_start_end)\n",
        "        return list_sentence_and_pattern_config"
      ],
      "execution_count": null,
      "outputs": []
    },
    {
      "cell_type": "code",
      "metadata": {
        "id": "HkHG76hofuoT"
      },
      "source": [
        "l=testPatterns(text,nlp,matcher)"
      ],
      "execution_count": null,
      "outputs": []
    },
    {
      "cell_type": "code",
      "metadata": {
        "id": "iPxOND9gjHnc",
        "colab": {
          "base_uri": "https://localhost:8080/",
          "height": 297
        },
        "outputId": "ca90f2ab-b8a2-4140-fb1e-f3b82c505a6e"
      },
      "source": [
        "for i in l:\n",
        "  print(i)\n",
        "  print(\"\")\n",
        "  print(\"\")"
      ],
      "execution_count": null,
      "outputs": [
        {
          "output_type": "stream",
          "text": [
            "['GDP in developing countries such as Vietnam will continue growing at a high rate', [[13888292881017009137, 'pattern_1', 2, 7, 'developing countries such as Vietnam'], [13888292881017009137, 'pattern_1', 3, 7, 'countries such as Vietnam']]]\n",
            "\n",
            "\n",
            "['Here is how you can keep your car and other vehicles clean', [[15719126060659784350, 'pattern_2', 7, 11, 'car and other vehicles']]]\n",
            "\n",
            "\n",
            "['Here is how you can keep your car or other vehicles clean', [[15719126060659784350, 'pattern_2', 7, 11, 'car or other vehicles']]]\n",
            "\n",
            "\n",
            "['Eight people, including two children, were injured in the explosion', [[13375652922493068680, 'pattern_3', 0, 6, 'Eight people, including two children'], [13375652922493068680, 'pattern_3', 1, 6, 'people, including two children']]]\n",
            "\n",
            "\n",
            "['A healthy eating pattern includes fruits, especially whole fruits.', [[9514930324123629828, 'pattern_4', 5, 10, 'fruits, especially whole fruits']]]\n",
            "\n",
            "\n"
          ],
          "name": "stdout"
        }
      ]
    },
    {
      "cell_type": "code",
      "metadata": {
        "id": "VwUt9OtBqT8R"
      },
      "source": [
        "def testSubTreeMAtcher(test_text,nlp):\n",
        "    #doc = nlp(test_text)\n",
        "    sentences_with_SubTreeMAtcher = return_sentences_with_SubTreeMAtcher(test_text,nlp)  #wchich found in it an aintites\n",
        "    large_list=list()\n",
        "    for sentence in sentences_with_SubTreeMAtcher:\n",
        "        large_list.append(return_sentence_and_its_SubTreeMAtcher(sentence,nlp))\n",
        "    return large_list"
      ],
      "execution_count": null,
      "outputs": []
    },
    {
      "cell_type": "code",
      "metadata": {
        "id": "8ipH3eEdWhyR"
      },
      "source": [
        "def testSubTreeMAtcher1(sentence,nlp):\n",
        "    #doc = nlp(test_text)\n",
        "    boolean_var = is_sentence_has_SubTreeMatching(sentence)  #wchich found in it an aintites\n",
        "    if (boolean_var==1):\n",
        "      result_list = return_sentence_and_its_SubTreeMAtcher(sentence,nlp)\n",
        "      return result_list\n",
        "    else:\n",
        "      return 0"
      ],
      "execution_count": null,
      "outputs": []
    },
    {
      "cell_type": "code",
      "metadata": {
        "id": "WA2o-keyfssf"
      },
      "source": [
        "#g=testSubTreeMAtcher(text5,nlp)"
      ],
      "execution_count": null,
      "outputs": []
    },
    {
      "cell_type": "code",
      "metadata": {
        "id": "C7hLWgV4gEZo"
      },
      "source": [
        "#g"
      ],
      "execution_count": null,
      "outputs": []
    },
    {
      "cell_type": "code",
      "metadata": {
        "id": "p2n2--LlqmjC"
      },
      "source": [
        "def return_sentences_with_SubTreeMAtcher(doc,nlp):\n",
        "  substring1=\",\"\n",
        "  list_of_sentences_with_SubTreeMAtcher=list()\n",
        "  doc=nlp(doc)\n",
        "  sentences = break_document_into_sentences(doc)\n",
        "  for sentence in sentences:\n",
        "      sentence_has_SubTreeMAtcher=0\n",
        "      if (substring1 in str(sentence)):\n",
        "        list_of_sentences = str(sentence).split(\",\")\n",
        "        for each_sentence in list_of_sentences:\n",
        "            if (sentence_has_SubTreeMAtcher==0):\n",
        "              doc=nlp(str(each_sentence))\n",
        "              x,y,flag =new_subtree_matcher(doc)\n",
        "              if ((x != '') | (y !='')):\n",
        "                sentence_has_SubTreeMAtcher=1\n",
        "                list_of_sentences_with_SubTreeMAtcher.append(str(sentence))\n",
        "      else:\n",
        "        doc=nlp(str(sentence)) #change it to each sentence if something wrong\n",
        "        x,y,flag =new_subtree_matcher(doc)\n",
        "        if ((x != '') | (y !='')):\n",
        "          list_of_sentences_with_SubTreeMAtcher.append(str(sentence))\n",
        "  return list_of_sentences_with_SubTreeMAtcher"
      ],
      "execution_count": null,
      "outputs": []
    },
    {
      "cell_type": "code",
      "metadata": {
        "id": "pNA5wLR__zNx"
      },
      "source": [
        "def is_sentence_has_SubTreeMatching(sentence):\n",
        "  substring1=\",\"\n",
        "  sentence_has_SubTreeMAtcher=0\n",
        "  if (substring1 in str(sentence)):\n",
        "    list_of_sentences = str(sentence).split(\",\")\n",
        "    for each_sentence in list_of_sentences:\n",
        "        if (sentence_has_SubTreeMAtcher==0): #if it doesnt have matching yet\n",
        "          doc=nlp(str(each_sentence))\n",
        "          x,y,flag =new_subtree_matcher(doc)\n",
        "          if ((x != '') | (y !='')):\n",
        "            sentence_has_SubTreeMAtcher=1 \n",
        "          else:\n",
        "            return 0\n",
        "        else: \n",
        "          return 1\n",
        "  else:\n",
        "    doc=nlp(str(sentence))\n",
        "    x,y,flag =new_subtree_matcher(doc)\n",
        "    if ((x != '') | (y !='')):\n",
        "      return 1\n",
        "    else:\n",
        "      return 0"
      ],
      "execution_count": null,
      "outputs": []
    },
    {
      "cell_type": "code",
      "metadata": {
        "id": "iznJ3vBXFh81"
      },
      "source": [
        "def return_sentence_and_its_SubTreeMAtcher(sentence,nlp):\n",
        "  substring1=\",\"\n",
        "  list_sentence_and_SubTreeMAtcher_config=list()\n",
        "  list_of_sub_sentence_x_y_flag=list()\n",
        "  list_sentence_and_SubTreeMAtcher_config.append(sentence)\n",
        "  if (substring1 in str(sentence)):\n",
        "    list_of_sentences = str(sentence).split(\",\")\n",
        "    for each_sub_sentence in list_of_sentences:\n",
        "      small_list=list()\n",
        "      doc=nlp(str(each_sub_sentence))\n",
        "      x,y,flag =new_subtree_matcher(doc)\n",
        "      small_list.append(x)\n",
        "      small_list.append(y)\n",
        "      small_list.append(flag)\n",
        "      small_list.append(each_sub_sentence)\n",
        "      list_of_sub_sentence_x_y_flag.append(small_list)\n",
        "  else:\n",
        "      small_list=list()\n",
        "      doc=nlp(str(sentence))\n",
        "      x,y,flag =new_subtree_matcher(doc)\n",
        "      small_list.append(x)\n",
        "      small_list.append(y)\n",
        "      small_list.append(flag)\n",
        "      list_of_sub_sentence_x_y_flag.append(small_list)\n",
        "\n",
        "  list_sentence_and_SubTreeMAtcher_config.append(list_of_sub_sentence_x_y_flag)\n",
        "  return list_sentence_and_SubTreeMAtcher_config"
      ],
      "execution_count": null,
      "outputs": []
    },
    {
      "cell_type": "code",
      "metadata": {
        "id": "Gabl5S6n7BTK"
      },
      "source": [
        "def new_subtree_matcher(doc):\n",
        "  subjpass = 0\n",
        "\n",
        "  for i,tok in enumerate(doc):\n",
        "    # find dependency tag that contains the text \"subjpass\"    \n",
        "    if tok.dep_.find(\"subjpass\") == True:\n",
        "      subjpass = 1\n",
        "\n",
        "  x = ''\n",
        "  y = ''\n",
        "  flag=''\n",
        "  # if subjpass == 1 then sentence is passive\n",
        "  if subjpass == 1:\n",
        "    flag=flag+\"passive sentence\"\n",
        "    for i,tok in enumerate(doc):\n",
        "      if tok.dep_.find(\"subjpass\") == True:\n",
        "        if (y == ''):\n",
        "          y = tok.text\n",
        "\n",
        "      if tok.dep_.endswith(\"obj\") == True:\n",
        "        if (x == ''):\n",
        "          x = tok.text\n",
        "  \n",
        "  # if subjpass == 0 then sentence is not passive\n",
        "  else:\n",
        "    flag=flag+\"not passive sentence\"\n",
        "    for i,tok in enumerate(doc):\n",
        "      if tok.dep_.endswith(\"subj\") == True:\n",
        "        if (x == ''):\n",
        "          x = tok.text\n",
        "\n",
        "      if tok.dep_.endswith(\"obj\") == True:\n",
        "        if (y == ''):\n",
        "          y = tok.text\n",
        "\n",
        "  return x,y,flag"
      ],
      "execution_count": null,
      "outputs": []
    },
    {
      "cell_type": "markdown",
      "metadata": {
        "id": "7eM6dj0dhMV8"
      },
      "source": [
        "## **----------------------------------------------------------------------------------**"
      ]
    },
    {
      "cell_type": "markdown",
      "metadata": {
        "id": "t-7YFbiPhCuE"
      },
      "source": [
        "## **RAKE**"
      ]
    },
    {
      "cell_type": "code",
      "metadata": {
        "id": "nuwwrFTNhBhJ",
        "colab": {
          "base_uri": "https://localhost:8080/",
          "height": 87
        },
        "outputId": "0114097d-f333-42f3-fdb9-dd32c823388f"
      },
      "source": [
        "!pip install rake-nltk\n",
        "!pip install python-rake==1.4.4\n",
        "import RAKE"
      ],
      "execution_count": null,
      "outputs": [
        {
          "output_type": "stream",
          "text": [
            "Requirement already satisfied: rake-nltk in /usr/local/lib/python3.6/dist-packages (1.0.4)\n",
            "Requirement already satisfied: nltk in /usr/local/lib/python3.6/dist-packages (from rake-nltk) (3.2.5)\n",
            "Requirement already satisfied: six in /usr/local/lib/python3.6/dist-packages (from nltk->rake-nltk) (1.12.0)\n",
            "Requirement already satisfied: python-rake==1.4.4 in /usr/local/lib/python3.6/dist-packages (1.4.4)\n"
          ],
          "name": "stdout"
        }
      ]
    },
    {
      "cell_type": "markdown",
      "metadata": {
        "id": "V-CnD9ByGCJ0"
      },
      "source": [
        "stop_dir = os.path.join(StopWordsDir,SmartStopWordsTextName)\n",
        "rake_object = RAKE.Rake(stop_dir)"
      ]
    },
    {
      "cell_type": "code",
      "metadata": {
        "id": "Qoq0rvbwEfHH"
      },
      "source": [
        "stop_dir = os.path.join(StopWordsDir,SmartStopWordsTextName)\n",
        "rake_object = RAKE.Rake(stop_dir)"
      ],
      "execution_count": null,
      "outputs": []
    },
    {
      "cell_type": "code",
      "metadata": {
        "id": "tp_cHZuGQ6rN"
      },
      "source": [
        "test_text = \"all the skills needed for the Turing Test,imitation game. reem is a good person. meshmesh is a good cat. he eats alot of dry food. GDP in developing countries such as Vietnam will continue growing at a high rate. Here is how you can keep your car and other vehicles clean. Here is how you can keep your car or other vehicles clean. Eight people, including two children, were injured in the explosion. A healthy eating pattern includes fruits, especially whole fruits. mom answers the phone, and the table is broken by marwan. today will be a good day. the garden was watered by the man. how does k-means algorithm work? and what about talking about data science. all the skills needed for the Turing Test,imitation game. alaa was fantastic in microsoft.  the environment does not change with the passage of time,but the agent's performance score does. The introduction of spreadsheets enabled business users to create simple logic on data structured in rows and columns and create their own analyses of business problems. Database administrator training is not required to create spreadsheets: They can be set up to do many things quickly and independently of information technology (IT) groups. Spreadsheets are easy to share, and end users have control over the logic involved. However, their proliferation can result in “many versions of the truth.” In other words, it can be challenging to determine if a particular user has the most relevant version of a spreadsheet, with the most current data and logic in it. Moreover, if a laptop is lost or a file becomes corrupted, the data and logic within the spreadsheet could be lost. This is an ongoing challenge because spreadsheet programs such as Microsoft Excel still run on many computers worldwide. With the proliferation of data islands (or spreadmarts), the need to centralize the data is more pressing than ever. As data needs grew, so did more scalable data warehousing solutions. supervised learning is a type of machine learning. there is a lot of supervised learning algorithms like support vector machine algorithm , knn algorithm , logistic regression , and many more. \""
      ],
      "execution_count": null,
      "outputs": []
    },
    {
      "cell_type": "code",
      "metadata": {
        "id": "RA9ZRqUniuEe"
      },
      "source": [
        "from rake_nltk import Rake\n",
        "import operator\n",
        "import RAKE\n",
        "import nltk\n",
        "import os"
      ],
      "execution_count": null,
      "outputs": []
    },
    {
      "cell_type": "code",
      "metadata": {
        "id": "pw2hGUA3itgf"
      },
      "source": [
        "def test_Rake_keyword_extraction(test_text,nlp):\n",
        "    #doc = nlp(test_text)\n",
        "    sentences_with_Rake_keyword_extraction = return_sentences_with_Rake_keyword_extraction(test_text,nlp)  #wchich found in it an aintites\n",
        "    large_list=list()\n",
        "    for sentence in sentences_with_Rake_keyword_extraction:\n",
        "        large_list.append(return_sentence_and_its_Rake_keyword_extraction(sentence))\n",
        "    return large_list"
      ],
      "execution_count": null,
      "outputs": []
    },
    {
      "cell_type": "code",
      "metadata": {
        "id": "OKsz3ivYJbo7"
      },
      "source": [
        "def test_Rake_keyword_extraction1(sentence,nlp,rake_object):\n",
        "    boolean_var = is_it_has_Rake_keyword_extraction(sentence,rake_object)  #wchich found in it an aintites\n",
        "    if (boolean_var == 1): #it has \n",
        "      result_list = return_sentence_and_its_Rake_keyword_extraction(sentence,rake_object)\n",
        "      return result_list\n",
        "    else:\n",
        "      return 0"
      ],
      "execution_count": null,
      "outputs": []
    },
    {
      "cell_type": "code",
      "metadata": {
        "id": "li-g7huMbSwo"
      },
      "source": [
        "def return_sentences_with_Rake_keyword_extraction(doc,nlp,rake_object):\n",
        "  list_of_sentences_with_Rake_keyword_extraction=list()\n",
        "  doc=nlp(doc)\n",
        "  sentences = break_document_into_sentences(doc)\n",
        "  for sentence in sentences:\n",
        "      keywords = rake_object.run(str(sentence))\n",
        "      if (keywords!=[]):\n",
        "        if (keywords[0][1]!=0):\n",
        "          list_of_sentences_with_Rake_keyword_extraction.append(str(sentence))\n",
        "\n",
        "  return list_of_sentences_with_Rake_keyword_extraction"
      ],
      "execution_count": null,
      "outputs": []
    },
    {
      "cell_type": "code",
      "metadata": {
        "id": "Yzfwhks913Hm"
      },
      "source": [
        "def is_it_has_Rake_keyword_extraction(sentence,rake_object):\n",
        "  keywords = rake_object.run(str(sentence))\n",
        "  if (keywords!=[]):\n",
        "    if (keywords[0][1]!=0):\n",
        "      return 1\n",
        "    else:\n",
        "      return 0\n",
        "  else:\n",
        "    return 0"
      ],
      "execution_count": null,
      "outputs": []
    },
    {
      "cell_type": "code",
      "metadata": {
        "id": "vwdoMatCbz35"
      },
      "source": [
        "def return_sentence_and_its_Rake_keyword_extraction(sentence,rake_object):\n",
        "  list_sentence_and_Rake_keyword_extraction_config=list()\n",
        "  list_of_highestKeyword_Score=list()\n",
        "  sentence=str(sentence)\n",
        "  list_sentence_and_Rake_keyword_extraction_config.append(sentence)\n",
        "  keywords = rake_object.run(sentence)\n",
        "  c=3\n",
        "  for each_keyword in keywords:\n",
        "    if (c==0):\n",
        "      break\n",
        "    small_list=list()\n",
        "    small_list.append(each_keyword[0])\n",
        "    small_list.append(each_keyword[1])\n",
        "    list_of_highestKeyword_Score.append(small_list)\n",
        "    c=c-1\n",
        "\n",
        "  list_sentence_and_Rake_keyword_extraction_config.append(list_of_highestKeyword_Score)\n",
        "  return list_sentence_and_Rake_keyword_extraction_config"
      ],
      "execution_count": null,
      "outputs": []
    },
    {
      "cell_type": "markdown",
      "metadata": {
        "id": "G0ylfLw6a63i"
      },
      "source": [
        "# **mix all up --------------------------------------------------------------**"
      ]
    },
    {
      "cell_type": "code",
      "metadata": {
        "id": "Lo47Zk4quYlj"
      },
      "source": [
        "def create_complete_question_function(i):\n",
        "  switcher={\n",
        "          0:test_NER_Model(test_text,nlp),\n",
        "          1:testPatterns(test_text,nlp,matcher),\n",
        "          2:testSubTreeMAtcher(test_text,nlp),\n",
        "          3:test_Rake_keyword_extraction(test_text,nlp),\n",
        "          4:'Thursday',\n",
        "          5:'Friday',\n",
        "          6:'Saturday'\n",
        "        }\n",
        "  return switcher.get(i,\"Invalid day of week\")"
      ],
      "execution_count": null,
      "outputs": []
    },
    {
      "cell_type": "code",
      "metadata": {
        "id": "I3JUtcQ0-nll"
      },
      "source": [
        "def return_NER_keywords_list(NER_list):\n",
        "  keywords_list=list()\n",
        "  #NER_list[0] #holds sentence , and we dont need it\n",
        "  for eachList in NER_list[1]:\n",
        "    keywords_list.append(eachList[0])\n",
        "  return keywords_list"
      ],
      "execution_count": null,
      "outputs": []
    },
    {
      "cell_type": "code",
      "metadata": {
        "id": "hFoR_sQcB6Pu"
      },
      "source": [
        "def return_patterns_keywords_list(patterns_list):\n",
        "  keywords_list=list()\n",
        "  #patterns_list[0] #holds sentence , and we dont need it\n",
        "  for eachList in patterns_list[1]:\n",
        "    text=eachList[4]\n",
        "    if (eachList[1]=='pattern_1'):\n",
        "      list_of_keywords=text.split(\"such as\")\n",
        "      for i in list_of_keywords:\n",
        "        keywords_list.append(i)\n",
        "\n",
        "    if (eachList[1]=='pattern_2'):\n",
        "      if (\"and other\" in text):\n",
        "        list_of_keywords=text.split(\"such as\")\n",
        "        for i in list_of_keywords:\n",
        "          keywords_list.append(i)\n",
        "      \n",
        "      if (\"or other\" in text):\n",
        "        list_of_keywords=text.split(\"or as\")\n",
        "        for i in list_of_keywords:\n",
        "          keywords_list.append(i)\n",
        "\n",
        "    if (eachList[1]=='pattern_3'):\n",
        "      list_of_keywords=text.split(\"including\")\n",
        "      for i in list_of_keywords:\n",
        "        keywords_list.append(i)\n",
        "\n",
        "    if (eachList[1]=='pattern_4'):\n",
        "      list_of_keywords=text.split(\"especially\")\n",
        "      for i in list_of_keywords:\n",
        "        keywords_list.append(i)\n",
        "      \n",
        "  return keywords_list"
      ],
      "execution_count": null,
      "outputs": []
    },
    {
      "cell_type": "code",
      "metadata": {
        "id": "3hjz-lmQPbhN"
      },
      "source": [
        "def return_SubTreeMatcher_keywords_list(SubTreeMatcher_keywords_list):\n",
        "  keywords_list=list()\n",
        "  for eachList in SubTreeMatcher_keywords_list[1]:\n",
        "    keywords_list.append(eachList[0]) #subject\n",
        "    keywords_list.append(eachList[1]) #object\n",
        "  return keywords_list"
      ],
      "execution_count": null,
      "outputs": []
    },
    {
      "cell_type": "code",
      "metadata": {
        "id": "iPFMGInzSZBq"
      },
      "source": [
        "def return_RAKE_keywords_list(RAKE_keywords_list):\n",
        "  keywords_list=list()\n",
        "  for eachList in RAKE_keywords_list[1]:\n",
        "    keywords_list.append(eachList[0]) #subject\n",
        "  return keywords_list"
      ],
      "execution_count": null,
      "outputs": []
    },
    {
      "cell_type": "markdown",
      "metadata": {
        "id": "vUuCt61FVKEg"
      },
      "source": [
        "# **TEST ALL ----------------------------------------------------**"
      ]
    },
    {
      "cell_type": "code",
      "metadata": {
        "id": "6yjUUgCuxHBz",
        "colab": {
          "base_uri": "https://localhost:8080/",
          "height": 52
        },
        "outputId": "f6120981-1a91-43ad-981a-7e055cdeb1bb"
      },
      "source": [
        "nlp=load_trained_model(output_dir_AI_version4)"
      ],
      "execution_count": null,
      "outputs": [
        {
          "output_type": "stream",
          "text": [
            "Drive already mounted at /content/gdrive; to attempt to forcibly remount, call drive.mount(\"/content/gdrive\", force_remount=True).\n",
            "Loading from /content/gdrive/My Drive/Trained_NER_Models/Artificial_Intelligence_Trained_Model/version4\n"
          ],
          "name": "stdout"
        }
      ]
    },
    {
      "cell_type": "code",
      "metadata": {
        "id": "zAa5I3Y6i4k2"
      },
      "source": [
        "matcher = Matcher(nlp.vocab) "
      ],
      "execution_count": null,
      "outputs": []
    },
    {
      "cell_type": "code",
      "metadata": {
        "id": "hnGKLtYAoULn"
      },
      "source": [
        "doc=test_model_after_loading(test_text,nlp)"
      ],
      "execution_count": null,
      "outputs": []
    },
    {
      "cell_type": "code",
      "metadata": {
        "id": "HSi_h4pOW2GG"
      },
      "source": [
        "sentences = break_document_into_sentences(doc)"
      ],
      "execution_count": null,
      "outputs": []
    },
    {
      "cell_type": "code",
      "metadata": {
        "id": "-BRSKnsP1GW9"
      },
      "source": [
        "def create_complete_question_function1(sentences, nlp, rake_object):\n",
        "\n",
        "  dic={}\n",
        "  Approach1='NER' \n",
        "  Approach2='Pattern'\n",
        "  Approach3='SubTreeMatcher'\n",
        "  Approach4='Rake'\n",
        "\n",
        "  for sentence in sentences:\n",
        "    \n",
        "    sentence_in_str_format=str(sentence)\n",
        "    list1 = test_NER_Model1(sentence,nlp)\n",
        "    list2 = testPatterns1(sentence,nlp,matcher)\n",
        "    list3 = testSubTreeMAtcher1(sentence,nlp)\n",
        "    list4 = test_Rake_keyword_extraction1(sentence,nlp,rake_object)\n",
        "\n",
        "    if(list1 !=0):\n",
        "      NER_keywords_list = return_NER_keywords_list(list1)\n",
        "      list1_keywords=NER_keywords_list\n",
        "    else:\n",
        "      list1_keywords=0\n",
        "    \n",
        "    if(list2 !=0):\n",
        "      pattern_keywords_list = return_patterns_keywords_list(list2)\n",
        "      list2_keywords=pattern_keywords_list\n",
        "    else:\n",
        "      list2_keywords=0\n",
        "\n",
        "    \n",
        "    if(list3 !=0):\n",
        "      SubTreeMatcher_keywords_list = return_SubTreeMatcher_keywords_list(list3)\n",
        "      list3_keywords=SubTreeMatcher_keywords_list\n",
        "    else:\n",
        "      list3_keywords=0\n",
        "\n",
        "    if(list4 !=0):\n",
        "      RAKE_keywords_list = return_RAKE_keywords_list(list4)\n",
        "      list4_keywords=RAKE_keywords_list\n",
        "    else:\n",
        "      list4_keywords=0\n",
        "\n",
        "    dic[sentence_in_str_format]={Approach1:list1_keywords, Approach2:list2_keywords, Approach3:list3_keywords, Approach4:list4_keywords}\n",
        "\n",
        "  return dic"
      ],
      "execution_count": null,
      "outputs": []
    },
    {
      "cell_type": "code",
      "metadata": {
        "id": "lCOegdOn2_41"
      },
      "source": [
        "def put_blank_Space_in_NER_Sentences(sentence,keyword):\n",
        "  text=str(sentence)\n",
        "  sentence_with_blank_Space = text.replace(keyword, \" _________ \")\n",
        "  return sentence_with_blank_Space"
      ],
      "execution_count": null,
      "outputs": []
    },
    {
      "cell_type": "code",
      "metadata": {
        "id": "vQOZt0D1-Rv7",
        "colab": {
          "base_uri": "https://localhost:8080/",
          "height": 35
        },
        "outputId": "6f4d4fd7-f3a9-437a-eb51-eb3ebba36e4e"
      },
      "source": [
        "put_blank_Space_in_NER_Sentences(\"reem loves cats.\",\"reem \")\n"
      ],
      "execution_count": null,
      "outputs": [
        {
          "output_type": "execute_result",
          "data": {
            "text/plain": [
              "' _________ loves cats.'"
            ]
          },
          "metadata": {
            "tags": []
          },
          "execution_count": 106
        }
      ]
    },
    {
      "cell_type": "code",
      "metadata": {
        "id": "W1tJLh4aWfcT"
      },
      "source": [
        "dic2 = create_complete_question_function1(sentences, nlp,rake_object)"
      ],
      "execution_count": null,
      "outputs": []
    },
    {
      "cell_type": "code",
      "metadata": {
        "id": "fFQALmjQVjKh",
        "colab": {
          "base_uri": "https://localhost:8080/",
          "height": 1000
        },
        "outputId": "28f2aaa3-f4b8-435f-8e99-9437fab6cd84"
      },
      "source": [
        "\n",
        "for sentence in sentences:\n",
        "  print(\"=============================================================================================\")\n",
        "  print(sentence)\n",
        "  print(\"=============================================================================================\")\n",
        "\n",
        "  print(\"1- NER Approach *****************************************************************************\")\n",
        "  if (dic2[str(sentence)]['NER']!=0):\n",
        "    print(dic2[str(sentence)]['NER'])\n",
        "  print(\"\")\n",
        "\n",
        "  print(\"2- Pattern Approach *************************************************************************\")\n",
        "  if (dic2[str(sentence)]['Pattern']!=0):\n",
        "    print(dic2[str(sentence)]['Pattern'])\n",
        "  print(\"\")\n",
        "\n",
        "  print(\"3- SubTreeMatcher Approach ******************************************************************\")\n",
        "  if (dic2[str(sentence)]['SubTreeMatcher']!=0):\n",
        "    print(dic2[str(sentence)]['SubTreeMatcher'])\n",
        "  print(\"\")\n",
        "\n",
        "  print(\"4- RAKE Approach ****************************************************************************\")\n",
        "  if (dic2[str(sentence)]['Rake']!=0):\n",
        "    print(dic2[str(sentence)]['Rake'])\n",
        "\n",
        "  print(\"\")\n",
        "  print(\"\")"
      ],
      "execution_count": null,
      "outputs": [
        {
          "output_type": "stream",
          "text": [
            "=============================================================================================\n",
            "all the skills needed for the Turing Test,imitation game.\n",
            "=============================================================================================\n",
            "1- NER Approach *****************************************************************************\n",
            "['Turing Test', 'imitation game']\n",
            "\n",
            "2- Pattern Approach *************************************************************************\n",
            "\n",
            "3- SubTreeMatcher Approach ******************************************************************\n",
            "['skills', 'Test', '', '']\n",
            "\n",
            "4- RAKE Approach ****************************************************************************\n",
            "['skills needed', 'turing test', 'imitation game']\n",
            "\n",
            "\n",
            "=============================================================================================\n",
            "reem is a good person.\n",
            "=============================================================================================\n",
            "1- NER Approach *****************************************************************************\n",
            "\n",
            "2- Pattern Approach *************************************************************************\n",
            "\n",
            "3- SubTreeMatcher Approach ******************************************************************\n",
            "['reem', '']\n",
            "\n",
            "4- RAKE Approach ****************************************************************************\n",
            "['good person', 'reem']\n",
            "\n",
            "\n",
            "=============================================================================================\n",
            "meshmesh is a good cat.\n",
            "=============================================================================================\n",
            "1- NER Approach *****************************************************************************\n",
            "\n",
            "2- Pattern Approach *************************************************************************\n",
            "\n",
            "3- SubTreeMatcher Approach ******************************************************************\n",
            "['meshmesh', '']\n",
            "\n",
            "4- RAKE Approach ****************************************************************************\n",
            "['good cat', 'meshmesh']\n",
            "\n",
            "\n",
            "=============================================================================================\n",
            "he eats alot of dry food.\n",
            "=============================================================================================\n",
            "1- NER Approach *****************************************************************************\n",
            "\n",
            "2- Pattern Approach *************************************************************************\n",
            "\n",
            "3- SubTreeMatcher Approach ******************************************************************\n",
            "['he', 'alot']\n",
            "\n",
            "4- RAKE Approach ****************************************************************************\n",
            "['eats alot', 'dry food']\n",
            "\n",
            "\n",
            "=============================================================================================\n",
            "GDP in developing countries such as Vietnam will continue growing at a high rate.\n",
            "=============================================================================================\n",
            "1- NER Approach *****************************************************************************\n",
            "['Vietnam']\n",
            "\n",
            "2- Pattern Approach *************************************************************************\n",
            "\n",
            "3- SubTreeMatcher Approach ******************************************************************\n",
            "['GDP', 'countries']\n",
            "\n",
            "4- RAKE Approach ****************************************************************************\n",
            "['developing countries', 'continue growing', 'high rate']\n",
            "\n",
            "\n",
            "=============================================================================================\n",
            "Here is how you can keep your car and other vehicles clean.\n",
            "=============================================================================================\n",
            "1- NER Approach *****************************************************************************\n",
            "\n",
            "2- Pattern Approach *************************************************************************\n",
            "\n",
            "3- SubTreeMatcher Approach ******************************************************************\n",
            "['you', 'car']\n",
            "\n",
            "4- RAKE Approach ****************************************************************************\n",
            "['vehicles clean', 'car']\n",
            "\n",
            "\n",
            "=============================================================================================\n",
            "Here is how you can keep your car or other vehicles clean.\n",
            "=============================================================================================\n",
            "1- NER Approach *****************************************************************************\n",
            "\n",
            "2- Pattern Approach *************************************************************************\n",
            "\n",
            "3- SubTreeMatcher Approach ******************************************************************\n",
            "['you', 'car']\n",
            "\n",
            "4- RAKE Approach ****************************************************************************\n",
            "['vehicles clean', 'car']\n",
            "\n",
            "\n",
            "=============================================================================================\n",
            "Eight people, including two children, were injured in the explosion.\n",
            "=============================================================================================\n",
            "1- NER Approach *****************************************************************************\n",
            "\n",
            "2- Pattern Approach *************************************************************************\n",
            "\n",
            "3- SubTreeMatcher Approach ******************************************************************\n",
            "\n",
            "4- RAKE Approach ****************************************************************************\n",
            "['people', 'including', 'children']\n",
            "\n",
            "\n",
            "=============================================================================================\n",
            "A healthy eating pattern includes fruits, especially whole fruits.\n",
            "=============================================================================================\n",
            "1- NER Approach *****************************************************************************\n",
            "\n",
            "2- Pattern Approach *************************************************************************\n",
            "\n",
            "3- SubTreeMatcher Approach ******************************************************************\n",
            "['pattern', 'fruits', '', '']\n",
            "\n",
            "4- RAKE Approach ****************************************************************************\n",
            "['healthy eating pattern includes fruits', 'fruits']\n",
            "\n",
            "\n",
            "=============================================================================================\n",
            "mom answers the phone, and the table is broken by marwan.\n",
            "=============================================================================================\n",
            "1- NER Approach *****************************************************************************\n",
            "\n",
            "2- Pattern Approach *************************************************************************\n",
            "\n",
            "3- SubTreeMatcher Approach ******************************************************************\n",
            "['mom', 'phone', 'marwan', 'table']\n",
            "\n",
            "4- RAKE Approach ****************************************************************************\n",
            "['mom answers', 'phone', 'table']\n",
            "\n",
            "\n",
            "=============================================================================================\n",
            "today will be a good day.\n",
            "=============================================================================================\n",
            "1- NER Approach *****************************************************************************\n",
            "\n",
            "2- Pattern Approach *************************************************************************\n",
            "\n",
            "3- SubTreeMatcher Approach ******************************************************************\n",
            "\n",
            "4- RAKE Approach ****************************************************************************\n",
            "['good day', 'today']\n",
            "\n",
            "\n",
            "=============================================================================================\n",
            "the garden was watered by the man.\n",
            "=============================================================================================\n",
            "1- NER Approach *****************************************************************************\n",
            "\n",
            "2- Pattern Approach *************************************************************************\n",
            "\n",
            "3- SubTreeMatcher Approach ******************************************************************\n",
            "['man', 'garden']\n",
            "\n",
            "4- RAKE Approach ****************************************************************************\n",
            "['garden', 'watered', 'man']\n",
            "\n",
            "\n",
            "=============================================================================================\n",
            "how does k-means algorithm work?\n",
            "=============================================================================================\n",
            "1- NER Approach *****************************************************************************\n",
            "\n",
            "2- Pattern Approach *************************************************************************\n",
            "\n",
            "3- SubTreeMatcher Approach ******************************************************************\n",
            "['', 'work']\n",
            "\n",
            "4- RAKE Approach ****************************************************************************\n",
            "['k-means algorithm work']\n",
            "\n",
            "\n",
            "=============================================================================================\n",
            "and what about talking about data science.\n",
            "=============================================================================================\n",
            "1- NER Approach *****************************************************************************\n",
            "\n",
            "2- Pattern Approach *************************************************************************\n",
            "\n",
            "3- SubTreeMatcher Approach ******************************************************************\n",
            "['', 'science']\n",
            "\n",
            "4- RAKE Approach ****************************************************************************\n",
            "['data science', 'talking']\n",
            "\n",
            "\n",
            "=============================================================================================\n",
            "all the skills needed for the Turing Test,imitation game.\n",
            "=============================================================================================\n",
            "1- NER Approach *****************************************************************************\n",
            "['Turing Test', 'imitation game']\n",
            "\n",
            "2- Pattern Approach *************************************************************************\n",
            "\n",
            "3- SubTreeMatcher Approach ******************************************************************\n",
            "['skills', 'Test', '', '']\n",
            "\n",
            "4- RAKE Approach ****************************************************************************\n",
            "['skills needed', 'turing test', 'imitation game']\n",
            "\n",
            "\n",
            "=============================================================================================\n",
            "alaa was fantastic in microsoft.  \n",
            "=============================================================================================\n",
            "1- NER Approach *****************************************************************************\n",
            "\n",
            "2- Pattern Approach *************************************************************************\n",
            "\n",
            "3- SubTreeMatcher Approach ******************************************************************\n",
            "['alaa', 'microsoft']\n",
            "\n",
            "4- RAKE Approach ****************************************************************************\n",
            "['alaa', 'fantastic', 'microsoft']\n",
            "\n",
            "\n",
            "=============================================================================================\n",
            "the environment does not change with the passage of time,but the agent's performance score does.\n",
            "=============================================================================================\n",
            "1- NER Approach *****************************************************************************\n",
            "\n",
            "2- Pattern Approach *************************************************************************\n",
            "\n",
            "3- SubTreeMatcher Approach ******************************************************************\n",
            "['environment', 'passage', 'score', '']\n",
            "\n",
            "4- RAKE Approach ****************************************************************************\n",
            "['performance score', 'environment', 'change']\n",
            "\n",
            "\n",
            "=============================================================================================\n",
            "The introduction of spreadsheets enabled business users to create simple logic on data structured in rows and columns and create their own analyses of business problems.\n",
            "=============================================================================================\n",
            "1- NER Approach *****************************************************************************\n",
            "\n",
            "2- Pattern Approach *************************************************************************\n",
            "\n",
            "3- SubTreeMatcher Approach ******************************************************************\n",
            "['introduction', 'spreadsheets']\n",
            "\n",
            "4- RAKE Approach ****************************************************************************\n",
            "['spreadsheets enabled business users', 'create simple logic', 'business problems']\n",
            "\n",
            "\n",
            "=============================================================================================\n",
            "Database administrator training is not required to create spreadsheets: They can be set up to do many things quickly and independently of information technology (IT) groups.\n",
            "=============================================================================================\n",
            "1- NER Approach *****************************************************************************\n",
            "\n",
            "2- Pattern Approach *************************************************************************\n",
            "\n",
            "3- SubTreeMatcher Approach ******************************************************************\n",
            "['spreadsheets', 'training']\n",
            "\n",
            "4- RAKE Approach ****************************************************************************\n",
            "['database administrator training', 'create spreadsheets', 'things quickly']\n",
            "\n",
            "\n",
            "=============================================================================================\n",
            "Spreadsheets are easy to share, and end users have control over the logic involved.\n",
            "=============================================================================================\n",
            "1- NER Approach *****************************************************************************\n",
            "\n",
            "2- Pattern Approach *************************************************************************\n",
            "\n",
            "3- SubTreeMatcher Approach ******************************************************************\n",
            "['Spreadsheets', '', 'users', 'control']\n",
            "\n",
            "4- RAKE Approach ****************************************************************************\n",
            "['end users', 'logic involved', 'spreadsheets']\n",
            "\n",
            "\n",
            "=============================================================================================\n",
            "However, their proliferation can result in “many versions of the truth.”\n",
            "=============================================================================================\n",
            "1- NER Approach *****************************************************************************\n",
            "\n",
            "2- Pattern Approach *************************************************************************\n",
            "\n",
            "3- SubTreeMatcher Approach ******************************************************************\n",
            "\n",
            "4- RAKE Approach ****************************************************************************\n",
            "['proliferation', 'result', 'versions']\n",
            "\n",
            "\n",
            "=============================================================================================\n",
            "In other words, it can be challenging to determine if a particular user has the most relevant version of a spreadsheet, with the most current data and logic in it.\n",
            "=============================================================================================\n",
            "1- NER Approach *****************************************************************************\n",
            "\n",
            "2- Pattern Approach *************************************************************************\n",
            "\n",
            "3- SubTreeMatcher Approach ******************************************************************\n",
            "['', 'words', 'it', 'version', '', 'data']\n",
            "\n",
            "4- RAKE Approach ****************************************************************************\n",
            "['relevant version', 'current data', 'words']\n",
            "\n",
            "\n",
            "=============================================================================================\n",
            "Moreover, if a laptop is lost or a file becomes corrupted, the data and logic within the spreadsheet could be lost.\n",
            "=============================================================================================\n",
            "1- NER Approach *****************************************************************************\n",
            "\n",
            "2- Pattern Approach *************************************************************************\n",
            "\n",
            "3- SubTreeMatcher Approach ******************************************************************\n",
            "\n",
            "4- RAKE Approach ****************************************************************************\n",
            "['laptop', 'lost', 'file']\n",
            "\n",
            "\n",
            "=============================================================================================\n",
            "This is an ongoing challenge because spreadsheet programs such as Microsoft Excel still run on many computers worldwide.\n",
            "=============================================================================================\n",
            "1- NER Approach *****************************************************************************\n",
            "\n",
            "2- Pattern Approach *************************************************************************\n",
            "\n",
            "3- SubTreeMatcher Approach ******************************************************************\n",
            "['This', 'Excel']\n",
            "\n",
            "4- RAKE Approach ****************************************************************************\n",
            "['ongoing challenge', 'spreadsheet programs', 'microsoft excel']\n",
            "\n",
            "\n",
            "=============================================================================================\n",
            "With the proliferation of data islands (or spreadmarts), the need to centralize the data is more pressing than ever.\n",
            "=============================================================================================\n",
            "1- NER Approach *****************************************************************************\n",
            "\n",
            "2- Pattern Approach *************************************************************************\n",
            "\n",
            "3- SubTreeMatcher Approach ******************************************************************\n",
            "['', 'proliferation', 'need', 'data']\n",
            "\n",
            "4- RAKE Approach ****************************************************************************\n",
            "['data islands', 'data', 'proliferation']\n",
            "\n",
            "\n",
            "=============================================================================================\n",
            "As data needs grew, so did more scalable data warehousing solutions.\n",
            "=============================================================================================\n",
            "1- NER Approach *****************************************************************************\n",
            "\n",
            "2- Pattern Approach *************************************************************************\n",
            "\n",
            "3- SubTreeMatcher Approach ******************************************************************\n",
            "['needs', '', 'solutions', '']\n",
            "\n",
            "4- RAKE Approach ****************************************************************************\n",
            "['scalable data warehousing solutions', 'data', 'grew']\n",
            "\n",
            "\n",
            "=============================================================================================\n",
            "supervised learning is a type of machine learning.\n",
            "=============================================================================================\n",
            "1- NER Approach *****************************************************************************\n",
            "\n",
            "2- Pattern Approach *************************************************************************\n",
            "\n",
            "3- SubTreeMatcher Approach ******************************************************************\n",
            "['learning', 'learning']\n",
            "\n",
            "4- RAKE Approach ****************************************************************************\n",
            "['supervised learning', 'machine learning', 'type']\n",
            "\n",
            "\n",
            "=============================================================================================\n",
            "there is a lot of supervised learning algorithms like support vector machine algorithm , knn algorithm , logistic regression , and many more.\n",
            "=============================================================================================\n",
            "1- NER Approach *****************************************************************************\n",
            "['regression']\n",
            "\n",
            "2- Pattern Approach *************************************************************************\n",
            "\n",
            "3- SubTreeMatcher Approach ******************************************************************\n",
            "['', 'algorithms', '', '', '', '', '', '']\n",
            "\n",
            "4- RAKE Approach ****************************************************************************\n",
            "['support vector machine algorithm', 'supervised learning algorithms', 'knn algorithm']\n",
            "\n",
            "\n"
          ],
          "name": "stdout"
        }
      ]
    },
    {
      "cell_type": "code",
      "metadata": {
        "id": "RR-rb7xZ7HEC",
        "colab": {
          "base_uri": "https://localhost:8080/",
          "height": 208
        },
        "outputId": "db80c6f4-52de-4557-dc99-abf2981d9385"
      },
      "source": [
        "dic3 = create_complete_question_function1(sentences, nlp,rake_object)\n",
        "print(\"=============================================================================================\")\n",
        "print(\"1- NER Approach *****************************************************************************\")\n",
        "print(\"=============================================================================================\")\n",
        "list_of_sentences_with_blank_space=list()\n",
        "for sentence in sentences:\n",
        "  if (dic3[str(sentence)]['NER']!=0):\n",
        "    \n",
        "    #print(sentence)\n",
        "    #print(dic2[str(sentence)]['NER'])\n",
        "    z= put_blank_Space_in_NER_Sentences( str(sentence) ,dic2[str(sentence)]['NER'][0])\n",
        "    list_of_sentences_with_blank_space.append(z)\n",
        "    print(z)\n",
        "    print(\"\")\n",
        "  else:\n",
        "    continue\n",
        "\n",
        "  #print(\"2- Pattern Approach *************************************************************************\")\n",
        "  #if (dic2[str(sentence)]['Pattern']!=0):\n",
        "   # print(dic2[str(sentence)]['Pattern'])\n",
        "  #print(\"\")\n",
        "\n",
        "  #print(\"3- SubTreeMatcher Approach ******************************************************************\")\n",
        "  #if (dic2[str(sentence)]['SubTreeMatcher']!=0):\n",
        "  #  print(dic2[str(sentence)]['SubTreeMatcher'])\n",
        "  #print(\"\")\n",
        "\n",
        "  #print(\"4- RAKE Approach ****************************************************************************\")\n",
        "  #if (dic2[str(sentence)]['Rake']!=0):\n",
        "  #  print(dic2[str(sentence)]['Rake'])"
      ],
      "execution_count": null,
      "outputs": [
        {
          "output_type": "stream",
          "text": [
            "=============================================================================================\n",
            "1- NER Approach *****************************************************************************\n",
            "=============================================================================================\n",
            "all the skills needed for the  _________ ,imitation game.\n",
            "\n",
            "GDP in developing countries such as  _________  will continue growing at a high rate.\n",
            "\n",
            "all the skills needed for the  _________ ,imitation game.\n",
            "\n",
            "there is a lot of supervised learning algorithms like support vector machine algorithm , knn algorithm , logistic  _________  , and many more.\n",
            "\n"
          ],
          "name": "stdout"
        }
      ]
    },
    {
      "cell_type": "code",
      "metadata": {
        "id": "mXZORiJ90PA0",
        "colab": {
          "base_uri": "https://localhost:8080/",
          "height": 176
        },
        "outputId": "1e03a2c2-7ab0-4fa2-c6f2-0ac26e4c427c"
      },
      "source": [
        "create_complete_question_function(0)"
      ],
      "execution_count": null,
      "outputs": [
        {
          "output_type": "stream",
          "text": [
            "[all the skills needed for the Turing Test,imitation game., reem is a good person., meshmesh is a good cat., he eats alot of dry food., GDP in developing countries such as Vietnam will continue growing at a high rate., Here is how you can keep your car and other vehicles clean., Here is how you can keep your car or other vehicles clean., Eight people, including two children, were injured in the explosion., A healthy eating pattern includes fruits, especially whole fruits., mom answers the phone, and the table is broken by marwan., today will be a good day., the garden was watered by the man., how does k-means algorithm work?, and what about talking about data science., all the skills needed for the Turing Test,imitation game., alaa was fantastic in microsoft.  , the environment does not change with the passage of time,but the agent's performance score does., The introduction of spreadsheets enabled business users to create simple logic on data structured in rows and columns and create their own analyses of business problems., Database administrator training is not required to create spreadsheets: They can be set up to do many things quickly and independently of information technology (IT) groups., Spreadsheets are easy to share, and end users have control over the logic involved., However, their proliferation can result in “many versions of the truth., ”, In other words, it can be challenging to determine if a particular user has the most relevant version of a spreadsheet, with the most current data and logic in it., Moreover, if a laptop is lost or a file becomes corrupted, the data and logic within the spreadsheet could be lost., This is an ongoing challenge because spreadsheet programs such as Microsoft Excel still run on many computers worldwide., With the proliferation of data islands (or spreadmarts), the need to centralize the data is more pressing than ever., As data needs grew, so did more scalable data warehousing solutions., supervised learning is a type of machine learning., there is a lot of supervised learning algorithms like support vector machine algorithm , knn algorithm , logistic regression , and many more.]\n",
            "[GDP in developing countries such as Vietnam will continue growing at a high rate, Here is how you can keep your car and other vehicles clean, Here is how you can keep your car or other vehicles clean, Eight people, including two children, were injured in the explosion, A healthy eating pattern includes fruits, especially whole fruits, This is an ongoing challenge because spreadsheet programs such as Microsoft Excel still run on many computers worldwide]\n"
          ],
          "name": "stdout"
        },
        {
          "output_type": "execute_result",
          "data": {
            "text/plain": [
              "[[all the skills needed for the Turing Test,imitation game.,\n",
              "  [['Turing Test', 'experiment'], ['imitation game', 'actingHumanly']]],\n",
              " [all the skills needed for the Turing Test,imitation game.,\n",
              "  [['Turing Test', 'experiment'], ['imitation game', 'actingHumanly']]],\n",
              " [there is a lot of supervised learning algorithms like support vector machine algorithm , knn algorithm , logistic regression , and many more.,\n",
              "  [['regression', 'Supervised learning']]]]"
            ]
          },
          "metadata": {
            "tags": []
          },
          "execution_count": 164
        }
      ]
    },
    {
      "cell_type": "code",
      "metadata": {
        "id": "169-CgeCcZfK",
        "colab": {
          "base_uri": "https://localhost:8080/",
          "height": 537
        },
        "outputId": "831cb77f-1910-4124-c472-eca157c5166d"
      },
      "source": [
        "create_complete_question_function(1)"
      ],
      "execution_count": null,
      "outputs": [
        {
          "output_type": "execute_result",
          "data": {
            "text/plain": [
              "[['GDP in developing countries such as Vietnam will continue growing at a high rate',\n",
              "  [[13888292881017009137,\n",
              "    'pattern_1',\n",
              "    2,\n",
              "    7,\n",
              "    'developing countries such as Vietnam'],\n",
              "   [13888292881017009137, 'pattern_1', 3, 7, 'countries such as Vietnam']]],\n",
              " ['Here is how you can keep your car and other vehicles clean',\n",
              "  [[15719126060659784350, 'pattern_2', 7, 11, 'car and other vehicles']]],\n",
              " ['Here is how you can keep your car or other vehicles clean',\n",
              "  [[15719126060659784350, 'pattern_2', 7, 11, 'car or other vehicles']]],\n",
              " ['Eight people, including two children, were injured in the explosion',\n",
              "  [[13375652922493068680,\n",
              "    'pattern_3',\n",
              "    0,\n",
              "    6,\n",
              "    'Eight people, including two children'],\n",
              "   [13375652922493068680,\n",
              "    'pattern_3',\n",
              "    1,\n",
              "    6,\n",
              "    'people, including two children']]],\n",
              " ['A healthy eating pattern includes fruits, especially whole fruits',\n",
              "  [[9514930324123629828,\n",
              "    'pattern_4',\n",
              "    5,\n",
              "    10,\n",
              "    'fruits, especially whole fruits']]],\n",
              " ['This is an ongoing challenge because spreadsheet programs such as Microsoft Excel still run on many computers worldwide',\n",
              "  [[13888292881017009137, 'pattern_1', 7, 11, 'programs such as Microsoft']]]]"
            ]
          },
          "metadata": {
            "tags": []
          },
          "execution_count": 170
        }
      ]
    },
    {
      "cell_type": "code",
      "metadata": {
        "id": "9mrSOD18qr0E",
        "colab": {
          "base_uri": "https://localhost:8080/",
          "height": 1000
        },
        "outputId": "da4c5c78-621d-49bb-f206-d7e58b6f65ba"
      },
      "source": [
        "create_complete_question_function(2)"
      ],
      "execution_count": null,
      "outputs": [
        {
          "output_type": "execute_result",
          "data": {
            "text/plain": [
              "[['all the skills needed for the Turing Test,imitation game.',\n",
              "  [['',\n",
              "    'Test',\n",
              "    'not passive sentence',\n",
              "    'all the skills needed for the Turing Test'],\n",
              "   ['', '', 'not passive sentence', 'imitation game.']]],\n",
              " ['Eight people, including two children, were injured in the explosion.',\n",
              "  [['', '', 'not passive sentence', 'Eight people'],\n",
              "   ['', 'children', 'not passive sentence', ' including two children'],\n",
              "   ['',\n",
              "    'explosion',\n",
              "    'not passive sentence',\n",
              "    ' were injured in the explosion.']]],\n",
              " ['A healthy eating pattern includes fruits, especially whole fruits.',\n",
              "  [['pattern',\n",
              "    'fruits',\n",
              "    'not passive sentence',\n",
              "    'A healthy eating pattern includes fruits'],\n",
              "   ['', '', 'not passive sentence', ' especially whole fruits.']]],\n",
              " ['mom answers the phone, and the table is broken by marwan.',\n",
              "  [['mom', 'phone', 'not passive sentence', 'mom answers the phone'],\n",
              "   ['marwan',\n",
              "    'table',\n",
              "    'passive sentence',\n",
              "    ' and the table is broken by marwan.']]],\n",
              " ['today will be a good day.', [['today', '', 'not passive sentence']]],\n",
              " ['the garden was watered by the man.',\n",
              "  [['man', 'garden', 'passive sentence']]],\n",
              " ['how does k-means algorithm work?', [['', 'work', 'not passive sentence']]],\n",
              " ['and what about talking about data science.',\n",
              "  [['', 'science', 'not passive sentence']]],\n",
              " ['all the skills needed for the Turing Test,imitation game.',\n",
              "  [['',\n",
              "    'Test',\n",
              "    'not passive sentence',\n",
              "    'all the skills needed for the Turing Test'],\n",
              "   ['', '', 'not passive sentence', 'imitation game.']]],\n",
              " [\"the environment does not change with the passage of time,but the agent's performance score does.\",\n",
              "  [['environment',\n",
              "    'passage',\n",
              "    'not passive sentence',\n",
              "    'the environment does not change with the passage of time'],\n",
              "   ['score',\n",
              "    '',\n",
              "    'not passive sentence',\n",
              "    \"but the agent's performance score does.\"]]],\n",
              " ['The introduction of spreadsheets enabled business users to create simple logic on data structured in rows and columns and create their own analyses of business problems.',\n",
              "  [['introduction', 'spreadsheets', 'not passive sentence']]],\n",
              " ['Database administrator training is not required to create spreadsheets: They can be set up to do many things quickly and independently of information technology (IT) groups.',\n",
              "  [['spreadsheets', 'training', 'passive sentence']]],\n",
              " ['Spreadsheets are easy to share, and end users have control over the logic involved.',\n",
              "  [['Spreadsheets',\n",
              "    '',\n",
              "    'not passive sentence',\n",
              "    'Spreadsheets are easy to share'],\n",
              "   ['users',\n",
              "    'control',\n",
              "    'not passive sentence',\n",
              "    ' and end users have control over the logic involved.']]],\n",
              " ['However, their proliferation can result in “many versions of the truth.',\n",
              "  [['', '', 'not passive sentence', 'However'],\n",
              "   ['proliferation',\n",
              "    '“',\n",
              "    'not passive sentence',\n",
              "    ' their proliferation can result in “many versions of the truth.']]],\n",
              " ['”', [['', '', 'not passive sentence']]],\n",
              " ['In other words, it can be challenging to determine if a particular user has the most relevant version of a spreadsheet, with the most current data and logic in it.',\n",
              "  [['', 'words', 'not passive sentence', 'In other words'],\n",
              "   ['it',\n",
              "    'version',\n",
              "    'not passive sentence',\n",
              "    ' it can be challenging to determine if a particular user has the most relevant version of a spreadsheet'],\n",
              "   ['',\n",
              "    'data',\n",
              "    'not passive sentence',\n",
              "    ' with the most current data and logic in it.']]],\n",
              " ['Moreover, if a laptop is lost or a file becomes corrupted, the data and logic within the spreadsheet could be lost.',\n",
              "  [['', '', 'not passive sentence', 'Moreover'],\n",
              "   ['',\n",
              "    'laptop',\n",
              "    'passive sentence',\n",
              "    ' if a laptop is lost or a file becomes corrupted'],\n",
              "   ['spreadsheet',\n",
              "    'data',\n",
              "    'passive sentence',\n",
              "    ' the data and logic within the spreadsheet could be lost.']]],\n",
              " ['This is an ongoing challenge because spreadsheet programs such as Microsoft Excel still run on many computers worldwide.',\n",
              "  [['This', 'Excel', 'not passive sentence']]],\n",
              " ['With the proliferation of data islands (or spreadmarts), the need to centralize the data is more pressing than ever.',\n",
              "  [['',\n",
              "    'proliferation',\n",
              "    'not passive sentence',\n",
              "    'With the proliferation of data islands (or spreadmarts)'],\n",
              "   ['need',\n",
              "    'data',\n",
              "    'not passive sentence',\n",
              "    ' the need to centralize the data is more pressing than ever.']]],\n",
              " ['As data needs grew, so did more scalable data warehousing solutions.',\n",
              "  [['needs', '', 'not passive sentence', 'As data needs grew'],\n",
              "   ['',\n",
              "    'solutions',\n",
              "    'not passive sentence',\n",
              "    ' so did more scalable data warehousing solutions.']]],\n",
              " ['supervised learning is a type of machine learning.',\n",
              "  [['learning', 'learning', 'not passive sentence']]],\n",
              " ['there is a lot of supervised learning algorithms like support vector machine algorithm , knn algorithm , logistic regression , and many more.',\n",
              "  [['',\n",
              "    'algorithms',\n",
              "    'not passive sentence',\n",
              "    'there is a lot of supervised learning algorithms like support vector machine algorithm '],\n",
              "   ['', 'algorithm', 'not passive sentence', ' knn algorithm '],\n",
              "   ['', '', 'not passive sentence', ' logistic regression '],\n",
              "   ['', '', 'not passive sentence', ' and many more.']]]]"
            ]
          },
          "metadata": {
            "tags": []
          },
          "execution_count": 171
        }
      ]
    },
    {
      "cell_type": "code",
      "metadata": {
        "id": "vmnj7d4iqxdw",
        "colab": {
          "base_uri": "https://localhost:8080/",
          "height": 1000
        },
        "outputId": "7a5a5a7e-a9c4-4f74-ddf3-c37ea291eade"
      },
      "source": [
        "create_complete_question_function(3)"
      ],
      "execution_count": null,
      "outputs": [
        {
          "output_type": "execute_result",
          "data": {
            "text/plain": [
              "[['all the skills needed for the Turing Test,imitation game.',\n",
              "  [['skills needed', 4.0], ['turing test', 4.0], ['imitation game', 4.0]]],\n",
              " ['reem is a good person.', [['good person', 4.0], ['reem', 1.0]]],\n",
              " ['meshmesh is a good cat.', [['good cat', 4.0], ['meshmesh', 1.0]]],\n",
              " ['he eats alot of dry food.', [['eats alot', 4.0], ['dry food', 4.0]]],\n",
              " ['GDP in developing countries such as Vietnam will continue growing at a high rate.',\n",
              "  [['developing countries', 4.0],\n",
              "   ['continue growing', 4.0],\n",
              "   ['high rate', 4.0]]],\n",
              " ['Here is how you can keep your car and other vehicles clean.',\n",
              "  [['vehicles clean', 4.0], ['car', 1.0]]],\n",
              " ['Here is how you can keep your car or other vehicles clean.',\n",
              "  [['vehicles clean', 4.0], ['car', 1.0]]],\n",
              " ['Eight people, including two children, were injured in the explosion.',\n",
              "  [['people', 1.0], ['including', 1.0], ['children', 1.0]]],\n",
              " ['A healthy eating pattern includes fruits, especially whole fruits.',\n",
              "  [['healthy eating pattern includes fruits', 23.0], ['fruits', 3.0]]],\n",
              " ['mom answers the phone, and the table is broken by marwan.',\n",
              "  [['mom answers', 4.0], ['phone', 1.0], ['table', 1.0]]],\n",
              " ['today will be a good day.', [['good day', 4.0], ['today', 1.0]]],\n",
              " ['the garden was watered by the man.',\n",
              "  [['garden', 1.0], ['watered', 1.0], ['man', 1.0]]],\n",
              " ['how does k-means algorithm work?', [['k-means algorithm work', 16.0]]],\n",
              " ['and what about talking about data science.',\n",
              "  [['data science', 4.0], ['talking', 1.0]]],\n",
              " ['all the skills needed for the Turing Test,imitation game.',\n",
              "  [['skills needed', 4.0], ['turing test', 4.0], ['imitation game', 4.0]]],\n",
              " ['alaa was fantastic in microsoft.  ',\n",
              "  [['alaa', 1.0], ['fantastic', 1.0], ['microsoft', 1.0]]],\n",
              " [\"the environment does not change with the passage of time,but the agent's performance score does.\",\n",
              "  [['performance score', 4.0], ['environment', 1.0], ['change', 1.0]]],\n",
              " ['The introduction of spreadsheets enabled business users to create simple logic on data structured in rows and columns and create their own analyses of business problems.',\n",
              "  [['spreadsheets enabled business users', 15.0],\n",
              "   ['create simple logic', 8.0],\n",
              "   ['business problems', 5.0]]],\n",
              " ['Database administrator training is not required to create spreadsheets: They can be set up to do many things quickly and independently of information technology (IT) groups.',\n",
              "  [['database administrator training', 9.0],\n",
              "   ['create spreadsheets', 4.0],\n",
              "   ['things quickly', 4.0]]],\n",
              " ['Spreadsheets are easy to share, and end users have control over the logic involved.',\n",
              "  [['end users', 4.0], ['logic involved', 4.0], ['spreadsheets', 1.0]]],\n",
              " ['However, their proliferation can result in “many versions of the truth.',\n",
              "  [['proliferation', 1.0], ['result', 1.0], ['versions', 1.0]]],\n",
              " ['In other words, it can be challenging to determine if a particular user has the most relevant version of a spreadsheet, with the most current data and logic in it.',\n",
              "  [['relevant version', 4.0], ['current data', 4.0], ['words', 1.0]]],\n",
              " ['Moreover, if a laptop is lost or a file becomes corrupted, the data and logic within the spreadsheet could be lost.',\n",
              "  [['laptop', 1.0], ['lost', 1.0], ['file', 1.0]]],\n",
              " ['This is an ongoing challenge because spreadsheet programs such as Microsoft Excel still run on many computers worldwide.',\n",
              "  [['ongoing challenge', 4.0],\n",
              "   ['spreadsheet programs', 4.0],\n",
              "   ['microsoft excel', 4.0]]],\n",
              " ['With the proliferation of data islands (or spreadmarts), the need to centralize the data is more pressing than ever.',\n",
              "  [['data islands', 3.5], ['data', 1.5], ['proliferation', 1.0]]],\n",
              " ['As data needs grew, so did more scalable data warehousing solutions.',\n",
              "  [['scalable data warehousing solutions', 14.5],\n",
              "   ['data', 2.5],\n",
              "   ['grew', 1.0]]],\n",
              " ['supervised learning is a type of machine learning.',\n",
              "  [['supervised learning', 4.0], ['machine learning', 4.0], ['type', 1.0]]],\n",
              " ['there is a lot of supervised learning algorithms like support vector machine algorithm , knn algorithm , logistic regression , and many more.',\n",
              "  [['support vector machine algorithm', 15.0],\n",
              "   ['supervised learning algorithms', 9.0],\n",
              "   ['knn algorithm', 5.0]]]]"
            ]
          },
          "metadata": {
            "tags": []
          },
          "execution_count": 172
        }
      ]
    }
  ]
}